{
 "cells": [
  {
   "cell_type": "markdown",
   "id": "e9f0e524",
   "metadata": {},
   "source": [
    "# Model Selection Notebook\n",
    "\n",
    "**Objective:** Compare FNN, RNN and Transformer on FPL player‐sequence data, tune key hyperparameters, visualize training, and select the best model for evaluation\n"
   ]
  },
  {
   "cell_type": "markdown",
   "id": "e7ff5c11",
   "metadata": {},
   "source": [
    "### Getting the Data\n",
    "\n",
    "We use the `make_dataset.py` script to transform processed data into a model-ready format. This includes:\n",
    "\n",
    "- Dropping the necessary columns\n",
    "- Creating time sequences\n",
    "- Handling missing values\n",
    "- Creating attention masks\n",
    "\n",
    "\n",
    "What do we need to do:\n",
    "\n",
    "- Splitting into training/validation/test sets\n",
    "- Comparing different model architectures\n",
    "- Visualizing the training and model selection\n",
    "- Hyperparameter tuning\n",
    "\n",
    "\n",
    "!!! Our data is both sparse and has outliers, needs to be kept in mind"
   ]
  },
  {
   "cell_type": "code",
   "execution_count": 1,
   "id": "0aac0841",
   "metadata": {},
   "outputs": [],
   "source": [
    "# for corrent imports\n",
    "import sys\n",
    "from pathlib import Path\n",
    "\n",
    "PROJECT_ROOT = Path().resolve().parent  \n",
    "SRC_DIR       = PROJECT_ROOT / \"src\"\n",
    "DATA_DIR      = PROJECT_ROOT / \"data\"\n",
    "\n",
    "sys.path.insert(0, str(SRC_DIR))       \n"
   ]
  },
  {
   "cell_type": "code",
   "execution_count": 2,
   "id": "f9dc260b",
   "metadata": {},
   "outputs": [],
   "source": [
    "import numpy as np\n",
    "import pandas as pd\n",
    "import matplotlib.pyplot as plt\n",
    "import torch\n",
    "import torch.nn as nn\n",
    "import torch.optim as optim\n",
    "import pytorch_lightning as pl\n",
    "import math\n",
    "from torch.utils.data import DataLoader\n",
    "\n",
    "from pytorch_lightning.callbacks import EarlyStopping, LearningRateMonitor\n",
    "from torch.optim.lr_scheduler import SequentialLR, LinearLR, MultiStepLR\n",
    "\n",
    "from sklearn.preprocessing import StandardScaler, MaxAbsScaler \n",
    "import os\n",
    "import seaborn as sns\n",
    "\n",
    "from data.make_dataset import prepare_player_sequences, FPLPlayerSequenceDataset"
   ]
  },
  {
   "cell_type": "code",
   "execution_count": 3,
   "id": "18a5a01f",
   "metadata": {},
   "outputs": [
    {
     "name": "stdout",
     "output_type": "stream",
     "text": [
      "--- Starting Data Preparation for Sequences from C:\\Users\\asus\\OneDrive\\Desktop\\projects\\AI_project\\data\\processed_data.csv ---\n",
      "Successfully loaded data. Shape: (28742, 133)\n",
      "\n",
      "--- Cleaning Data and Selecting Numeric Features ---\n",
      "Column 'name' is of type object and couldn't be converted to numeric. Marked for dropping.\n",
      "Column 'position' is of type object and couldn't be converted to numeric. Marked for dropping.\n",
      "Column 'team' is of type object and couldn't be converted to numeric. Marked for dropping.\n",
      "Column 'kickoff_time' is of type object and couldn't be converted to numeric. Marked for dropping.\n",
      "Column '['assists', 'bonus', 'bps', 'clean_sheets', 'creativity', 'goals_conceded', 'goals_scored', 'ict_index', 'influence', 'minutes', 'own_goals', 'penalties_missed', 'penalties_saved', 'red_cards', 'saves', 'starts', 'threat', 'yellow_cards', 'xP', 'expected_assists', 'expected_goal_involvements', 'expected_goals', 'expected_goals_conceded', 'value', 'selected', 'transfers_balance', 'transfers_in', 'transfers_out', 'team_a_score', 'team_h_score']' are dropped for preventing data leakage.\n",
      "Columns dropped for other reasons: ['name', 'position', 'team', 'kickoff_time']\n",
      "Selected 106 features for sequences: ['opponent_team', 'was_home', 'player_id', 'total_points', 'GW']...\n",
      "\n",
      "Sorting data by 'player_id' and then 'GW'...\n",
      "\n",
      "--- Creating Fixed-Length Sequences (Max Gameweeks: 38) ---\n",
      "Successfully created sequences. Shape: (28742, 38, 104)\n",
      "Targets shape: (28742,)\n",
      "Attention masks shape: (28742, 38)\n"
     ]
    }
   ],
   "source": [
    "# generate sequences\n",
    "# work on the time issue\n",
    "sequences, masks, targets = prepare_player_sequences(\n",
    "    df_path=str(DATA_DIR / \"processed_data.csv\"),\n",
    "    target_col=\"total_points\",\n",
    "    max_gws_in_sequence= 38,\n",
    ")\n",
    "\n"
   ]
  },
  {
   "cell_type": "code",
   "execution_count": 4,
   "id": "c1fe682b",
   "metadata": {},
   "outputs": [
    {
     "name": "stdout",
     "output_type": "stream",
     "text": [
      "Fitting StandardScaler on training data features...\n"
     ]
    }
   ],
   "source": [
    "scaler = StandardScaler() #better for sparse data \n",
    "print(\"Fitting StandardScaler on training data features...\")\n",
    "\n",
    "def scale_3d_sequences(sequence_array_3d, fitted_scaler):\n",
    "    if sequence_array_3d.shape[0] == 0: # Handle empty array\n",
    "        return sequence_array_3d \n",
    "    \n",
    "    original_shape = sequence_array_3d.shape\n",
    "    num_features_in_array = original_shape[2]\n",
    "    \n",
    "    # Reshape to 2D: [N_samples_in_split * S_seq_len, F_features]\n",
    "    reshaped_array = sequence_array_3d.reshape(-1, num_features_in_array)\n",
    "    \n",
    "    # Transform using the FITTED scaler\n",
    "    scaled_reshaped_array = fitted_scaler.transform(reshaped_array)\n",
    "    \n",
    "    # Reshape back to original 3D shape\n",
    "    return scaled_reshaped_array.reshape(original_shape)\n",
    "\n",
    "def dataloader_create(sequences, masks, targets, batch_size = 128):\n",
    "\n",
    "    # train/val/test split\n",
    "    # we do it a chronological way \n",
    "    n = sequences.shape[0]\n",
    "\n",
    "    train_end = int(n * 0.70)          \n",
    "    val_end   = train_end + int(n * 0.15)  \n",
    "\n",
    "    train_idx = np.arange(0, train_end)\n",
    "    val_idx   = np.arange(train_end, val_end)\n",
    "    test_idx  = np.arange(val_end, n)\n",
    "\n",
    "    train_sequences_reshaped = sequences[train_idx].reshape(-1, sequences.shape[2])\n",
    "\n",
    "    scaler.fit(train_sequences_reshaped)\n",
    "\n",
    "\n",
    "    sequences_train_scaled = scale_3d_sequences(sequences[train_idx], scaler)\n",
    "    sequences_val_scaled = scale_3d_sequences(sequences[val_idx], scaler)\n",
    "    sequences_test_scaled = scale_3d_sequences(sequences[test_idx], scaler)\n",
    "\n",
    "    masks_train = masks[train_idx]\n",
    "    targets_train = targets[train_idx]\n",
    "\n",
    "    masks_val = masks[val_idx]\n",
    "    targets_val = targets[val_idx]\n",
    "\n",
    "    masks_test = masks[test_idx]\n",
    "    targets_test = targets[test_idx]\n",
    "\n",
    "\n",
    "\n",
    "    train_ds = FPLPlayerSequenceDataset(sequences_train_scaled, targets_train, masks_train) \n",
    "    val_ds = FPLPlayerSequenceDataset(sequences_val_scaled, targets_val, masks_val)     \n",
    "    test_ds = FPLPlayerSequenceDataset(sequences_test_scaled, targets_test, masks_test)     \n",
    "\n",
    "\n",
    "\n",
    "\n",
    "    train_loader = DataLoader(train_ds, batch_size=batch_size, shuffle=True) \n",
    "    val_loader   = DataLoader(val_ds, batch_size=batch_size, shuffle=False)\n",
    "    test_loader  = DataLoader(test_ds, batch_size=batch_size, shuffle=False)\n",
    "\n",
    "\n",
    "    print(f\"Train/Val/Test sizes: {len(train_ds)}/{len(val_ds)}/{len(test_ds)}\")\n",
    "\n",
    "    return train_loader, val_loader, test_loader"
   ]
  },
  {
   "cell_type": "code",
   "execution_count": 5,
   "id": "7d669c97",
   "metadata": {},
   "outputs": [
    {
     "name": "stdout",
     "output_type": "stream",
     "text": [
      "Train/Val/Test sizes: 20119/4311/4312\n",
      "Sample batch - Sequences shape: torch.Size([128, 38, 104])\n",
      "Sample batch - Attention Mask shape: torch.Size([128, 38])\n",
      "Sample batch - Targets shape: torch.Size([128, 1])\n"
     ]
    }
   ],
   "source": [
    "train_loader, val_loader, test_loader = dataloader_create(sequences, masks, targets)\n",
    "\n",
    "\n",
    "sample_seq, sample_mask, sample_target = next(iter(train_loader))\n",
    "print(f\"Sample batch - Sequences shape: {sample_seq.shape}\")      # (batch_size, gameweeks, num_features)\n",
    "print(f\"Sample batch - Attention Mask shape: {sample_mask.shape}\") # (batch_size, gameweeks)\n",
    "print(f\"Sample batch - Targets shape: {sample_target.shape}\")       # (batch_size, 1)         \n"
   ]
  },
  {
   "cell_type": "markdown",
   "id": "ca8dc41e",
   "metadata": {},
   "source": [
    "## Model Architectures Under Consideration\n",
    "\n",
    "We define two architectures:\n",
    "- **RNN**: LSTM-based sequence model  \n",
    "- **Transformer**: self-attention encoder  \n",
    "\n",
    "We can also use an FNN however we work with time series data it is better to use models supporthing it\n",
    "\n",
    "**Loss Function:** We aim to predict FPL points, a continuous numerical value, making this a regression task. As points are generally int it can also be formulated as classification but we will go with regression. Common loss functions include Mean Squared Error (`nn.MSELoss()`), which heavily penalizes large errors, or Mean Absolute Error (`nn.SmoothL1Loss()`), which is less sensitive to outliers. Since we have a lot of 0s in target while have significant outliers that are highly impactful we will start with `nn.SmoothL1Loss()`."
   ]
  },
  {
   "cell_type": "markdown",
   "id": "a48b46dd",
   "metadata": {},
   "source": [
    "### RNN"
   ]
  },
  {
   "cell_type": "code",
   "execution_count": 6,
   "id": "a6967feb",
   "metadata": {},
   "outputs": [],
   "source": [
    "class RNN(pl.LightningModule):\n",
    "    def __init__(self, n_features, hidden_dim=128, n_layers=2, dropout=0.4, lr=1e-4, weight_decay = 1e-5, underprediction_penalty= None):\n",
    "        super().__init__()\n",
    "        self.save_hyperparameters()\n",
    "        self.lstm = nn.LSTM(\n",
    "            input_size=n_features,\n",
    "            hidden_size=hidden_dim,\n",
    "            num_layers=n_layers,\n",
    "            batch_first=True,\n",
    "            dropout=dropout,\n",
    "        )\n",
    "        self.fc = nn.Linear(hidden_dim, 1)\n",
    "\n",
    "        \n",
    "        self.criterion = nn.SmoothL1Loss(beta=1.0)\n",
    "\n",
    "        self.lr = lr\n",
    "        self.weight_decay = weight_decay\n",
    "\n",
    "    def forward(self, x, mask):\n",
    "        out, _ = self.lstm(x)\n",
    "        lengths = mask.sum(dim=1)       \n",
    "        idx = lengths - 1                \n",
    "      \n",
    "        \n",
    "        last = out[torch.arange(out.size(0)), idx]\n",
    "        return self.fc(last)\n",
    "    \n",
    "\n",
    "    def training_step(self, batch, batch_idx):\n",
    "        x, mask, y = batch\n",
    "        preds = self(x, mask)\n",
    "\n",
    "        loss = self.criterion(preds, y)\n",
    "        self.log(\"train_loss\", loss, on_step=False, on_epoch=True, prog_bar=True, logger=True)\n",
    "        return loss\n",
    "\n",
    "    def validation_step(self, batch, batch_idx):\n",
    "        x, mask, y = batch\n",
    "        preds = self(x, mask)\n",
    "\n",
    "        #for validation step we want to be accurate to original points which are integers so we round the prediction\n",
    "\n",
    "        preds_rounded = torch.round(preds) \n",
    "\n",
    "\n",
    "        loss = self.criterion(preds_rounded, y)\n",
    "        self.log(\"val_loss\", loss, on_step=False, on_epoch=True, prog_bar=True, logger=True)\n",
    "\n",
    "        # Accuracy within a tolerance (e.g., prediction is within +/- 1 point of true)\n",
    "        tolerance = 1.0\n",
    "        accuracy_tolerant = (torch.abs(preds_rounded - y) <= tolerance).float().mean()\n",
    "        self.log(\"val_accuracy_tolerant_1pt\", accuracy_tolerant, on_step=False, on_epoch=True, prog_bar=True, logger=True)\n",
    "        \n",
    "\n",
    "        return loss\n",
    "\n",
    "    def test_step(self, batch, batch_idx):\n",
    "        x, mask, y = batch\n",
    "        preds = self(x, mask)\n",
    "\n",
    "        preds_rounded = torch.round(preds) \n",
    "\n",
    "\n",
    "        loss = self.criterion(preds_rounded, y)\n",
    "        self.log(\"test_loss\", loss, on_step=False, on_epoch=True, prog_bar=True, logger=True)\n",
    "\n",
    "        accuracy_exact = (preds_rounded == y).float().mean()\n",
    "        self.log(\"test_accuracy_exact\", accuracy_exact, prog_bar=False, on_step=False, on_epoch=True)\n",
    "\n",
    "        \n",
    "        # Accuracy within a tolerance (e.g., prediction is within +/- 1 point of true)\n",
    "        tolerance = 1.0\n",
    "        accuracy_tolerant = (torch.abs(preds_rounded - y) <= tolerance).float().mean()\n",
    "        self.log(\"test_accuracy_tolerant_1pt\", accuracy_tolerant, on_step=False, on_epoch=True, prog_bar=True, logger=True)\n",
    "        \n",
    "        \n",
    "        return loss\n",
    "\n",
    "    def configure_optimizers(self):\n",
    "        optimizer = optim.AdamW(self.parameters(), lr=self.lr, weight_decay=self.weight_decay)\n",
    "        \n",
    "        scheduler = torch.optim.lr_scheduler.ReduceLROnPlateau(\n",
    "                optimizer,\n",
    "                mode=\"min\",      # Reduce LR when the monitored quantity has stopped decreasing\n",
    "                factor=0.1,      # Factor by which the learning rate will be reduced (new_lr = lr * factor)\n",
    "                patience=3,      # Number of epochs with no improvement after which LR will be reduced\n",
    "                verbose=True,    # Print a message when LR is reduced\n",
    "                min_lr=1e-7      # Lower bound on the learning rate\n",
    "            )\n",
    "            \n",
    "        return {\n",
    "                \"optimizer\": optimizer,\n",
    "                \"lr_scheduler\": {\n",
    "                    \"scheduler\": scheduler,\n",
    "                    \"monitor\": \"val_loss\", # Metric to monitor for LR reduction\n",
    "                    \"interval\": \"epoch\",   # Check scheduler at the end of each epoch\n",
    "                    \"frequency\": 1         # Check every 1 epoch\n",
    "                }\n",
    "            }\n",
    "\n",
    "    \n"
   ]
  },
  {
   "cell_type": "markdown",
   "id": "bbde615e",
   "metadata": {},
   "source": [
    "### Transformer\n",
    "\n",
    "As transformers can't understand the order of the sequences we add a positional encoding to teach the order of gameweeks"
   ]
  },
  {
   "cell_type": "code",
   "execution_count": 7,
   "id": "f6ee205c",
   "metadata": {},
   "outputs": [],
   "source": [
    "class PositionalEncoding(nn.Module):\n",
    "    def __init__(self, d_model, dropout = 0.2, sequence_length = 38): \n",
    "        super().__init__()\n",
    "        self.dropout = nn.Dropout(p=dropout)\n",
    "\n",
    "        position = torch.arange(sequence_length).unsqueeze(1)\n",
    "        div_term = torch.exp(torch.arange(0, d_model, 2) * (-math.log(10000.0) / d_model))\n",
    "        pe = torch.zeros(sequence_length, 1, d_model)\n",
    "        \n",
    "        \n",
    "        pe[:, 0, 0::2] = torch.sin(position * div_term)\n",
    "        pe[:, 0, 1::2] = torch.cos(position * div_term)\n",
    "        self.register_buffer(\"pe\", pe)\n",
    "\n",
    "    def forward(self, x):\n",
    "        x = x + self.pe.squeeze(1)\n",
    "        return self.dropout(x)"
   ]
  },
  {
   "cell_type": "markdown",
   "id": "f2e71294",
   "metadata": {},
   "source": [
    "Then we use encoder only transformer model with a linear classification head\n",
    "\n",
    "Weighted MSE/MAE (More Advanced): If you particularly care about predicting higher scores better, you could try to implement a custom loss function that gives higher weight to errors on samples where y_true is large. This is more complex to implement and tune.\n",
    "\n",
    "\n",
    "Transform the Target Variable (and Inverse Transform Predictions):\n",
    "Log Transformation: log(1 + y). This compresses the scale of large y values, making the distribution less skewed. The model then predicts log(1 + y_pred_transformed). You'd need to inverse transform the predictions before calculating MAE/MSE against the original y for interpretation: exp(y_pred_transformed) - 1.\n"
   ]
  },
  {
   "cell_type": "code",
   "execution_count": 8,
   "id": "737979f2",
   "metadata": {},
   "outputs": [],
   "source": [
    "class Transformer(pl.LightningModule):\n",
    "    def __init__(self,\n",
    "                 input_features_dim,\n",
    "                 d_model = 256,\n",
    "                 nhead = 4,\n",
    "                 num_encoder_layers = 2,\n",
    "                 dim_feedforward = 512,\n",
    "                 dropout = 0.4,\n",
    "                 sequence_length = 38,\n",
    "                 lr = 5e-5,\n",
    "                 weight_decay = 5e-4,\n",
    "                 warmup_epochs = 5, #useful for transformers\n",
    "                 milestones_after_warmup = [3,7],\n",
    "                 multistep_gamma = 0.2,\n",
    "                 underprediction_penalty= None\n",
    "                 ):\n",
    "        \n",
    "        super().__init__()\n",
    "        self.save_hyperparameters()\n",
    "\n",
    "\n",
    "        # input projection layer necessary for positional encoding \n",
    "        self.input_projection = nn.Linear(input_features_dim, d_model)\n",
    "        nn.init.xavier_uniform_(self.input_projection.weight, gain=0.1)\n",
    "        nn.init.zeros_(self.input_projection.bias)\n",
    "\n",
    "        self.input_norm = nn.LayerNorm(d_model) #this solved it\n",
    "\n",
    "        self.pos_encoder = PositionalEncoding(d_model, dropout, sequence_length=sequence_length)\n",
    "\n",
    "\n",
    "        # encoder layer\n",
    "        encoder_layer = nn.TransformerEncoderLayer(\n",
    "            d_model=d_model,\n",
    "            nhead=nhead,\n",
    "            dim_feedforward=dim_feedforward,\n",
    "            dropout=dropout,\n",
    "            batch_first=True \n",
    "        )\n",
    "        self.transformer_encoder = nn.TransformerEncoder(encoder_layer, num_layers=num_encoder_layers)\n",
    "\n",
    "\n",
    "        # prediction head that predicts a single value (total_points)\n",
    "        self.output_head = nn.Sequential(\n",
    "            nn.Linear(d_model, d_model // 2),\n",
    "            nn.ReLU(),\n",
    "            nn.Dropout(dropout),\n",
    "            nn.Linear(d_model // 2, 1) \n",
    "        )\n",
    "\n",
    "        self.criterion = nn.SmoothL1Loss(beta=1.0)\n",
    "\n",
    "        self.lr = lr\n",
    "        self.weight_decay = weight_decay\n",
    "        self.warmup_epochs = warmup_epochs\n",
    "        self.milestones_after_warmup = milestones_after_warmup\n",
    "        self.multistep_gamma = multistep_gamma\n",
    "\n",
    "\n",
    "\n",
    "\n",
    "    def forward(self, x, mask):\n",
    "        x = self.input_projection(x) # [batch_size, seq_len, d_model] \n",
    "        x = self.input_norm(x)  \n",
    "        x = nn.ReLU()(x) # Apply activation\n",
    "\n",
    "        # Add positional encoding\n",
    "        x = self.pos_encoder(x)\n",
    "        \n",
    "\n",
    "        # Pass through Transformer Encoder\n",
    "        transformer_padding_mask = ~mask # Invert: True for padded, False for valid\n",
    "        encoded_sequence = self.transformer_encoder(x, src_key_padding_mask=transformer_padding_mask) \n",
    "\n",
    "                \n",
    "        # can't feed a 3d tensor into a linear so \n",
    "        batch_size = encoded_sequence.size(0)\n",
    "        sequence_lengths = mask.sum(dim=1) \n",
    "        idx = sequence_lengths-1 # index of last valid gameweek\n",
    "\n",
    "        # turn into 2D and use the final week that captures the context of previous weeks to decide the total points\n",
    "        final_representation = encoded_sequence[torch.arange(batch_size), idx, :] \n",
    "        \n",
    "        prediction = self.output_head(final_representation) # [batch_size, 1]\n",
    "        return prediction\n",
    "\n",
    "\n",
    "    def training_step(self, batch, batch_idx):\n",
    "        x, mask, y = batch\n",
    "        preds = self(x, mask)\n",
    "\n",
    "        loss = self.criterion(preds, y)\n",
    "        \n",
    "        self.log(\"train_loss\", loss, on_step=False, on_epoch=True, prog_bar=True, logger=True)\n",
    "        return loss\n",
    "\n",
    "    def validation_step(self, batch, batch_idx):\n",
    "        x, mask, y = batch\n",
    "        preds = self(x, mask)\n",
    "\n",
    "        preds_rounded = torch.round(preds) \n",
    "\n",
    "\n",
    "        loss = self.criterion(preds_rounded, y)\n",
    "        self.log(\"val_loss\", loss, on_step=False, on_epoch=True, prog_bar=True, logger=True)\n",
    "\n",
    "        # Accuracy within a tolerance (e.g., prediction is within +/- 1 point of true)\n",
    "        tolerance = 1.0\n",
    "        accuracy_tolerant = (torch.abs(preds_rounded - y) <= tolerance).float().mean()\n",
    "        self.log(\"val_accuracy_tolerant_1pt\", accuracy_tolerant, on_step=False, on_epoch=True, prog_bar=True, logger=True)\n",
    "        \n",
    "        return loss\n",
    "\n",
    "\n",
    "    def test_step(self, batch, batch_idx):\n",
    "        x, mask, y = batch\n",
    "        preds = self(x, mask)\n",
    "\n",
    "        preds_rounded = torch.round(preds) \n",
    "\n",
    "\n",
    "        loss = self.criterion(preds_rounded, y)\n",
    "        self.log(\"test_loss\", loss, on_step=False, on_epoch=True, prog_bar=True, logger=True)\n",
    "\n",
    "        accuracy_exact = (preds_rounded == y).float().mean()\n",
    "        self.log(\"test_accuracy_exact\", accuracy_exact, prog_bar=False, on_step=False, on_epoch=True)\n",
    "\n",
    "        # Accuracy within a tolerance (e.g., prediction is within +/- 1 point of true)\n",
    "        tolerance = 1.0\n",
    "        accuracy_tolerant = (torch.abs(preds_rounded - y) <= tolerance).float().mean()\n",
    "        self.log(\"test_accuracy_tolerant_1pt\", accuracy_tolerant, on_step=False, on_epoch=True, prog_bar=True, logger=True)\n",
    "        \n",
    "        return loss\n",
    "\n",
    "\n",
    "\n",
    "\n",
    "    def configure_optimizers(self):\n",
    "        optimizer = optim.AdamW(self.parameters(), lr=self.lr, weight_decay=self.weight_decay)\n",
    "\n",
    "\n",
    "\n",
    "        # warm up for the transformer\n",
    "        scheduler1 = LinearLR(optimizer, \n",
    "                              start_factor=0.01, \n",
    "                              end_factor=1.0, \n",
    "                              total_iters=self.warmup_epochs) \n",
    "\n",
    "      \n",
    "            \n",
    "    \n",
    "        scheduler2 = MultiStepLR(optimizer,\n",
    "                             milestones=self.milestones_after_warmup,\n",
    "                             gamma=self.multistep_gamma) # Factor to reduce LR by (e.g., 0.1 or 0.2)\n",
    "\n",
    "\n",
    "\n",
    "\n",
    "        final_scheduler = SequentialLR(optimizer, schedulers=[scheduler1, scheduler2], milestones=[self.warmup_epochs])\n",
    "\n",
    "\n",
    "        \n",
    "\n",
    "        return {\n",
    "            \"optimizer\": optimizer,\n",
    "            \"lr_scheduler\": {\n",
    "                \"scheduler\": final_scheduler,\n",
    "                \"interval\": \"epoch\",  \n",
    "                \"frequency\": 1\n",
    "\n",
    "            }\n",
    "        }\n",
    "\n",
    "\n",
    "    "
   ]
  },
  {
   "cell_type": "markdown",
   "id": "f9f0c104",
   "metadata": {},
   "source": [
    "## Training\n",
    "\n",
    "Implementation of active players will be explained in later cells"
   ]
  },
  {
   "cell_type": "code",
   "execution_count": 10,
   "id": "55e40bb6",
   "metadata": {},
   "outputs": [
    {
     "name": "stdout",
     "output_type": "stream",
     "text": [
      "--- Starting Data Preparation for Sequences from C:\\Users\\asus\\OneDrive\\Desktop\\projects\\AI_project\\data\\active_players.csv ---\n",
      "Successfully loaded data. Shape: (808, 133)\n",
      "\n",
      "--- Cleaning Data and Selecting Numeric Features ---\n",
      "Column 'name' is of type object and couldn't be converted to numeric. Marked for dropping.\n",
      "Column 'position' is of type object and couldn't be converted to numeric. Marked for dropping.\n",
      "Column 'team' is of type object and couldn't be converted to numeric. Marked for dropping.\n",
      "Column 'kickoff_time' is of type object and couldn't be converted to numeric. Marked for dropping.\n",
      "Column '['assists', 'bonus', 'bps', 'clean_sheets', 'creativity', 'goals_conceded', 'goals_scored', 'ict_index', 'influence', 'minutes', 'own_goals', 'penalties_missed', 'penalties_saved', 'red_cards', 'saves', 'starts', 'threat', 'yellow_cards', 'xP', 'expected_assists', 'expected_goal_involvements', 'expected_goals', 'expected_goals_conceded', 'value', 'selected', 'transfers_balance', 'transfers_in', 'transfers_out', 'team_a_score', 'team_h_score']' are dropped for preventing data leakage.\n",
      "Columns dropped for other reasons: ['name', 'position', 'team', 'kickoff_time']\n",
      "Selected 106 features for sequences: ['opponent_team', 'was_home', 'player_id', 'total_points', 'GW']...\n",
      "\n",
      "Sorting data by 'player_id' and then 'GW'...\n",
      "\n",
      "--- Creating Fixed-Length Sequences (Max Gameweeks: 38) ---\n",
      "Successfully created sequences. Shape: (808, 38, 104)\n",
      "Targets shape: (808,)\n",
      "Attention masks shape: (808, 38)\n"
     ]
    }
   ],
   "source": [
    "# Number of features and sequence length\n",
    "n_feats = sequences.shape[-1]\n",
    "seq_len = 38\n",
    "\n",
    "\n",
    "\n",
    "# Instantiate each LightningModule\n",
    "models = {\n",
    "    \"RNN\": RNN(\n",
    "        n_features=n_feats,\n",
    "    ),\n",
    "    \n",
    "    \"Transformer\": Transformer(\n",
    "        input_features_dim=n_feats,\n",
    "    ),\n",
    "}\n",
    "\n",
    "active_sequences, active_masks, active_targets = prepare_player_sequences(\n",
    "    df_path=str(DATA_DIR / \"active_players.csv\"),\n",
    "    target_col=\"total_points\",\n",
    "    max_gws_in_sequence= 38,\n",
    ")\n",
    "\n",
    "active_sequences_reshaped = active_sequences.reshape(-1, sequences.shape[2])\n",
    "scaler.fit(active_sequences_reshaped) #normally we would use the scaler that we know from training data \n",
    "active_seq_scaled = scale_3d_sequences(active_sequences,scaler)\n",
    "\n",
    "\n",
    "active_ds = FPLPlayerSequenceDataset(active_seq_scaled, active_targets, active_masks) \n",
    "active_loader = DataLoader(active_ds, batch_size=64, shuffle=False) \n"
   ]
  },
  {
   "cell_type": "code",
   "execution_count": 17,
   "id": "13ead27f",
   "metadata": {},
   "outputs": [
    {
     "name": "stderr",
     "output_type": "stream",
     "text": [
      "Using default `ModelCheckpoint`. Consider installing `litmodels` package to enable `LitModelCheckpoint` for automatic upload to the Lightning model registry.\n",
      "GPU available: True (cuda), used: True\n",
      "TPU available: False, using: 0 TPU cores\n",
      "HPU available: False, using: 0 HPUs\n",
      "LOCAL_RANK: 0 - CUDA_VISIBLE_DEVICES: [0]\n",
      "c:\\Users\\asus\\miniconda3\\envs\\ai_project\\Lib\\site-packages\\torch\\optim\\lr_scheduler.py:62: UserWarning: The verbose parameter is deprecated. Please use get_last_lr() to access the learning rate.\n",
      "  warnings.warn(\n",
      "\n",
      "  | Name      | Type         | Params | Mode \n",
      "---------------------------------------------------\n",
      "0 | lstm      | LSTM         | 251 K  | train\n",
      "1 | fc        | Linear       | 129    | train\n",
      "2 | criterion | SmoothL1Loss | 0      | train\n",
      "---------------------------------------------------\n",
      "252 K     Trainable params\n",
      "0         Non-trainable params\n",
      "252 K     Total params\n",
      "1.008     Total estimated model params size (MB)\n",
      "3         Modules in train mode\n",
      "0         Modules in eval mode\n"
     ]
    },
    {
     "name": "stdout",
     "output_type": "stream",
     "text": [
      "▶ Training RNN\n",
      "                                                                           "
     ]
    },
    {
     "name": "stderr",
     "output_type": "stream",
     "text": [
      "c:\\Users\\asus\\miniconda3\\envs\\ai_project\\Lib\\site-packages\\pytorch_lightning\\trainer\\connectors\\data_connector.py:425: The 'val_dataloader' does not have many workers which may be a bottleneck. Consider increasing the value of the `num_workers` argument` to `num_workers=15` in the `DataLoader` to improve performance.\n",
      "c:\\Users\\asus\\miniconda3\\envs\\ai_project\\Lib\\site-packages\\pytorch_lightning\\trainer\\connectors\\data_connector.py:425: The 'train_dataloader' does not have many workers which may be a bottleneck. Consider increasing the value of the `num_workers` argument` to `num_workers=15` in the `DataLoader` to improve performance.\n"
     ]
    },
    {
     "name": "stdout",
     "output_type": "stream",
     "text": [
      "Epoch 0: 100%|██████████| 158/158 [00:03<00:00, 52.19it/s, v_num=36, val_loss=0.569, val_accuracy_tolerant_1pt=0.877, train_loss=0.713]"
     ]
    },
    {
     "name": "stderr",
     "output_type": "stream",
     "text": [
      "Metric val_loss improved. New best score: 0.569\n"
     ]
    },
    {
     "name": "stdout",
     "output_type": "stream",
     "text": [
      "Epoch 1: 100%|██████████| 158/158 [00:02<00:00, 55.54it/s, v_num=36, val_loss=0.567, val_accuracy_tolerant_1pt=0.878, train_loss=0.710]"
     ]
    },
    {
     "name": "stderr",
     "output_type": "stream",
     "text": [
      "Metric val_loss improved by 0.002 >= min_delta = 0.001. New best score: 0.567\n"
     ]
    },
    {
     "name": "stdout",
     "output_type": "stream",
     "text": [
      "Epoch 2: 100%|██████████| 158/158 [00:02<00:00, 53.61it/s, v_num=36, val_loss=0.566, val_accuracy_tolerant_1pt=0.877, train_loss=0.708]"
     ]
    },
    {
     "name": "stderr",
     "output_type": "stream",
     "text": [
      "Metric val_loss improved by 0.001 >= min_delta = 0.001. New best score: 0.566\n"
     ]
    },
    {
     "name": "stdout",
     "output_type": "stream",
     "text": [
      "Epoch 12: 100%|██████████| 158/158 [00:03<00:00, 51.94it/s, v_num=36, val_loss=0.574, val_accuracy_tolerant_1pt=0.872, train_loss=0.686]"
     ]
    },
    {
     "name": "stderr",
     "output_type": "stream",
     "text": [
      "Monitored metric val_loss did not improve in the last 10 records. Best score: 0.566. Signaling Trainer to stop.\n"
     ]
    },
    {
     "name": "stdout",
     "output_type": "stream",
     "text": [
      "Epoch 12: 100%|██████████| 158/158 [00:03<00:00, 51.54it/s, v_num=36, val_loss=0.574, val_accuracy_tolerant_1pt=0.872, train_loss=0.686]\n"
     ]
    },
    {
     "name": "stderr",
     "output_type": "stream",
     "text": [
      "LOCAL_RANK: 0 - CUDA_VISIBLE_DEVICES: [0]\n",
      "c:\\Users\\asus\\miniconda3\\envs\\ai_project\\Lib\\site-packages\\pytorch_lightning\\trainer\\connectors\\data_connector.py:425: The 'test_dataloader' does not have many workers which may be a bottleneck. Consider increasing the value of the `num_workers` argument` to `num_workers=15` in the `DataLoader` to improve performance.\n"
     ]
    },
    {
     "name": "stdout",
     "output_type": "stream",
     "text": [
      "Available metrics for model RNN: dict_keys(['lr-AdamW', 'val_loss', 'val_accuracy_tolerant_1pt', 'train_loss'])\n",
      "RNN final val_loss = 0.5737\n",
      "Testing DataLoader 0: 100%|██████████| 34/34 [00:00<00:00, 82.85it/s]\n"
     ]
    },
    {
     "data": {
      "text/html": [
       "<pre style=\"white-space:pre;overflow-x:auto;line-height:normal;font-family:Menlo,'DejaVu Sans Mono',consolas,'Courier New',monospace\">┏━━━━━━━━━━━━━━━━━━━━━━━━━━━━┳━━━━━━━━━━━━━━━━━━━━━━━━━━━━┓\n",
       "┃<span style=\"font-weight: bold\">        Test metric         </span>┃<span style=\"font-weight: bold\">        DataLoader 0        </span>┃\n",
       "┡━━━━━━━━━━━━━━━━━━━━━━━━━━━━╇━━━━━━━━━━━━━━━━━━━━━━━━━━━━┩\n",
       "│<span style=\"color: #008080; text-decoration-color: #008080\">    test_accuracy_exact     </span>│<span style=\"color: #800080; text-decoration-color: #800080\">     0.7815399169921875     </span>│\n",
       "│<span style=\"color: #008080; text-decoration-color: #008080\"> test_accuracy_tolerant_1pt </span>│<span style=\"color: #800080; text-decoration-color: #800080\">     0.926484227180481      </span>│\n",
       "│<span style=\"color: #008080; text-decoration-color: #008080\">         test_loss          </span>│<span style=\"color: #800080; text-decoration-color: #800080\">    0.30835458636283875     </span>│\n",
       "└────────────────────────────┴────────────────────────────┘\n",
       "</pre>\n"
      ],
      "text/plain": [
       "┏━━━━━━━━━━━━━━━━━━━━━━━━━━━━┳━━━━━━━━━━━━━━━━━━━━━━━━━━━━┓\n",
       "┃\u001b[1m \u001b[0m\u001b[1m       Test metric        \u001b[0m\u001b[1m \u001b[0m┃\u001b[1m \u001b[0m\u001b[1m       DataLoader 0       \u001b[0m\u001b[1m \u001b[0m┃\n",
       "┡━━━━━━━━━━━━━━━━━━━━━━━━━━━━╇━━━━━━━━━━━━━━━━━━━━━━━━━━━━┩\n",
       "│\u001b[36m \u001b[0m\u001b[36m   test_accuracy_exact    \u001b[0m\u001b[36m \u001b[0m│\u001b[35m \u001b[0m\u001b[35m    0.7815399169921875    \u001b[0m\u001b[35m \u001b[0m│\n",
       "│\u001b[36m \u001b[0m\u001b[36mtest_accuracy_tolerant_1pt\u001b[0m\u001b[36m \u001b[0m│\u001b[35m \u001b[0m\u001b[35m    0.926484227180481     \u001b[0m\u001b[35m \u001b[0m│\n",
       "│\u001b[36m \u001b[0m\u001b[36m        test_loss         \u001b[0m\u001b[36m \u001b[0m│\u001b[35m \u001b[0m\u001b[35m   0.30835458636283875    \u001b[0m\u001b[35m \u001b[0m│\n",
       "└────────────────────────────┴────────────────────────────┘\n"
      ]
     },
     "metadata": {},
     "output_type": "display_data"
    },
    {
     "name": "stderr",
     "output_type": "stream",
     "text": [
      "LOCAL_RANK: 0 - CUDA_VISIBLE_DEVICES: [0]\n"
     ]
    },
    {
     "name": "stdout",
     "output_type": "stream",
     "text": [
      "[{'test_loss': 0.30835458636283875, 'test_accuracy_exact': 0.7815399169921875, 'test_accuracy_tolerant_1pt': 0.926484227180481}]\n",
      "78.15399169921875% of predictions was spot on\n",
      "Approximately 92.6484227180481% of predictions lie in a tolerance of 1\n",
      "Testing DataLoader 0: 100%|██████████| 13/13 [00:00<00:00, 107.33it/s]\n"
     ]
    },
    {
     "data": {
      "text/html": [
       "<pre style=\"white-space:pre;overflow-x:auto;line-height:normal;font-family:Menlo,'DejaVu Sans Mono',consolas,'Courier New',monospace\">┏━━━━━━━━━━━━━━━━━━━━━━━━━━━━┳━━━━━━━━━━━━━━━━━━━━━━━━━━━━┓\n",
       "┃<span style=\"font-weight: bold\">        Test metric         </span>┃<span style=\"font-weight: bold\">        DataLoader 0        </span>┃\n",
       "┡━━━━━━━━━━━━━━━━━━━━━━━━━━━━╇━━━━━━━━━━━━━━━━━━━━━━━━━━━━┩\n",
       "│<span style=\"color: #008080; text-decoration-color: #008080\">    test_accuracy_exact     </span>│<span style=\"color: #800080; text-decoration-color: #800080\">    0.18069307506084442     </span>│\n",
       "│<span style=\"color: #008080; text-decoration-color: #008080\"> test_accuracy_tolerant_1pt </span>│<span style=\"color: #800080; text-decoration-color: #800080\">    0.45049506425857544     </span>│\n",
       "│<span style=\"color: #008080; text-decoration-color: #008080\">         test_loss          </span>│<span style=\"color: #800080; text-decoration-color: #800080\">     3.4738552570343018     </span>│\n",
       "└────────────────────────────┴────────────────────────────┘\n",
       "</pre>\n"
      ],
      "text/plain": [
       "┏━━━━━━━━━━━━━━━━━━━━━━━━━━━━┳━━━━━━━━━━━━━━━━━━━━━━━━━━━━┓\n",
       "┃\u001b[1m \u001b[0m\u001b[1m       Test metric        \u001b[0m\u001b[1m \u001b[0m┃\u001b[1m \u001b[0m\u001b[1m       DataLoader 0       \u001b[0m\u001b[1m \u001b[0m┃\n",
       "┡━━━━━━━━━━━━━━━━━━━━━━━━━━━━╇━━━━━━━━━━━━━━━━━━━━━━━━━━━━┩\n",
       "│\u001b[36m \u001b[0m\u001b[36m   test_accuracy_exact    \u001b[0m\u001b[36m \u001b[0m│\u001b[35m \u001b[0m\u001b[35m   0.18069307506084442    \u001b[0m\u001b[35m \u001b[0m│\n",
       "│\u001b[36m \u001b[0m\u001b[36mtest_accuracy_tolerant_1pt\u001b[0m\u001b[36m \u001b[0m│\u001b[35m \u001b[0m\u001b[35m   0.45049506425857544    \u001b[0m\u001b[35m \u001b[0m│\n",
       "│\u001b[36m \u001b[0m\u001b[36m        test_loss         \u001b[0m\u001b[36m \u001b[0m│\u001b[35m \u001b[0m\u001b[35m    3.4738552570343018    \u001b[0m\u001b[35m \u001b[0m│\n",
       "└────────────────────────────┴────────────────────────────┘\n"
      ]
     },
     "metadata": {},
     "output_type": "display_data"
    },
    {
     "name": "stdout",
     "output_type": "stream",
     "text": [
      "▶ Training Transformer\n"
     ]
    },
    {
     "name": "stderr",
     "output_type": "stream",
     "text": [
      "Using default `ModelCheckpoint`. Consider installing `litmodels` package to enable `LitModelCheckpoint` for automatic upload to the Lightning model registry.\n",
      "GPU available: True (cuda), used: True\n",
      "TPU available: False, using: 0 TPU cores\n",
      "HPU available: False, using: 0 HPUs\n",
      "LOCAL_RANK: 0 - CUDA_VISIBLE_DEVICES: [0]\n",
      "\n",
      "  | Name                | Type               | Params | Mode \n",
      "-------------------------------------------------------------------\n",
      "0 | input_projection    | Linear             | 26.9 K | train\n",
      "1 | input_norm          | LayerNorm          | 512    | train\n",
      "2 | pos_encoder         | PositionalEncoding | 0      | train\n",
      "3 | transformer_encoder | TransformerEncoder | 1.1 M  | train\n",
      "4 | output_head         | Sequential         | 33.0 K | train\n",
      "5 | criterion           | SmoothL1Loss       | 0      | train\n",
      "-------------------------------------------------------------------\n",
      "1.1 M     Trainable params\n",
      "0         Non-trainable params\n",
      "1.1 M     Total params\n",
      "4.458     Total estimated model params size (MB)\n",
      "32        Modules in train mode\n",
      "0         Modules in eval mode\n"
     ]
    },
    {
     "name": "stdout",
     "output_type": "stream",
     "text": [
      "Epoch 0: 100%|██████████| 158/158 [00:06<00:00, 26.32it/s, v_num=36, val_loss=0.780, val_accuracy_tolerant_1pt=0.801, train_loss=1.030]"
     ]
    },
    {
     "name": "stderr",
     "output_type": "stream",
     "text": [
      "Metric val_loss improved. New best score: 0.780\n"
     ]
    },
    {
     "name": "stdout",
     "output_type": "stream",
     "text": [
      "Epoch 1: 100%|██████████| 158/158 [00:05<00:00, 26.39it/s, v_num=36, val_loss=0.605, val_accuracy_tolerant_1pt=0.840, train_loss=0.848]"
     ]
    },
    {
     "name": "stderr",
     "output_type": "stream",
     "text": [
      "Metric val_loss improved by 0.175 >= min_delta = 0.001. New best score: 0.605\n"
     ]
    },
    {
     "name": "stdout",
     "output_type": "stream",
     "text": [
      "Epoch 2: 100%|██████████| 158/158 [00:06<00:00, 26.32it/s, v_num=36, val_loss=0.594, val_accuracy_tolerant_1pt=0.842, train_loss=0.780]"
     ]
    },
    {
     "name": "stderr",
     "output_type": "stream",
     "text": [
      "Metric val_loss improved by 0.011 >= min_delta = 0.001. New best score: 0.594\n"
     ]
    },
    {
     "name": "stdout",
     "output_type": "stream",
     "text": [
      "Epoch 4: 100%|██████████| 158/158 [00:05<00:00, 29.80it/s, v_num=36, val_loss=0.600, val_accuracy_tolerant_1pt=0.833, train_loss=0.763]"
     ]
    },
    {
     "name": "stderr",
     "output_type": "stream",
     "text": [
      "c:\\Users\\asus\\miniconda3\\envs\\ai_project\\Lib\\site-packages\\torch\\optim\\lr_scheduler.py:240: UserWarning: The epoch parameter in `scheduler.step()` was not necessary and is being deprecated where possible. Please use `scheduler.step()` to step the scheduler. During the deprecation, if epoch is different from None, the closed form is used instead of the new chainable form, where available. Please open an issue if you are unable to replicate your use case: https://github.com/pytorch/pytorch/issues/new/choose.\n",
      "  warnings.warn(EPOCH_DEPRECATION_WARNING, UserWarning)\n"
     ]
    },
    {
     "name": "stdout",
     "output_type": "stream",
     "text": [
      "Epoch 4: 100%|██████████| 158/158 [00:05<00:00, 26.56it/s, v_num=36, val_loss=0.578, val_accuracy_tolerant_1pt=0.854, train_loss=0.751]"
     ]
    },
    {
     "name": "stderr",
     "output_type": "stream",
     "text": [
      "Metric val_loss improved by 0.016 >= min_delta = 0.001. New best score: 0.578\n"
     ]
    },
    {
     "name": "stdout",
     "output_type": "stream",
     "text": [
      "Epoch 6: 100%|██████████| 158/158 [00:05<00:00, 26.47it/s, v_num=36, val_loss=0.572, val_accuracy_tolerant_1pt=0.861, train_loss=0.741]"
     ]
    },
    {
     "name": "stderr",
     "output_type": "stream",
     "text": [
      "Metric val_loss improved by 0.006 >= min_delta = 0.001. New best score: 0.572\n"
     ]
    },
    {
     "name": "stdout",
     "output_type": "stream",
     "text": [
      "Epoch 10: 100%|██████████| 158/158 [00:05<00:00, 26.62it/s, v_num=36, val_loss=0.570, val_accuracy_tolerant_1pt=0.863, train_loss=0.731]"
     ]
    },
    {
     "name": "stderr",
     "output_type": "stream",
     "text": [
      "Metric val_loss improved by 0.002 >= min_delta = 0.001. New best score: 0.570\n"
     ]
    },
    {
     "name": "stdout",
     "output_type": "stream",
     "text": [
      "Epoch 14: 100%|██████████| 158/158 [00:05<00:00, 26.50it/s, v_num=36, val_loss=0.571, val_accuracy_tolerant_1pt=0.861, train_loss=0.727]"
     ]
    },
    {
     "name": "stderr",
     "output_type": "stream",
     "text": [
      "`Trainer.fit` stopped: `max_epochs=15` reached.\n"
     ]
    },
    {
     "name": "stdout",
     "output_type": "stream",
     "text": [
      "Epoch 14: 100%|██████████| 158/158 [00:06<00:00, 26.24it/s, v_num=36, val_loss=0.571, val_accuracy_tolerant_1pt=0.861, train_loss=0.727]\n",
      "Available metrics for model Transformer: dict_keys(['lr-AdamW', 'val_loss', 'val_accuracy_tolerant_1pt', 'train_loss'])\n",
      "Transformer final val_loss = 0.5706\n"
     ]
    },
    {
     "name": "stderr",
     "output_type": "stream",
     "text": [
      "LOCAL_RANK: 0 - CUDA_VISIBLE_DEVICES: [0]\n"
     ]
    },
    {
     "name": "stdout",
     "output_type": "stream",
     "text": [
      "Testing DataLoader 0: 100%|██████████| 34/34 [00:00<00:00, 55.95it/s]\n"
     ]
    },
    {
     "data": {
      "text/html": [
       "<pre style=\"white-space:pre;overflow-x:auto;line-height:normal;font-family:Menlo,'DejaVu Sans Mono',consolas,'Courier New',monospace\">┏━━━━━━━━━━━━━━━━━━━━━━━━━━━━┳━━━━━━━━━━━━━━━━━━━━━━━━━━━━┓\n",
       "┃<span style=\"font-weight: bold\">        Test metric         </span>┃<span style=\"font-weight: bold\">        DataLoader 0        </span>┃\n",
       "┡━━━━━━━━━━━━━━━━━━━━━━━━━━━━╇━━━━━━━━━━━━━━━━━━━━━━━━━━━━┩\n",
       "│<span style=\"color: #008080; text-decoration-color: #008080\">    test_accuracy_exact     </span>│<span style=\"color: #800080; text-decoration-color: #800080\">     0.7929035425186157     </span>│\n",
       "│<span style=\"color: #008080; text-decoration-color: #008080\"> test_accuracy_tolerant_1pt </span>│<span style=\"color: #800080; text-decoration-color: #800080\">     0.9318181872367859     </span>│\n",
       "│<span style=\"color: #008080; text-decoration-color: #008080\">         test_loss          </span>│<span style=\"color: #800080; text-decoration-color: #800080\">     0.2793947160243988     </span>│\n",
       "└────────────────────────────┴────────────────────────────┘\n",
       "</pre>\n"
      ],
      "text/plain": [
       "┏━━━━━━━━━━━━━━━━━━━━━━━━━━━━┳━━━━━━━━━━━━━━━━━━━━━━━━━━━━┓\n",
       "┃\u001b[1m \u001b[0m\u001b[1m       Test metric        \u001b[0m\u001b[1m \u001b[0m┃\u001b[1m \u001b[0m\u001b[1m       DataLoader 0       \u001b[0m\u001b[1m \u001b[0m┃\n",
       "┡━━━━━━━━━━━━━━━━━━━━━━━━━━━━╇━━━━━━━━━━━━━━━━━━━━━━━━━━━━┩\n",
       "│\u001b[36m \u001b[0m\u001b[36m   test_accuracy_exact    \u001b[0m\u001b[36m \u001b[0m│\u001b[35m \u001b[0m\u001b[35m    0.7929035425186157    \u001b[0m\u001b[35m \u001b[0m│\n",
       "│\u001b[36m \u001b[0m\u001b[36mtest_accuracy_tolerant_1pt\u001b[0m\u001b[36m \u001b[0m│\u001b[35m \u001b[0m\u001b[35m    0.9318181872367859    \u001b[0m\u001b[35m \u001b[0m│\n",
       "│\u001b[36m \u001b[0m\u001b[36m        test_loss         \u001b[0m\u001b[36m \u001b[0m│\u001b[35m \u001b[0m\u001b[35m    0.2793947160243988    \u001b[0m\u001b[35m \u001b[0m│\n",
       "└────────────────────────────┴────────────────────────────┘\n"
      ]
     },
     "metadata": {},
     "output_type": "display_data"
    },
    {
     "name": "stdout",
     "output_type": "stream",
     "text": [
      "[{'test_loss': 0.2793947160243988, 'test_accuracy_exact': 0.7929035425186157, 'test_accuracy_tolerant_1pt': 0.9318181872367859}]\n",
      "79.29035425186157% of predictions was spot on\n",
      "Approximately 93.18181872367859% of predictions lie in a tolerance of 1\n"
     ]
    },
    {
     "name": "stderr",
     "output_type": "stream",
     "text": [
      "LOCAL_RANK: 0 - CUDA_VISIBLE_DEVICES: [0]\n"
     ]
    },
    {
     "name": "stdout",
     "output_type": "stream",
     "text": [
      "Testing DataLoader 0: 100%|██████████| 13/13 [00:00<00:00, 80.98it/s]\n"
     ]
    },
    {
     "data": {
      "text/html": [
       "<pre style=\"white-space:pre;overflow-x:auto;line-height:normal;font-family:Menlo,'DejaVu Sans Mono',consolas,'Courier New',monospace\">┏━━━━━━━━━━━━━━━━━━━━━━━━━━━━┳━━━━━━━━━━━━━━━━━━━━━━━━━━━━┓\n",
       "┃<span style=\"font-weight: bold\">        Test metric         </span>┃<span style=\"font-weight: bold\">        DataLoader 0        </span>┃\n",
       "┡━━━━━━━━━━━━━━━━━━━━━━━━━━━━╇━━━━━━━━━━━━━━━━━━━━━━━━━━━━┩\n",
       "│<span style=\"color: #008080; text-decoration-color: #008080\">    test_accuracy_exact     </span>│<span style=\"color: #800080; text-decoration-color: #800080\">    0.18069307506084442     </span>│\n",
       "│<span style=\"color: #008080; text-decoration-color: #008080\"> test_accuracy_tolerant_1pt </span>│<span style=\"color: #800080; text-decoration-color: #800080\">     0.4443069398403168     </span>│\n",
       "│<span style=\"color: #008080; text-decoration-color: #008080\">         test_loss          </span>│<span style=\"color: #800080; text-decoration-color: #800080\">     3.2572710514068604     </span>│\n",
       "└────────────────────────────┴────────────────────────────┘\n",
       "</pre>\n"
      ],
      "text/plain": [
       "┏━━━━━━━━━━━━━━━━━━━━━━━━━━━━┳━━━━━━━━━━━━━━━━━━━━━━━━━━━━┓\n",
       "┃\u001b[1m \u001b[0m\u001b[1m       Test metric        \u001b[0m\u001b[1m \u001b[0m┃\u001b[1m \u001b[0m\u001b[1m       DataLoader 0       \u001b[0m\u001b[1m \u001b[0m┃\n",
       "┡━━━━━━━━━━━━━━━━━━━━━━━━━━━━╇━━━━━━━━━━━━━━━━━━━━━━━━━━━━┩\n",
       "│\u001b[36m \u001b[0m\u001b[36m   test_accuracy_exact    \u001b[0m\u001b[36m \u001b[0m│\u001b[35m \u001b[0m\u001b[35m   0.18069307506084442    \u001b[0m\u001b[35m \u001b[0m│\n",
       "│\u001b[36m \u001b[0m\u001b[36mtest_accuracy_tolerant_1pt\u001b[0m\u001b[36m \u001b[0m│\u001b[35m \u001b[0m\u001b[35m    0.4443069398403168    \u001b[0m\u001b[35m \u001b[0m│\n",
       "│\u001b[36m \u001b[0m\u001b[36m        test_loss         \u001b[0m\u001b[36m \u001b[0m│\u001b[35m \u001b[0m\u001b[35m    3.2572710514068604    \u001b[0m\u001b[35m \u001b[0m│\n",
       "└────────────────────────────┴────────────────────────────┘\n"
      ]
     },
     "metadata": {},
     "output_type": "display_data"
    }
   ],
   "source": [
    "from pytorch_lightning import Trainer\n",
    "from pytorch_lightning.loggers import CSVLogger #use tensorboard here\n",
    "from pytorch_lightning.loggers import TensorBoardLogger\n",
    "\n",
    "\n",
    "\n",
    "logger = TensorBoardLogger(\"tb_logs\", name=\"fpl_experiment\") \n",
    "\n",
    "\n",
    "\n",
    "final_val_losses = {}\n",
    "csv_log_paths = {}\n",
    "\n",
    "\n",
    "# LearningRateMonitor \n",
    "lr_monitor = LearningRateMonitor(logging_interval=\"epoch\") \n",
    "\n",
    "# Fit each model\n",
    "for name, model in models.items():\n",
    "\n",
    "    early_stop_callback = EarlyStopping(\n",
    "    monitor=\"val_loss\",\n",
    "    min_delta=0.001, \n",
    "    patience=10,     \n",
    "    verbose=True,\n",
    "    mode=\"min\"\n",
    "    )\n",
    "\n",
    "\n",
    "    logger = CSVLogger(f\"logs_{name}\", name=\"fpl_experiment\")\n",
    "\n",
    "\n",
    "    csv_log_paths[name] = logger.log_dir + \"/metrics.csv\"\n",
    "\n",
    "    print(f\"▶ Training {name}\")\n",
    "    trainer = Trainer(\n",
    "    max_epochs=15,\n",
    "    logger=logger,\n",
    "    gradient_clip_val= 1,\n",
    "    callbacks=[early_stop_callback, lr_monitor] \n",
    "    )\n",
    "    \n",
    "    trainer.fit(\n",
    "        model=model,\n",
    "        train_dataloaders=train_loader,\n",
    "        val_dataloaders=val_loader,\n",
    "    )\n",
    "\n",
    "    print(f\"Available metrics for model {name}: {model.trainer.callback_metrics.keys()}\")\n",
    "\n",
    "    val_loss = float(model.trainer.callback_metrics[\"val_loss\"])\n",
    "    final_val_losses[name] = val_loss\n",
    "    print(f\"{name} final val_loss = {val_loss:.4f}\")\n",
    "\n",
    "\n",
    "\n",
    "    test_results = trainer.test(\n",
    "        model=model,\n",
    "        dataloaders=test_loader,\n",
    "    )\n",
    "    print(test_results)\n",
    "\n",
    "    print(f\"{test_results[0][\"test_accuracy_exact\"]*100}% of predictions was spot on\")\n",
    "    print(f\"Approximately {test_results[0][\"test_accuracy_tolerant_1pt\"]*100}% of predictions lie in a tolerance of 1\")\n",
    "\n",
    "\n",
    "    test_results = trainer.test(\n",
    "        model=model,\n",
    "        dataloaders=active_loader,\n",
    "    )\n",
    "\n",
    "    \n",
    "\n",
    "\n",
    "\n"
   ]
  },
  {
   "cell_type": "markdown",
   "id": "2a4ef8ce",
   "metadata": {},
   "source": [
    "We can see that even though RNN and Transformer will be prefered in this project FNN also performed comparatively well which might suggest that time dependency of our data (like forms or general monthly trends) are not as important as we first thought it was"
   ]
  },
  {
   "cell_type": "code",
   "execution_count": 18,
   "id": "c9eb566a",
   "metadata": {},
   "outputs": [
    {
     "data": {
      "image/png": "[encoded data removed]",
      "text/plain": [
       "<Figure size 1000x600 with 1 Axes>"
      ]
     },
     "metadata": {},
     "output_type": "display_data"
    },
    {
     "data": {
      "image/png": "[encoded data removed]",
      "text/plain": [
       "<Figure size 1000x600 with 1 Axes>"
      ]
     },
     "metadata": {},
     "output_type": "display_data"
    }
   ],
   "source": [
    "for model_name, log_path in csv_log_paths.items():\n",
    "\n",
    "    plt.figure(figsize=(10, 6)) \n",
    "        \n",
    "    metrics_df = pd.read_csv(log_path) # Load metrics for the CURRENT model\n",
    "        \n",
    "\n",
    "    plot_title = f\"{model_name}: Training & Validation Loss\"\n",
    "            \n",
    "\n",
    "    # Validation Loss\n",
    "\n",
    "    val_data_current_model = metrics_df.dropna(subset=[\"epoch\", \"val_loss\"])\n",
    "    val_data_current_model = val_data_current_model.sort_values(by=\"epoch\")\n",
    "                \n",
    "    plt.plot(val_data_current_model[\"epoch\"], val_data_current_model[\"val_loss\"], \n",
    "            label=f\"Validation Loss\", linewidth=2.5, marker=\"o\", markersize=4)\n",
    "\n",
    "\n",
    "\n",
    "    # Training Loss\n",
    "\n",
    "\n",
    "    train_data_current_model = metrics_df.dropna(subset=[\"epoch\", \"train_loss\"])\n",
    "    train_data_current_model = train_data_current_model.sort_values(by=\"epoch\")\n",
    "        \n",
    "    plt.plot(train_data_current_model[\"epoch\"], train_data_current_model[\"train_loss\"], \n",
    "            label=f\"Train Loss\", linestyle=\"--\", marker=\"x\", markersize=4)\n",
    "                \n",
    "\n",
    "            \n",
    "    plt.xlabel(\"Epoch\", fontsize=12)\n",
    "    plt.ylabel(\"Loss (SmoothL1)\", fontsize=12)\n",
    "    plt.title(plot_title, fontsize=14)\n",
    "    plt.legend(fontsize=10)\n",
    "    plt.xticks(fontsize=10)\n",
    "    plt.yticks(fontsize=10)\n",
    "    plt.tight_layout()\n",
    "    plt.show() \n",
    "\n"
   ]
  },
  {
   "cell_type": "markdown",
   "id": "4c42ebf1",
   "metadata": {},
   "source": [
    "## Fundamental Difficulty of FPL Prediction:\n",
    "\n",
    "FPL is notoriously hard to predict with high accuracy due to inherent randomness, injuries, sudden form changes, tactical shifts, etc. It's possible that with the current set of publicly available features, there's a natural limit to how well any model can perform, and your models are all hitting that limit quickly.\n",
    "\n",
    "All models might be quickly learning the \"easy\" part of the prediction (e.g., most players score 0-2 points). However, what about good players?\n",
    "\n",
    "Here we test our RNN and Transformer (as they both gave similar val error) on Mohammed Salah, one of the best players in the league and one of the most popular picks in a FPL team. The performance of outliers is important because even though they are a small percent of the total players, they are the players that gets selected the most\n",
    "\n",
    "Predicting 7+ points is almost impossible as there is no way to predict a player doing a hat-trick before the match; therefore, we will not expect the model to predict the peaks but understand general trends of the player to some level\n"
   ]
  },
  {
   "cell_type": "code",
   "execution_count": 19,
   "id": "4895eb8c",
   "metadata": {},
   "outputs": [
    {
     "name": "stdout",
     "output_type": "stream",
     "text": [
      "--- Starting Data Preparation for Sequences from C:\\Users\\asus\\OneDrive\\Desktop\\projects\\AI_project\\data\\salah.csv ---\n",
      "Successfully loaded data. Shape: (36, 133)\n",
      "\n",
      "--- Cleaning Data and Selecting Numeric Features ---\n",
      "Column 'name' is of type object and couldn't be converted to numeric. Marked for dropping.\n",
      "Column 'position' is of type object and couldn't be converted to numeric. Marked for dropping.\n",
      "Column 'team' is of type object and couldn't be converted to numeric. Marked for dropping.\n",
      "Column 'kickoff_time' is of type object and couldn't be converted to numeric. Marked for dropping.\n",
      "Column '['assists', 'bonus', 'bps', 'clean_sheets', 'creativity', 'goals_conceded', 'goals_scored', 'ict_index', 'influence', 'minutes', 'own_goals', 'penalties_missed', 'penalties_saved', 'red_cards', 'saves', 'starts', 'threat', 'yellow_cards', 'xP', 'expected_assists', 'expected_goal_involvements', 'expected_goals', 'expected_goals_conceded', 'value', 'selected', 'transfers_balance', 'transfers_in', 'transfers_out', 'team_a_score', 'team_h_score']' are dropped for preventing data leakage.\n",
      "Columns dropped for other reasons: ['name', 'position', 'team', 'kickoff_time']\n",
      "Selected 106 features for sequences: ['opponent_team', 'was_home', 'player_id', 'total_points', 'GW']...\n",
      "\n",
      "Sorting data by 'player_id' and then 'GW'...\n",
      "\n",
      "--- Creating Fixed-Length Sequences (Max Gameweeks: 38) ---\n",
      "Successfully created sequences. Shape: (36, 38, 104)\n",
      "Targets shape: (36,)\n",
      "Attention masks shape: (36, 38)\n"
     ]
    },
    {
     "data": {
      "image/png": "[encoded data removed]",
      "text/plain": [
       "<Figure size 1500x700 with 1 Axes>"
      ]
     },
     "metadata": {},
     "output_type": "display_data"
    }
   ],
   "source": [
    "#Mohamed Salah prediction\n",
    "\n",
    "salah_sequences, salah_masks, salah_targets = prepare_player_sequences(\n",
    "    df_path=str(DATA_DIR / \"salah.csv\"),\n",
    "    target_col=\"total_points\",\n",
    "    max_gws_in_sequence= 38,\n",
    ")\n",
    "\n",
    "salah_sequences_scaled = scale_3d_sequences(salah_sequences, scaler)\n",
    "\n",
    "salah_sequences_tensor = torch.tensor(salah_sequences_scaled, dtype=torch.float32)\n",
    "salah_masks_tensor = torch.tensor(salah_masks, dtype=torch.bool)\n",
    "\n",
    "\n",
    "\n",
    "salah_predictions_transformer = []\n",
    "salah_predictions_rnn = []\n",
    "salah_predictions_fnn = []\n",
    "\n",
    "with torch.no_grad():\n",
    "    for i in range(salah_sequences_scaled.shape[0]):\n",
    "        seq_input = salah_sequences_tensor[i].unsqueeze(0)\n",
    "        mask_input = salah_masks_tensor[i].unsqueeze(0)\n",
    "        pred_transformer = models[\"Transformer\"](seq_input, mask_input) \n",
    "        pred_rnn = models[\"RNN\"](seq_input, mask_input) \n",
    "\n",
    "        \n",
    "\n",
    "        salah_predictions_transformer.append(pred_transformer.item())\n",
    "        salah_predictions_rnn.append(pred_rnn.item())\n",
    "\n",
    "salah_predictions_transformer_rounded = np.round(salah_predictions_transformer)\n",
    "salah_predictions_rnn_rounded = np.round(salah_predictions_rnn)\n",
    "\n",
    "\n",
    "plt.figure(figsize=(15, 7))\n",
    "plt.plot(salah_targets, label='Salah - True Points', marker='o')\n",
    "plt.plot(salah_predictions_transformer_rounded, label='Salah - Transformer Predicted Points (Rounded)', marker='x', linestyle='--')\n",
    "plt.plot(salah_predictions_rnn_rounded, label='Salah - RNN Predicted Points (Rounded)', marker='x', linestyle='--')\n",
    "plt.xlabel(\"Gameweek\")\n",
    "plt.ylabel(\"Total Points\")\n",
    "plt.title(f\"Model Performance on Mohamed Salah (using prepare_player_sequences)\")\n",
    "plt.legend()\n",
    "plt.grid(True)\n",
    "plt.show()"
   ]
  },
  {
   "cell_type": "markdown",
   "id": "08c15f9c",
   "metadata": {},
   "source": [
    "### How to solve the problem of undershooting\n",
    "\n",
    "Even though most of the players get 0-1 points, these players do not generally get selected at all and most of the time only the outlier players that scores high gets selected. Therefore being able to predict important players is more important than overall test score.\n",
    "\n",
    "- Filtering for active players. Filtering our data on average points will give us players thar are active which is useful to know for FPL\n",
    "\n",
    "- A custom weighted loss function. We can implement a loss function where it penalizes undershooting more than overshooting\n",
    "\n",
    "- Log transform of target. We can use the log of total points to compress the scale of scores and make distrubition less skewed. Then we have to do a reverse transformation for evaluation\n",
    "\n",
    "\n",
    "We clearly see that general accuracy is lower for these types of players so we try to come up with a model that will give us better results for active players"
   ]
  },
  {
   "cell_type": "markdown",
   "id": "82429268",
   "metadata": {},
   "source": [
    "### Finalization of Model Architecture \n",
    "\n",
    "As it looks like right now, our model's tendency of not predicting higher number doesn't change that much with the dismissal of inactive players \n",
    "\n",
    "Therefore our main focus will be on hyperparameter tuning to get the best we can from the models \n",
    "\n",
    "Before the hyperparameter selection we define the model architecture that we will use. We will test a specialized loss fonction and going to use a log transformation of target values and implement it in the final model if the results are satisfactory. These architectures will be the ones that will be used in our train.py file"
   ]
  },
  {
   "cell_type": "code",
   "execution_count": 20,
   "id": "d6f70f32",
   "metadata": {},
   "outputs": [
    {
     "name": "stdout",
     "output_type": "stream",
     "text": [
      "--- Starting Data Preparation for Sequences from C:\\Users\\asus\\OneDrive\\Desktop\\projects\\AI_project\\data\\processed_data.csv ---\n",
      "Successfully loaded data. Shape: (28742, 133)\n",
      "\n",
      "--- Cleaning Data and Selecting Numeric Features ---\n",
      "Column 'name' is of type object and couldn't be converted to numeric. Marked for dropping.\n",
      "Column 'position' is of type object and couldn't be converted to numeric. Marked for dropping.\n",
      "Column 'team' is of type object and couldn't be converted to numeric. Marked for dropping.\n",
      "Column 'kickoff_time' is of type object and couldn't be converted to numeric. Marked for dropping.\n",
      "Column '['assists', 'bonus', 'bps', 'clean_sheets', 'creativity', 'goals_conceded', 'goals_scored', 'ict_index', 'influence', 'minutes', 'own_goals', 'penalties_missed', 'penalties_saved', 'red_cards', 'saves', 'starts', 'threat', 'yellow_cards', 'xP', 'expected_assists', 'expected_goal_involvements', 'expected_goals', 'expected_goals_conceded', 'value', 'selected', 'transfers_balance', 'transfers_in', 'transfers_out', 'team_a_score', 'team_h_score']' are dropped for preventing data leakage.\n",
      "Columns dropped for other reasons: ['name', 'position', 'team', 'kickoff_time']\n",
      "Selected 106 features for sequences: ['opponent_team', 'was_home', 'player_id', 'total_points', 'GW']...\n",
      "\n",
      "Sorting data by 'player_id' and then 'GW'...\n",
      "\n",
      "--- Creating Fixed-Length Sequences (Max Gameweeks: 38) ---\n",
      "Successfully created sequences. Shape: (28742, 38, 104)\n",
      "Targets shape: (28742,)\n",
      "Attention masks shape: (28742, 38)\n",
      "Train/Val/Test sizes: 20119/4311/4312\n"
     ]
    }
   ],
   "source": [
    "# custom weighted loss function\n",
    "\n",
    "class WeightedSmoothL1Loss(nn.Module):\n",
    "    def __init__(self, beta=1.0, underprediction_penalty=2.0):\n",
    "        super().__init__()\n",
    "        self.beta = beta\n",
    "        self.underprediction_penalty = underprediction_penalty\n",
    "        self.smooth_l1_loss = nn.SmoothL1Loss(reduction='none', beta=beta)\n",
    "\n",
    "    def forward(self, input_preds, target_actuals):\n",
    "        loss = self.smooth_l1_loss(input_preds, target_actuals)\n",
    "\n",
    "        penalty_weights = torch.ones_like(loss)\n",
    "        penalty_weights[input_preds < target_actuals] = self.underprediction_penalty\n",
    "\n",
    "        weighted_loss = loss * penalty_weights\n",
    "        return weighted_loss.mean() \n",
    "    \n",
    "\n",
    "# using log transforms \n",
    "\n",
    "sequences, masks, targets = prepare_player_sequences(\n",
    "    df_path=str(DATA_DIR / \"processed_data.csv\"),\n",
    "    target_col=\"log1p_total_points\",\n",
    "    max_gws_in_sequence= 38,\n",
    ")\n",
    "\n",
    "train_loader_log, val_loader_log, test_loader_log = dataloader_create(sequences, masks, targets)"
   ]
  },
  {
   "cell_type": "markdown",
   "id": "fe3001cd",
   "metadata": {},
   "source": [
    "Defining the model and evaluation parameters for log-transform"
   ]
  },
  {
   "cell_type": "code",
   "execution_count": null,
   "id": "99cca6c8",
   "metadata": {},
   "outputs": [],
   "source": [
    "class FinalRNN(RNN): # Inherits from RNN\n",
    "    def __init__(self, n_features, hidden_dim=64, n_layers=3, dropout=0.4, lr=1e-4, weight_decay=1e-5,underprediction_penalty=1.0):\n",
    "        super().__init__(n_features)\n",
    "\n",
    "\n",
    "        self.underprediction_penalty = underprediction_penalty\n",
    "        self.criterion = WeightedSmoothL1Loss(underprediction_penalty=self.underprediction_penalty) #when 1.0 same as SmoothL1\n",
    "\n",
    "    def validation_step(self, batch, batch_idx):\n",
    "        x, mask, y_log = batch # y_log is log(1+y_true)\n",
    "        preds_log = self(x, mask) # Model predicts log(1+y_pred)\n",
    "\n",
    "        loss = self.criterion(preds_log, y_log) # Loss is on log-transformed values\n",
    "        self.log(\"val_loss_log_transformed\", loss, on_step=False, on_epoch=True, prog_bar=True, logger=True)\n",
    "\n",
    "        # Inverse transform for interpretable metrics\n",
    "        preds_orig_scale = torch.expm1(preds_log) # expm1 is exp(x) - 1\n",
    "        y_orig_scale = torch.expm1(y_log)\n",
    "        preds_rounded = torch.round(preds_orig_scale)\n",
    "\n",
    "        real_loss = WeightedSmoothL1Loss()(preds_rounded, y_orig_scale) \n",
    "        self.log(\"val_loss\", real_loss, on_step=False, on_epoch=True, prog_bar=True, logger=True)\n",
    "\n",
    "        tolerance = 1.0\n",
    "        accuracy_tolerant = (torch.abs(preds_rounded - y_orig_scale) <= tolerance).float().mean()\n",
    "        self.log(\"val_accuracy_tolerant_1pt\", accuracy_tolerant, on_step=False, on_epoch=True, prog_bar=True, logger=True)\n",
    "        return loss \n",
    "\n",
    "    def test_step(self, batch, batch_idx):\n",
    "        x, mask, y_log = batch\n",
    "        preds_log = self(x, mask)\n",
    "        loss = self.criterion(preds_log, y_log)\n",
    "        self.log(\"test_loss_log_transformed\", loss, on_step=False, on_epoch=True, prog_bar=True, logger=True)\n",
    "\n",
    "        preds_orig_scale = torch.expm1(preds_log)\n",
    "        y_orig_scale = torch.expm1(y_log)\n",
    "        preds_rounded = torch.round(preds_orig_scale)\n",
    "\n",
    "        real_loss = WeightedSmoothL1Loss()(preds_rounded, y_orig_scale)\n",
    "        self.log(\"test_loss\", real_loss, on_step=False, on_epoch=True, prog_bar=True, logger=True)\n",
    "\n",
    "        accuracy_exact = (preds_rounded == y_orig_scale).float().mean()\n",
    "        self.log(\"test_accuracy_exact\", accuracy_exact, prog_bar=False, on_step=False, on_epoch=True)\n",
    "\n",
    "        tolerance = 1.0\n",
    "        accuracy_tolerant = (torch.abs(preds_rounded - y_orig_scale) <= tolerance).float().mean()\n",
    "        self.log(\"test_accuracy_tolerant_1pt\", accuracy_tolerant, on_step=False, on_epoch=True, prog_bar=True, logger=True)\n",
    "        return loss\n",
    "\n",
    "\n",
    "\n",
    "\n",
    "class FinalTransformer(Transformer): # Inherits from your existing Transformer class\n",
    "    def __init__(self, input_features_dim, d_model=512, nhead=4, num_encoder_layers=3,\n",
    "                 dim_feedforward=512, dropout=0.4, sequence_length=38, lr=5e-5,\n",
    "                 weight_decay=5e-4, warmup_epochs=5, milestones_after_warmup=[3,7],\n",
    "                 multistep_gamma=0.2, underprediction_penalty=1.0):\n",
    "        super().__init__(input_features_dim)\n",
    "\n",
    "        self.underprediction_penalty = underprediction_penalty\n",
    "        self.criterion = WeightedSmoothL1Loss(underprediction_penalty=self.underprediction_penalty) \n",
    "\n",
    "    def validation_step(self, batch, batch_idx):\n",
    "        x, mask, y_log = batch\n",
    "        preds_log = self(x, mask)\n",
    "        loss = self.criterion(preds_log, y_log)\n",
    "        self.log(\"val_loss_log_transformed\", loss, on_step=False, on_epoch=True, prog_bar=True, logger=True)\n",
    "\n",
    "        preds_orig_scale = torch.expm1(preds_log)\n",
    "        y_orig_scale = torch.expm1(y_log)\n",
    "        preds_rounded = torch.round(preds_orig_scale)\n",
    "\n",
    "        real_loss = WeightedSmoothL1Loss(beta=0.1)(preds_rounded, y_orig_scale)\n",
    "        self.log(\"val_loss\", real_loss, on_step=False, on_epoch=True, prog_bar=True, logger=True)\n",
    "\n",
    "        tolerance = 1.0\n",
    "        accuracy_tolerant = (torch.abs(preds_rounded - y_orig_scale) <= tolerance).float().mean()\n",
    "        self.log(\"val_accuracy_tolerant_1pt\", accuracy_tolerant, on_step=False, on_epoch=True, prog_bar=True, logger=True)\n",
    "        return loss\n",
    "\n",
    "    def test_step(self, batch, batch_idx):\n",
    "        x, mask, y_log = batch\n",
    "        preds_log = self(x, mask)\n",
    "        loss = self.criterion(preds_log, y_log)\n",
    "        self.log(\"test_loss_log_transformed\", loss, on_step=False, on_epoch=True, prog_bar=True, logger=True)\n",
    "\n",
    "        preds_orig_scale = torch.expm1(preds_log)\n",
    "        y_orig_scale = torch.expm1(y_log)\n",
    "        preds_rounded = torch.round(preds_orig_scale)\n",
    "\n",
    "        mae_orig_scale = WeightedSmoothL1Loss(beta=0.1)(preds_rounded, y_orig_scale)\n",
    "        self.log(\"test_loss\", mae_orig_scale, on_step=False, on_epoch=True, prog_bar=True, logger=True)\n",
    "\n",
    "        accuracy_exact = (preds_rounded == y_orig_scale).float().mean()\n",
    "        self.log(\"test_accuracy_exact\", accuracy_exact, prog_bar=False, on_step=False, on_epoch=True)\n",
    "\n",
    "        tolerance = 1.0\n",
    "        accuracy_tolerant = (torch.abs(preds_rounded - y_orig_scale) <= tolerance).float().mean()\n",
    "        self.log(\"test_accuracy_tolerant_1pt\", accuracy_tolerant, on_step=False, on_epoch=True, prog_bar=True, logger=True)\n",
    "        return loss\n"
   ]
  },
  {
   "cell_type": "markdown",
   "id": "ed763179",
   "metadata": {},
   "source": [
    "Training"
   ]
  },
  {
   "cell_type": "code",
   "execution_count": 22,
   "id": "13457a68",
   "metadata": {},
   "outputs": [],
   "source": [
    "n_feats = sequences.shape[-1]\n",
    "seq_len = 38\n",
    "\n",
    "\n",
    "models_to_evaluate_advanced = {\n",
    "    \"FinalRNN\": FinalRNN(\n",
    "        n_features=n_feats,\n",
    "    ),\n",
    "\n",
    "    \"FinalTransformer\": FinalTransformer(\n",
    "        input_features_dim=n_feats,\n",
    "    ),\n",
    "}"
   ]
  },
  {
   "cell_type": "code",
   "execution_count": 23,
   "id": "fcd22fe3",
   "metadata": {},
   "outputs": [
    {
     "name": "stdout",
     "output_type": "stream",
     "text": [
      "--- Starting Data Preparation for Sequences from C:\\Users\\asus\\OneDrive\\Desktop\\projects\\AI_project\\data\\active_players.csv ---\n",
      "Successfully loaded data. Shape: (808, 133)\n",
      "\n",
      "--- Cleaning Data and Selecting Numeric Features ---\n",
      "Column 'name' is of type object and couldn't be converted to numeric. Marked for dropping.\n",
      "Column 'position' is of type object and couldn't be converted to numeric. Marked for dropping.\n",
      "Column 'team' is of type object and couldn't be converted to numeric. Marked for dropping.\n",
      "Column 'kickoff_time' is of type object and couldn't be converted to numeric. Marked for dropping.\n",
      "Column '['assists', 'bonus', 'bps', 'clean_sheets', 'creativity', 'goals_conceded', 'goals_scored', 'ict_index', 'influence', 'minutes', 'own_goals', 'penalties_missed', 'penalties_saved', 'red_cards', 'saves', 'starts', 'threat', 'yellow_cards', 'xP', 'expected_assists', 'expected_goal_involvements', 'expected_goals', 'expected_goals_conceded', 'value', 'selected', 'transfers_balance', 'transfers_in', 'transfers_out', 'team_a_score', 'team_h_score']' are dropped for preventing data leakage.\n",
      "Columns dropped for other reasons: ['name', 'position', 'team', 'kickoff_time']\n",
      "Selected 106 features for sequences: ['opponent_team', 'was_home', 'player_id', 'total_points', 'GW']...\n",
      "\n",
      "Sorting data by 'player_id' and then 'GW'...\n",
      "\n",
      "--- Creating Fixed-Length Sequences (Max Gameweeks: 38) ---\n"
     ]
    },
    {
     "name": "stderr",
     "output_type": "stream",
     "text": [
      "Using default `ModelCheckpoint`. Consider installing `litmodels` package to enable `LitModelCheckpoint` for automatic upload to the Lightning model registry.\n",
      "GPU available: True (cuda), used: True\n",
      "TPU available: False, using: 0 TPU cores\n",
      "HPU available: False, using: 0 HPUs\n",
      "LOCAL_RANK: 0 - CUDA_VISIBLE_DEVICES: [0]\n",
      "c:\\Users\\asus\\miniconda3\\envs\\ai_project\\Lib\\site-packages\\torch\\optim\\lr_scheduler.py:62: UserWarning: The verbose parameter is deprecated. Please use get_last_lr() to access the learning rate.\n",
      "  warnings.warn(\n",
      "\n",
      "  | Name      | Type                 | Params | Mode \n",
      "-----------------------------------------------------------\n",
      "0 | lstm      | LSTM                 | 251 K  | train\n",
      "1 | fc        | Linear               | 129    | train\n",
      "2 | criterion | WeightedSmoothL1Loss | 0      | train\n",
      "-----------------------------------------------------------\n",
      "252 K     Trainable params\n",
      "0         Non-trainable params\n",
      "252 K     Total params\n",
      "1.008     Total estimated model params size (MB)\n",
      "4         Modules in train mode\n",
      "0         Modules in eval mode\n"
     ]
    },
    {
     "name": "stdout",
     "output_type": "stream",
     "text": [
      "Successfully created sequences. Shape: (808, 38, 104)\n",
      "Targets shape: (808,)\n",
      "Attention masks shape: (808, 38)\n",
      "▶ Training FinalRNN\n",
      "                                                                           "
     ]
    },
    {
     "name": "stderr",
     "output_type": "stream",
     "text": [
      "c:\\Users\\asus\\miniconda3\\envs\\ai_project\\Lib\\site-packages\\pytorch_lightning\\trainer\\connectors\\data_connector.py:425: The 'val_dataloader' does not have many workers which may be a bottleneck. Consider increasing the value of the `num_workers` argument` to `num_workers=15` in the `DataLoader` to improve performance.\n",
      "c:\\Users\\asus\\miniconda3\\envs\\ai_project\\Lib\\site-packages\\pytorch_lightning\\trainer\\connectors\\data_connector.py:425: The 'train_dataloader' does not have many workers which may be a bottleneck. Consider increasing the value of the `num_workers` argument` to `num_workers=15` in the `DataLoader` to improve performance.\n"
     ]
    },
    {
     "name": "stdout",
     "output_type": "stream",
     "text": [
      "Epoch 0: 100%|██████████| 158/158 [00:03<00:00, 49.12it/s, v_num=18, val_loss_log_transformed=0.123, val_loss=1.100, val_accuracy_tolerant_1pt=0.869, train_loss=0.175]"
     ]
    },
    {
     "name": "stderr",
     "output_type": "stream",
     "text": [
      "Metric val_loss improved. New best score: 1.103\n"
     ]
    },
    {
     "name": "stdout",
     "output_type": "stream",
     "text": [
      "Epoch 1: 100%|██████████| 158/158 [00:03<00:00, 50.96it/s, v_num=18, val_loss_log_transformed=0.115, val_loss=1.060, val_accuracy_tolerant_1pt=0.876, train_loss=0.145]"
     ]
    },
    {
     "name": "stderr",
     "output_type": "stream",
     "text": [
      "Metric val_loss improved by 0.041 >= min_delta = 0.0005. New best score: 1.061\n"
     ]
    },
    {
     "name": "stdout",
     "output_type": "stream",
     "text": [
      "Epoch 2: 100%|██████████| 158/158 [00:03<00:00, 51.24it/s, v_num=18, val_loss_log_transformed=0.111, val_loss=1.040, val_accuracy_tolerant_1pt=0.875, train_loss=0.138]"
     ]
    },
    {
     "name": "stderr",
     "output_type": "stream",
     "text": [
      "Metric val_loss improved by 0.023 >= min_delta = 0.0005. New best score: 1.038\n"
     ]
    },
    {
     "name": "stdout",
     "output_type": "stream",
     "text": [
      "Epoch 5: 100%|██████████| 158/158 [00:02<00:00, 74.85it/s, v_num=18, val_loss_log_transformed=0.108, val_loss=1.030, val_accuracy_tolerant_1pt=0.879, train_loss=0.130]"
     ]
    },
    {
     "name": "stderr",
     "output_type": "stream",
     "text": [
      "Metric val_loss improved by 0.007 >= min_delta = 0.0005. New best score: 1.031\n"
     ]
    },
    {
     "name": "stdout",
     "output_type": "stream",
     "text": [
      "Epoch 6: 100%|██████████| 158/158 [00:02<00:00, 77.75it/s, v_num=18, val_loss_log_transformed=0.108, val_loss=1.010, val_accuracy_tolerant_1pt=0.873, train_loss=0.129]"
     ]
    },
    {
     "name": "stderr",
     "output_type": "stream",
     "text": [
      "Metric val_loss improved by 0.018 >= min_delta = 0.0005. New best score: 1.013\n"
     ]
    },
    {
     "name": "stdout",
     "output_type": "stream",
     "text": [
      "Epoch 13: 100%|██████████| 158/158 [00:02<00:00, 74.84it/s, v_num=18, val_loss_log_transformed=0.107, val_loss=1.030, val_accuracy_tolerant_1pt=0.877, train_loss=0.123]"
     ]
    },
    {
     "name": "stderr",
     "output_type": "stream",
     "text": [
      "Monitored metric val_loss did not improve in the last 7 records. Best score: 1.013. Signaling Trainer to stop.\n"
     ]
    },
    {
     "name": "stdout",
     "output_type": "stream",
     "text": [
      "Epoch 13: 100%|██████████| 158/158 [00:02<00:00, 74.13it/s, v_num=18, val_loss_log_transformed=0.107, val_loss=1.030, val_accuracy_tolerant_1pt=0.877, train_loss=0.123]"
     ]
    },
    {
     "name": "stderr",
     "output_type": "stream",
     "text": [
      "LOCAL_RANK: 0 - CUDA_VISIBLE_DEVICES: [0]\n"
     ]
    },
    {
     "name": "stdout",
     "output_type": "stream",
     "text": [
      "\n",
      "Available metrics for model FinalRNN: dict_keys(['lr-AdamW', 'val_loss_log_transformed', 'val_loss', 'val_accuracy_tolerant_1pt', 'train_loss'])\n",
      "FinalRNN final val_loss = 1.0254\n"
     ]
    },
    {
     "name": "stderr",
     "output_type": "stream",
     "text": [
      "c:\\Users\\asus\\miniconda3\\envs\\ai_project\\Lib\\site-packages\\pytorch_lightning\\trainer\\connectors\\data_connector.py:425: The 'test_dataloader' does not have many workers which may be a bottleneck. Consider increasing the value of the `num_workers` argument` to `num_workers=15` in the `DataLoader` to improve performance.\n"
     ]
    },
    {
     "name": "stdout",
     "output_type": "stream",
     "text": [
      "Testing DataLoader 0: 100%|██████████| 34/34 [00:00<00:00, 104.78it/s]\n"
     ]
    },
    {
     "data": {
      "text/html": [
       "<pre style=\"white-space:pre;overflow-x:auto;line-height:normal;font-family:Menlo,'DejaVu Sans Mono',consolas,'Courier New',monospace\">┏━━━━━━━━━━━━━━━━━━━━━━━━━━━━┳━━━━━━━━━━━━━━━━━━━━━━━━━━━━┓\n",
       "┃<span style=\"font-weight: bold\">        Test metric         </span>┃<span style=\"font-weight: bold\">        DataLoader 0        </span>┃\n",
       "┡━━━━━━━━━━━━━━━━━━━━━━━━━━━━╇━━━━━━━━━━━━━━━━━━━━━━━━━━━━┩\n",
       "│<span style=\"color: #008080; text-decoration-color: #008080\">    test_accuracy_exact     </span>│<span style=\"color: #800080; text-decoration-color: #800080\">     0.7887291312217712     </span>│\n",
       "│<span style=\"color: #008080; text-decoration-color: #008080\"> test_accuracy_tolerant_1pt </span>│<span style=\"color: #800080; text-decoration-color: #800080\">     0.9271799921989441     </span>│\n",
       "│<span style=\"color: #008080; text-decoration-color: #008080\">         test_loss          </span>│<span style=\"color: #800080; text-decoration-color: #800080\">     0.558992326259613      </span>│\n",
       "│<span style=\"color: #008080; text-decoration-color: #008080\"> test_loss_log_transformed  </span>│<span style=\"color: #800080; text-decoration-color: #800080\">    0.08009172230958939     </span>│\n",
       "└────────────────────────────┴────────────────────────────┘\n",
       "</pre>\n"
      ],
      "text/plain": [
       "┏━━━━━━━━━━━━━━━━━━━━━━━━━━━━┳━━━━━━━━━━━━━━━━━━━━━━━━━━━━┓\n",
       "┃\u001b[1m \u001b[0m\u001b[1m       Test metric        \u001b[0m\u001b[1m \u001b[0m┃\u001b[1m \u001b[0m\u001b[1m       DataLoader 0       \u001b[0m\u001b[1m \u001b[0m┃\n",
       "┡━━━━━━━━━━━━━━━━━━━━━━━━━━━━╇━━━━━━━━━━━━━━━━━━━━━━━━━━━━┩\n",
       "│\u001b[36m \u001b[0m\u001b[36m   test_accuracy_exact    \u001b[0m\u001b[36m \u001b[0m│\u001b[35m \u001b[0m\u001b[35m    0.7887291312217712    \u001b[0m\u001b[35m \u001b[0m│\n",
       "│\u001b[36m \u001b[0m\u001b[36mtest_accuracy_tolerant_1pt\u001b[0m\u001b[36m \u001b[0m│\u001b[35m \u001b[0m\u001b[35m    0.9271799921989441    \u001b[0m\u001b[35m \u001b[0m│\n",
       "│\u001b[36m \u001b[0m\u001b[36m        test_loss         \u001b[0m\u001b[36m \u001b[0m│\u001b[35m \u001b[0m\u001b[35m    0.558992326259613     \u001b[0m\u001b[35m \u001b[0m│\n",
       "│\u001b[36m \u001b[0m\u001b[36mtest_loss_log_transformed \u001b[0m\u001b[36m \u001b[0m│\u001b[35m \u001b[0m\u001b[35m   0.08009172230958939    \u001b[0m\u001b[35m \u001b[0m│\n",
       "└────────────────────────────┴────────────────────────────┘\n"
      ]
     },
     "metadata": {},
     "output_type": "display_data"
    },
    {
     "name": "stderr",
     "output_type": "stream",
     "text": [
      "LOCAL_RANK: 0 - CUDA_VISIBLE_DEVICES: [0]\n"
     ]
    },
    {
     "name": "stdout",
     "output_type": "stream",
     "text": [
      "[{'test_loss_log_transformed': 0.08009172230958939, 'test_loss': 0.558992326259613, 'test_accuracy_exact': 0.7887291312217712, 'test_accuracy_tolerant_1pt': 0.9271799921989441}]\n",
      "Testing active players\n",
      "Testing DataLoader 0: 100%|██████████| 7/7 [00:00<00:00, 101.39it/s]\n"
     ]
    },
    {
     "data": {
      "text/html": [
       "<pre style=\"white-space:pre;overflow-x:auto;line-height:normal;font-family:Menlo,'DejaVu Sans Mono',consolas,'Courier New',monospace\">┏━━━━━━━━━━━━━━━━━━━━━━━━━━━━┳━━━━━━━━━━━━━━━━━━━━━━━━━━━━┓\n",
       "┃<span style=\"font-weight: bold\">        Test metric         </span>┃<span style=\"font-weight: bold\">        DataLoader 0        </span>┃\n",
       "┡━━━━━━━━━━━━━━━━━━━━━━━━━━━━╇━━━━━━━━━━━━━━━━━━━━━━━━━━━━┩\n",
       "│<span style=\"color: #008080; text-decoration-color: #008080\">    test_accuracy_exact     </span>│<span style=\"color: #800080; text-decoration-color: #800080\">    0.18440593779087067     </span>│\n",
       "│<span style=\"color: #008080; text-decoration-color: #008080\"> test_accuracy_tolerant_1pt </span>│<span style=\"color: #800080; text-decoration-color: #800080\">    0.45173266530036926     </span>│\n",
       "│<span style=\"color: #008080; text-decoration-color: #008080\">         test_loss          </span>│<span style=\"color: #800080; text-decoration-color: #800080\">     6.732982635498047      </span>│\n",
       "│<span style=\"color: #008080; text-decoration-color: #008080\"> test_loss_log_transformed  </span>│<span style=\"color: #800080; text-decoration-color: #800080\">    0.45148032903671265     </span>│\n",
       "└────────────────────────────┴────────────────────────────┘\n",
       "</pre>\n"
      ],
      "text/plain": [
       "┏━━━━━━━━━━━━━━━━━━━━━━━━━━━━┳━━━━━━━━━━━━━━━━━━━━━━━━━━━━┓\n",
       "┃\u001b[1m \u001b[0m\u001b[1m       Test metric        \u001b[0m\u001b[1m \u001b[0m┃\u001b[1m \u001b[0m\u001b[1m       DataLoader 0       \u001b[0m\u001b[1m \u001b[0m┃\n",
       "┡━━━━━━━━━━━━━━━━━━━━━━━━━━━━╇━━━━━━━━━━━━━━━━━━━━━━━━━━━━┩\n",
       "│\u001b[36m \u001b[0m\u001b[36m   test_accuracy_exact    \u001b[0m\u001b[36m \u001b[0m│\u001b[35m \u001b[0m\u001b[35m   0.18440593779087067    \u001b[0m\u001b[35m \u001b[0m│\n",
       "│\u001b[36m \u001b[0m\u001b[36mtest_accuracy_tolerant_1pt\u001b[0m\u001b[36m \u001b[0m│\u001b[35m \u001b[0m\u001b[35m   0.45173266530036926    \u001b[0m\u001b[35m \u001b[0m│\n",
       "│\u001b[36m \u001b[0m\u001b[36m        test_loss         \u001b[0m\u001b[36m \u001b[0m│\u001b[35m \u001b[0m\u001b[35m    6.732982635498047     \u001b[0m\u001b[35m \u001b[0m│\n",
       "│\u001b[36m \u001b[0m\u001b[36mtest_loss_log_transformed \u001b[0m\u001b[36m \u001b[0m│\u001b[35m \u001b[0m\u001b[35m   0.45148032903671265    \u001b[0m\u001b[35m \u001b[0m│\n",
       "└────────────────────────────┴────────────────────────────┘\n"
      ]
     },
     "metadata": {},
     "output_type": "display_data"
    },
    {
     "name": "stderr",
     "output_type": "stream",
     "text": [
      "Using default `ModelCheckpoint`. Consider installing `litmodels` package to enable `LitModelCheckpoint` for automatic upload to the Lightning model registry.\n",
      "GPU available: True (cuda), used: True\n"
     ]
    },
    {
     "name": "stdout",
     "output_type": "stream",
     "text": [
      "[{'test_loss_log_transformed': 0.45148032903671265, 'test_loss': 6.732982635498047, 'test_accuracy_exact': 0.18440593779087067, 'test_accuracy_tolerant_1pt': 0.45173266530036926}]\n",
      "▶ Training FinalTransformer\n"
     ]
    },
    {
     "name": "stderr",
     "output_type": "stream",
     "text": [
      "TPU available: False, using: 0 TPU cores\n",
      "HPU available: False, using: 0 HPUs\n",
      "LOCAL_RANK: 0 - CUDA_VISIBLE_DEVICES: [0]\n",
      "\n",
      "  | Name                | Type                 | Params | Mode \n",
      "---------------------------------------------------------------------\n",
      "0 | input_projection    | Linear               | 26.9 K | train\n",
      "1 | input_norm          | LayerNorm            | 512    | train\n",
      "2 | pos_encoder         | PositionalEncoding   | 0      | train\n",
      "3 | transformer_encoder | TransformerEncoder   | 1.1 M  | train\n",
      "4 | output_head         | Sequential           | 33.0 K | train\n",
      "5 | criterion           | WeightedSmoothL1Loss | 0      | train\n",
      "---------------------------------------------------------------------\n",
      "1.1 M     Trainable params\n",
      "0         Non-trainable params\n",
      "1.1 M     Total params\n",
      "4.458     Total estimated model params size (MB)\n",
      "33        Modules in train mode\n",
      "0         Modules in eval mode\n"
     ]
    },
    {
     "name": "stdout",
     "output_type": "stream",
     "text": [
      "Epoch 0: 100%|██████████| 158/158 [00:03<00:00, 40.28it/s, v_num=17, val_loss_log_transformed=0.352, val_loss=1.880, val_accuracy_tolerant_1pt=0.813, train_loss=0.579]"
     ]
    },
    {
     "name": "stderr",
     "output_type": "stream",
     "text": [
      "Metric val_loss improved. New best score: 1.881\n"
     ]
    },
    {
     "name": "stdout",
     "output_type": "stream",
     "text": [
      "Epoch 1: 100%|██████████| 158/158 [00:03<00:00, 40.16it/s, v_num=17, val_loss_log_transformed=0.221, val_loss=1.500, val_accuracy_tolerant_1pt=0.697, train_loss=0.311]"
     ]
    },
    {
     "name": "stderr",
     "output_type": "stream",
     "text": [
      "Metric val_loss improved by 0.384 >= min_delta = 0.0005. New best score: 1.497\n"
     ]
    },
    {
     "name": "stdout",
     "output_type": "stream",
     "text": [
      "Epoch 2: 100%|██████████| 158/158 [00:03<00:00, 40.36it/s, v_num=17, val_loss_log_transformed=0.197, val_loss=1.370, val_accuracy_tolerant_1pt=0.741, train_loss=0.243]"
     ]
    },
    {
     "name": "stderr",
     "output_type": "stream",
     "text": [
      "Metric val_loss improved by 0.127 >= min_delta = 0.0005. New best score: 1.370\n"
     ]
    },
    {
     "name": "stdout",
     "output_type": "stream",
     "text": [
      "Epoch 3: 100%|██████████| 158/158 [00:03<00:00, 39.96it/s, v_num=17, val_loss_log_transformed=0.187, val_loss=1.330, val_accuracy_tolerant_1pt=0.762, train_loss=0.228]"
     ]
    },
    {
     "name": "stderr",
     "output_type": "stream",
     "text": [
      "Metric val_loss improved by 0.038 >= min_delta = 0.0005. New best score: 1.331\n"
     ]
    },
    {
     "name": "stdout",
     "output_type": "stream",
     "text": [
      "Epoch 4: 100%|██████████| 158/158 [00:03<00:00, 44.69it/s, v_num=17, val_loss_log_transformed=0.187, val_loss=1.330, val_accuracy_tolerant_1pt=0.762, train_loss=0.228]"
     ]
    },
    {
     "name": "stderr",
     "output_type": "stream",
     "text": [
      "c:\\Users\\asus\\miniconda3\\envs\\ai_project\\Lib\\site-packages\\torch\\optim\\lr_scheduler.py:240: UserWarning: The epoch parameter in `scheduler.step()` was not necessary and is being deprecated where possible. Please use `scheduler.step()` to step the scheduler. During the deprecation, if epoch is different from None, the closed form is used instead of the new chainable form, where available. Please open an issue if you are unable to replicate your use case: https://github.com/pytorch/pytorch/issues/new/choose.\n",
      "  warnings.warn(EPOCH_DEPRECATION_WARNING, UserWarning)\n"
     ]
    },
    {
     "name": "stdout",
     "output_type": "stream",
     "text": [
      "Epoch 4: 100%|██████████| 158/158 [00:03<00:00, 39.65it/s, v_num=17, val_loss_log_transformed=0.177, val_loss=1.280, val_accuracy_tolerant_1pt=0.800, train_loss=0.222]"
     ]
    },
    {
     "name": "stderr",
     "output_type": "stream",
     "text": [
      "Metric val_loss improved by 0.049 >= min_delta = 0.0005. New best score: 1.282\n"
     ]
    },
    {
     "name": "stdout",
     "output_type": "stream",
     "text": [
      "Epoch 6: 100%|██████████| 158/158 [00:04<00:00, 38.87it/s, v_num=17, val_loss_log_transformed=0.171, val_loss=1.270, val_accuracy_tolerant_1pt=0.800, train_loss=0.210]"
     ]
    },
    {
     "name": "stderr",
     "output_type": "stream",
     "text": [
      "Metric val_loss improved by 0.014 >= min_delta = 0.0005. New best score: 1.267\n"
     ]
    },
    {
     "name": "stdout",
     "output_type": "stream",
     "text": [
      "Epoch 7: 100%|██████████| 158/158 [00:04<00:00, 38.19it/s, v_num=17, val_loss_log_transformed=0.171, val_loss=1.270, val_accuracy_tolerant_1pt=0.791, train_loss=0.209]"
     ]
    },
    {
     "name": "stderr",
     "output_type": "stream",
     "text": [
      "Metric val_loss improved by 0.001 >= min_delta = 0.0005. New best score: 1.267\n"
     ]
    },
    {
     "name": "stdout",
     "output_type": "stream",
     "text": [
      "Epoch 8: 100%|██████████| 158/158 [00:04<00:00, 37.96it/s, v_num=17, val_loss_log_transformed=0.170, val_loss=1.270, val_accuracy_tolerant_1pt=0.799, train_loss=0.205]"
     ]
    },
    {
     "name": "stderr",
     "output_type": "stream",
     "text": [
      "Metric val_loss improved by 0.001 >= min_delta = 0.0005. New best score: 1.266\n"
     ]
    },
    {
     "name": "stdout",
     "output_type": "stream",
     "text": [
      "Epoch 9: 100%|██████████| 158/158 [00:04<00:00, 37.55it/s, v_num=17, val_loss_log_transformed=0.169, val_loss=1.250, val_accuracy_tolerant_1pt=0.807, train_loss=0.206]"
     ]
    },
    {
     "name": "stderr",
     "output_type": "stream",
     "text": [
      "Metric val_loss improved by 0.014 >= min_delta = 0.0005. New best score: 1.252\n"
     ]
    },
    {
     "name": "stdout",
     "output_type": "stream",
     "text": [
      "Epoch 16: 100%|██████████| 158/158 [00:04<00:00, 35.94it/s, v_num=17, val_loss_log_transformed=0.171, val_loss=1.270, val_accuracy_tolerant_1pt=0.792, train_loss=0.201]"
     ]
    },
    {
     "name": "stderr",
     "output_type": "stream",
     "text": [
      "Monitored metric val_loss did not improve in the last 7 records. Best score: 1.252. Signaling Trainer to stop.\n"
     ]
    },
    {
     "name": "stdout",
     "output_type": "stream",
     "text": [
      "Epoch 16: 100%|██████████| 158/158 [00:04<00:00, 35.54it/s, v_num=17, val_loss_log_transformed=0.171, val_loss=1.270, val_accuracy_tolerant_1pt=0.792, train_loss=0.201]"
     ]
    },
    {
     "name": "stderr",
     "output_type": "stream",
     "text": [
      "LOCAL_RANK: 0 - CUDA_VISIBLE_DEVICES: [0]\n"
     ]
    },
    {
     "name": "stdout",
     "output_type": "stream",
     "text": [
      "\n",
      "Available metrics for model FinalTransformer: dict_keys(['lr-AdamW', 'val_loss_log_transformed', 'val_loss', 'val_accuracy_tolerant_1pt', 'train_loss'])\n",
      "FinalTransformer final val_loss = 1.2705\n",
      "Testing DataLoader 0: 100%|██████████| 34/34 [00:00<00:00, 74.30it/s]\n"
     ]
    },
    {
     "data": {
      "text/html": [
       "<pre style=\"white-space:pre;overflow-x:auto;line-height:normal;font-family:Menlo,'DejaVu Sans Mono',consolas,'Courier New',monospace\">┏━━━━━━━━━━━━━━━━━━━━━━━━━━━━┳━━━━━━━━━━━━━━━━━━━━━━━━━━━━┓\n",
       "┃<span style=\"font-weight: bold\">        Test metric         </span>┃<span style=\"font-weight: bold\">        DataLoader 0        </span>┃\n",
       "┡━━━━━━━━━━━━━━━━━━━━━━━━━━━━╇━━━━━━━━━━━━━━━━━━━━━━━━━━━━┩\n",
       "│<span style=\"color: #008080; text-decoration-color: #008080\">    test_accuracy_exact     </span>│<span style=\"color: #800080; text-decoration-color: #800080\">     0.7407235503196716     </span>│\n",
       "│<span style=\"color: #008080; text-decoration-color: #008080\"> test_accuracy_tolerant_1pt </span>│<span style=\"color: #800080; text-decoration-color: #800080\">     0.905148446559906      </span>│\n",
       "│<span style=\"color: #008080; text-decoration-color: #008080\">         test_loss          </span>│<span style=\"color: #800080; text-decoration-color: #800080\">     0.6771220564842224     </span>│\n",
       "│<span style=\"color: #008080; text-decoration-color: #008080\"> test_loss_log_transformed  </span>│<span style=\"color: #800080; text-decoration-color: #800080\">    0.11133868247270584     </span>│\n",
       "└────────────────────────────┴────────────────────────────┘\n",
       "</pre>\n"
      ],
      "text/plain": [
       "┏━━━━━━━━━━━━━━━━━━━━━━━━━━━━┳━━━━━━━━━━━━━━━━━━━━━━━━━━━━┓\n",
       "┃\u001b[1m \u001b[0m\u001b[1m       Test metric        \u001b[0m\u001b[1m \u001b[0m┃\u001b[1m \u001b[0m\u001b[1m       DataLoader 0       \u001b[0m\u001b[1m \u001b[0m┃\n",
       "┡━━━━━━━━━━━━━━━━━━━━━━━━━━━━╇━━━━━━━━━━━━━━━━━━━━━━━━━━━━┩\n",
       "│\u001b[36m \u001b[0m\u001b[36m   test_accuracy_exact    \u001b[0m\u001b[36m \u001b[0m│\u001b[35m \u001b[0m\u001b[35m    0.7407235503196716    \u001b[0m\u001b[35m \u001b[0m│\n",
       "│\u001b[36m \u001b[0m\u001b[36mtest_accuracy_tolerant_1pt\u001b[0m\u001b[36m \u001b[0m│\u001b[35m \u001b[0m\u001b[35m    0.905148446559906     \u001b[0m\u001b[35m \u001b[0m│\n",
       "│\u001b[36m \u001b[0m\u001b[36m        test_loss         \u001b[0m\u001b[36m \u001b[0m│\u001b[35m \u001b[0m\u001b[35m    0.6771220564842224    \u001b[0m\u001b[35m \u001b[0m│\n",
       "│\u001b[36m \u001b[0m\u001b[36mtest_loss_log_transformed \u001b[0m\u001b[36m \u001b[0m│\u001b[35m \u001b[0m\u001b[35m   0.11133868247270584    \u001b[0m\u001b[35m \u001b[0m│\n",
       "└────────────────────────────┴────────────────────────────┘\n"
      ]
     },
     "metadata": {},
     "output_type": "display_data"
    },
    {
     "name": "stderr",
     "output_type": "stream",
     "text": [
      "LOCAL_RANK: 0 - CUDA_VISIBLE_DEVICES: [0]\n"
     ]
    },
    {
     "name": "stdout",
     "output_type": "stream",
     "text": [
      "[{'test_loss_log_transformed': 0.11133868247270584, 'test_loss': 0.6771220564842224, 'test_accuracy_exact': 0.7407235503196716, 'test_accuracy_tolerant_1pt': 0.905148446559906}]\n",
      "Testing active players\n",
      "Testing DataLoader 0: 100%|██████████| 7/7 [00:00<00:00, 64.69it/s]\n"
     ]
    },
    {
     "data": {
      "text/html": [
       "<pre style=\"white-space:pre;overflow-x:auto;line-height:normal;font-family:Menlo,'DejaVu Sans Mono',consolas,'Courier New',monospace\">┏━━━━━━━━━━━━━━━━━━━━━━━━━━━━┳━━━━━━━━━━━━━━━━━━━━━━━━━━━━┓\n",
       "┃<span style=\"font-weight: bold\">        Test metric         </span>┃<span style=\"font-weight: bold\">        DataLoader 0        </span>┃\n",
       "┡━━━━━━━━━━━━━━━━━━━━━━━━━━━━╇━━━━━━━━━━━━━━━━━━━━━━━━━━━━┩\n",
       "│<span style=\"color: #008080; text-decoration-color: #008080\">    test_accuracy_exact     </span>│<span style=\"color: #800080; text-decoration-color: #800080\">    0.12747524678707123     </span>│\n",
       "│<span style=\"color: #008080; text-decoration-color: #008080\"> test_accuracy_tolerant_1pt </span>│<span style=\"color: #800080; text-decoration-color: #800080\">     0.3502475321292877     </span>│\n",
       "│<span style=\"color: #008080; text-decoration-color: #008080\">         test_loss          </span>│<span style=\"color: #800080; text-decoration-color: #800080\">     6.202970504760742      </span>│\n",
       "│<span style=\"color: #008080; text-decoration-color: #008080\"> test_loss_log_transformed  </span>│<span style=\"color: #800080; text-decoration-color: #800080\">     0.5866237282752991     </span>│\n",
       "└────────────────────────────┴────────────────────────────┘\n",
       "</pre>\n"
      ],
      "text/plain": [
       "┏━━━━━━━━━━━━━━━━━━━━━━━━━━━━┳━━━━━━━━━━━━━━━━━━━━━━━━━━━━┓\n",
       "┃\u001b[1m \u001b[0m\u001b[1m       Test metric        \u001b[0m\u001b[1m \u001b[0m┃\u001b[1m \u001b[0m\u001b[1m       DataLoader 0       \u001b[0m\u001b[1m \u001b[0m┃\n",
       "┡━━━━━━━━━━━━━━━━━━━━━━━━━━━━╇━━━━━━━━━━━━━━━━━━━━━━━━━━━━┩\n",
       "│\u001b[36m \u001b[0m\u001b[36m   test_accuracy_exact    \u001b[0m\u001b[36m \u001b[0m│\u001b[35m \u001b[0m\u001b[35m   0.12747524678707123    \u001b[0m\u001b[35m \u001b[0m│\n",
       "│\u001b[36m \u001b[0m\u001b[36mtest_accuracy_tolerant_1pt\u001b[0m\u001b[36m \u001b[0m│\u001b[35m \u001b[0m\u001b[35m    0.3502475321292877    \u001b[0m\u001b[35m \u001b[0m│\n",
       "│\u001b[36m \u001b[0m\u001b[36m        test_loss         \u001b[0m\u001b[36m \u001b[0m│\u001b[35m \u001b[0m\u001b[35m    6.202970504760742     \u001b[0m\u001b[35m \u001b[0m│\n",
       "│\u001b[36m \u001b[0m\u001b[36mtest_loss_log_transformed \u001b[0m\u001b[36m \u001b[0m│\u001b[35m \u001b[0m\u001b[35m    0.5866237282752991    \u001b[0m\u001b[35m \u001b[0m│\n",
       "└────────────────────────────┴────────────────────────────┘\n"
      ]
     },
     "metadata": {},
     "output_type": "display_data"
    },
    {
     "name": "stdout",
     "output_type": "stream",
     "text": [
      "[{'test_loss_log_transformed': 0.5866237282752991, 'test_loss': 6.202970504760742, 'test_accuracy_exact': 0.12747524678707123, 'test_accuracy_tolerant_1pt': 0.3502475321292877}]\n"
     ]
    }
   ],
   "source": [
    "final_advanced_results  = {}\n",
    "csv_log_paths_advanced  = {}\n",
    "\n",
    "\n",
    "active_sequences, active_masks, active_targets = prepare_player_sequences(\n",
    "    df_path=str(DATA_DIR / \"active_players.csv\"),\n",
    "    target_col=\"log1p_total_points\",\n",
    "    max_gws_in_sequence= 38,\n",
    ")\n",
    "\n",
    "\n",
    "active_sequences_reshaped = active_sequences.reshape(-1, sequences.shape[2])\n",
    "scaler.fit(active_sequences_reshaped) #normally we would use the scaler that we know from training data \n",
    "active_seq_scaled = scale_3d_sequences(active_sequences,scaler)\n",
    "\n",
    "\n",
    "active_ds = FPLPlayerSequenceDataset(active_seq_scaled, active_targets, active_masks) \n",
    "active_loader_log = DataLoader(active_ds, batch_size=128, shuffle=False) \n",
    "\n",
    "\n",
    "\n",
    "# LearningRateMonitor \n",
    "lr_monitor = LearningRateMonitor(logging_interval=\"epoch\") \n",
    "\n",
    "# Fit each model\n",
    "for name, model in models_to_evaluate_advanced.items():\n",
    "\n",
    "    early_stop_callback = EarlyStopping(\n",
    "    monitor=\"val_loss\",\n",
    "    min_delta=0.0005, # Slightly smaller delta, as losses are already low\n",
    "    patience=7,      # Increase patience a bit to allow scheduler to work\n",
    "    verbose=True,\n",
    "    mode=\"min\"\n",
    "    )\n",
    "\n",
    "    final_logger = CSVLogger(f\"logs_{name}\", name=\"fpl_experiment\")\n",
    "\n",
    "\n",
    "    csv_log_paths_advanced[name] = logger.log_dir + \"/metrics.csv\"\n",
    "\n",
    "    print(f\"▶ Training {name}\")\n",
    "    trainer = Trainer(\n",
    "    max_epochs=25,\n",
    "    logger=final_logger,\n",
    "    gradient_clip_val= 1,\n",
    "    callbacks=[early_stop_callback, lr_monitor] \n",
    "    )\n",
    "    \n",
    "    trainer.fit(\n",
    "        model=model,\n",
    "        train_dataloaders=train_loader_log,\n",
    "        val_dataloaders=val_loader_log,\n",
    "    )\n",
    "\n",
    "    print(f\"Available metrics for model {name}: {model.trainer.callback_metrics.keys()}\")\n",
    "\n",
    "    val_loss = float(model.trainer.callback_metrics[\"val_loss\"])\n",
    "    final_advanced_results[name] = val_loss\n",
    "    print(f\"{name} final val_loss = {val_loss:.4f}\")\n",
    "\n",
    "\n",
    "\n",
    "\n",
    "    test_results = trainer.test(\n",
    "        model=model,\n",
    "        dataloaders=test_loader_log,\n",
    "    )\n",
    "    print(test_results)\n",
    "\n",
    "\n",
    "    print(\"Testing active players\")\n",
    "\n",
    "    test_results = trainer.test(\n",
    "        model=model,\n",
    "        dataloaders=active_loader_log,\n",
    "    )\n",
    "    print(test_results)\n",
    "\n",
    "    \n",
    "\n",
    "\n",
    "\n",
    "\n"
   ]
  },
  {
   "cell_type": "code",
   "execution_count": 24,
   "id": "bd83a8d7",
   "metadata": {},
   "outputs": [
    {
     "name": "stdout",
     "output_type": "stream",
     "text": [
      "--- Starting Data Preparation for Sequences from C:\\Users\\asus\\OneDrive\\Desktop\\projects\\AI_project\\data\\salah.csv ---\n",
      "Successfully loaded data. Shape: (36, 133)\n",
      "\n",
      "--- Cleaning Data and Selecting Numeric Features ---\n",
      "Column 'name' is of type object and couldn't be converted to numeric. Marked for dropping.\n",
      "Column 'position' is of type object and couldn't be converted to numeric. Marked for dropping.\n",
      "Column 'team' is of type object and couldn't be converted to numeric. Marked for dropping.\n",
      "Column 'kickoff_time' is of type object and couldn't be converted to numeric. Marked for dropping.\n",
      "Column '['assists', 'bonus', 'bps', 'clean_sheets', 'creativity', 'goals_conceded', 'goals_scored', 'ict_index', 'influence', 'minutes', 'own_goals', 'penalties_missed', 'penalties_saved', 'red_cards', 'saves', 'starts', 'threat', 'yellow_cards', 'xP', 'expected_assists', 'expected_goal_involvements', 'expected_goals', 'expected_goals_conceded', 'value', 'selected', 'transfers_balance', 'transfers_in', 'transfers_out', 'team_a_score', 'team_h_score']' are dropped for preventing data leakage.\n",
      "Columns dropped for other reasons: ['name', 'position', 'team', 'kickoff_time']\n",
      "Selected 106 features for sequences: ['opponent_team', 'was_home', 'player_id', 'total_points', 'GW']...\n",
      "\n",
      "Sorting data by 'player_id' and then 'GW'...\n",
      "\n",
      "--- Creating Fixed-Length Sequences (Max Gameweeks: 38) ---\n",
      "Successfully created sequences. Shape: (36, 38, 104)\n",
      "Targets shape: (36,)\n",
      "Attention masks shape: (36, 38)\n"
     ]
    },
    {
     "data": {
      "image/png": "[encoded data removed]",
      "text/plain": [
       "<Figure size 1500x700 with 1 Axes>"
      ]
     },
     "metadata": {},
     "output_type": "display_data"
    }
   ],
   "source": [
    "salah_sequences, salah_masks, salah_targets = prepare_player_sequences(\n",
    "    df_path=str(DATA_DIR / \"salah.csv\"),\n",
    "    target_col=\"log1p_total_points\",\n",
    "    max_gws_in_sequence= 38,\n",
    ")\n",
    "\n",
    "salah_sequences_scaled = scale_3d_sequences(salah_sequences, scaler)\n",
    "\n",
    "salah_sequences_tensor = torch.tensor(salah_sequences_scaled, dtype=torch.float32)\n",
    "salah_masks_tensor = torch.tensor(salah_masks, dtype=torch.bool)\n",
    "\n",
    "salah_predictions_transformer = []\n",
    "salah_predictions_rnn = []\n",
    "\n",
    "with torch.no_grad():\n",
    "    for i in range(salah_sequences_scaled.shape[0]):\n",
    "        seq_input = salah_sequences_tensor[i].unsqueeze(0)\n",
    "        mask_input = salah_masks_tensor[i].unsqueeze(0)\n",
    "        pred_transformer = models_to_evaluate_advanced[\"FinalTransformer\"](seq_input, mask_input) \n",
    "        pred_rnn = models_to_evaluate_advanced[\"FinalRNN\"](seq_input, mask_input) \n",
    "\n",
    "\n",
    "        salah_predictions_transformer.append(np.expm1(pred_transformer.item()))\n",
    "        salah_predictions_rnn.append(np.expm1(pred_rnn.item()))\n",
    "\n",
    "salah_predictions_transformer_rounded = np.round(salah_predictions_transformer)\n",
    "salah_predictions_rnn_rounded = np.round(salah_predictions_rnn)\n",
    "\n",
    "\n",
    "\n",
    "plt.figure(figsize=(15, 7))\n",
    "plt.plot(np.expm1(salah_targets), label='Salah - True Points', marker='o')\n",
    "plt.plot(salah_predictions_transformer_rounded, label='Salah - Transformer Predicted Points (Rounded)', marker='x', linestyle='--')\n",
    "plt.plot(salah_predictions_rnn_rounded, label='Salah - RNN Predicted Points (Rounded)', marker='x', linestyle='--')\n",
    "plt.xlabel(\"Gameweek\")\n",
    "plt.ylabel(\"Total Points\")\n",
    "plt.title(f\"Model Performance on Mohamed Salah (using prepare_player_sequences)\")\n",
    "plt.legend()\n",
    "plt.grid(True)\n",
    "plt.show()"
   ]
  },
  {
   "cell_type": "markdown",
   "id": "b7ebae2e",
   "metadata": {},
   "source": [
    "As we can see from the test evaluations, the new models perform similarly to our previous versions in general test data. However for evaluation in active players there is a conundrum. If we look at it statistically our new model performs less accuracy in its predictions. However If we analyze it from the difference between Salah's predictions we see new version fits way better. \n",
    "\n",
    "Therefore we can look behind the numerical problem. Problem may lie in the fact that a model might predict a good match reasonibly (maybe his form was good), there is a possbility of player extremely underperforming or getting injured the day before. Therefore the prediction of a high score will increase the loss even though it was the reasonable thing to do. Our previous model was outputting low prediction even if the players are expected to perform highly in an effort to keep the error loss in case of an unlucky performance. Therefore; these two types of models have benefits of their own while the newer version might be prefered for an outstanding player like Salah"
   ]
  },
  {
   "cell_type": "markdown",
   "id": "c91b35e7",
   "metadata": {},
   "source": [
    "# Main Model Selection\n",
    "\n",
    "Here we run our main hyperparameter selection to select our best parameters which is crucial especially for transformers. This is going to be the most computitionally expensive slide; therefore, to reduce the overall runtime by not running this cell, selected parameters and the model that is selected can be found in models.py\n",
    "\n",
    "Even though our previous architectures achieved better errors compared to log-transform models, we wil focus on our the final version of the models because they exhibit better predictions for high performing players as our \"salah evaluation\" shows. Also with high prediction rates our old models are already pretty optimized while our new model will benefit more from hyperparameter selection. For even more robustness we can think of using a mixture of models to optimize our prediction"
   ]
  },
  {
   "cell_type": "code",
   "execution_count": 25,
   "id": "bd20d0df",
   "metadata": {},
   "outputs": [
    {
     "name": "stderr",
     "output_type": "stream",
     "text": [
      "Using default `ModelCheckpoint`. Consider installing `litmodels` package to enable `LitModelCheckpoint` for automatic upload to the Lightning model registry.\n"
     ]
    },
    {
     "name": "stderr",
     "output_type": "stream",
     "text": [
      "GPU available: True (cuda), used: True\n",
      "TPU available: False, using: 0 TPU cores\n",
      "HPU available: False, using: 0 HPUs\n",
      "LOCAL_RANK: 0 - CUDA_VISIBLE_DEVICES: [0]\n",
      "\n",
      "  | Name                | Type                 | Params | Mode \n",
      "---------------------------------------------------------------------\n",
      "0 | input_projection    | Linear               | 26.9 K | train\n",
      "1 | input_norm          | LayerNorm            | 512    | train\n",
      "2 | pos_encoder         | PositionalEncoding   | 0      | train\n",
      "3 | transformer_encoder | TransformerEncoder   | 1.1 M  | train\n",
      "4 | output_head         | Sequential           | 33.0 K | train\n",
      "5 | criterion           | WeightedSmoothL1Loss | 0      | train\n",
      "---------------------------------------------------------------------\n",
      "1.1 M     Trainable params\n",
      "0         Non-trainable params\n",
      "1.1 M     Total params\n",
      "4.458     Total estimated model params size (MB)\n",
      "33        Modules in train mode\n",
      "0         Modules in eval mode\n",
      "`Trainer.fit` stopped: `max_epochs=15` reached.\n",
      "Using default `ModelCheckpoint`. Consider installing `litmodels` package to enable `LitModelCheckpoint` for automatic upload to the Lightning model registry.\n",
      "GPU available: True (cuda), used: True\n",
      "TPU available: False, using: 0 TPU cores\n",
      "HPU available: False, using: 0 HPUs\n",
      "LOCAL_RANK: 0 - CUDA_VISIBLE_DEVICES: [0]\n",
      "\n",
      "  | Name                | Type                 | Params | Mode \n",
      "---------------------------------------------------------------------\n",
      "0 | input_projection    | Linear               | 26.9 K | train\n",
      "1 | input_norm          | LayerNorm            | 512    | train\n",
      "2 | pos_encoder         | PositionalEncoding   | 0      | train\n",
      "3 | transformer_encoder | TransformerEncoder   | 1.1 M  | train\n",
      "4 | output_head         | Sequential           | 33.0 K | train\n",
      "5 | criterion           | WeightedSmoothL1Loss | 0      | train\n",
      "---------------------------------------------------------------------\n",
      "1.1 M     Trainable params\n",
      "0         Non-trainable params\n",
      "1.1 M     Total params\n",
      "4.458     Total estimated model params size (MB)\n",
      "33        Modules in train mode\n",
      "0         Modules in eval mode\n",
      "`Trainer.fit` stopped: `max_epochs=15` reached.\n",
      "Using default `ModelCheckpoint`. Consider installing `litmodels` package to enable `LitModelCheckpoint` for automatic upload to the Lightning model registry.\n",
      "GPU available: True (cuda), used: True\n",
      "TPU available: False, using: 0 TPU cores\n",
      "HPU available: False, using: 0 HPUs\n",
      "LOCAL_RANK: 0 - CUDA_VISIBLE_DEVICES: [0]\n",
      "\n",
      "  | Name                | Type                 | Params | Mode \n",
      "---------------------------------------------------------------------\n",
      "0 | input_projection    | Linear               | 26.9 K | train\n",
      "1 | input_norm          | LayerNorm            | 512    | train\n",
      "2 | pos_encoder         | PositionalEncoding   | 0      | train\n",
      "3 | transformer_encoder | TransformerEncoder   | 1.1 M  | train\n",
      "4 | output_head         | Sequential           | 33.0 K | train\n",
      "5 | criterion           | WeightedSmoothL1Loss | 0      | train\n",
      "---------------------------------------------------------------------\n",
      "1.1 M     Trainable params\n",
      "0         Non-trainable params\n",
      "1.1 M     Total params\n",
      "4.458     Total estimated model params size (MB)\n",
      "33        Modules in train mode\n",
      "0         Modules in eval mode\n",
      "`Trainer.fit` stopped: `max_epochs=15` reached.\n",
      "Using default `ModelCheckpoint`. Consider installing `litmodels` package to enable `LitModelCheckpoint` for automatic upload to the Lightning model registry.\n",
      "GPU available: True (cuda), used: True\n",
      "TPU available: False, using: 0 TPU cores\n",
      "HPU available: False, using: 0 HPUs\n",
      "LOCAL_RANK: 0 - CUDA_VISIBLE_DEVICES: [0]\n",
      "\n",
      "  | Name                | Type                 | Params | Mode \n",
      "---------------------------------------------------------------------\n",
      "0 | input_projection    | Linear               | 26.9 K | train\n",
      "1 | input_norm          | LayerNorm            | 512    | train\n",
      "2 | pos_encoder         | PositionalEncoding   | 0      | train\n",
      "3 | transformer_encoder | TransformerEncoder   | 1.1 M  | train\n",
      "4 | output_head         | Sequential           | 33.0 K | train\n",
      "5 | criterion           | WeightedSmoothL1Loss | 0      | train\n",
      "---------------------------------------------------------------------\n",
      "1.1 M     Trainable params\n",
      "0         Non-trainable params\n",
      "1.1 M     Total params\n",
      "4.458     Total estimated model params size (MB)\n",
      "33        Modules in train mode\n",
      "0         Modules in eval mode\n",
      "`Trainer.fit` stopped: `max_epochs=15` reached.\n",
      "Using default `ModelCheckpoint`. Consider installing `litmodels` package to enable `LitModelCheckpoint` for automatic upload to the Lightning model registry.\n",
      "GPU available: True (cuda), used: True\n",
      "TPU available: False, using: 0 TPU cores\n",
      "HPU available: False, using: 0 HPUs\n",
      "LOCAL_RANK: 0 - CUDA_VISIBLE_DEVICES: [0]\n",
      "\n",
      "  | Name                | Type                 | Params | Mode \n",
      "---------------------------------------------------------------------\n",
      "0 | input_projection    | Linear               | 26.9 K | train\n",
      "1 | input_norm          | LayerNorm            | 512    | train\n",
      "2 | pos_encoder         | PositionalEncoding   | 0      | train\n",
      "3 | transformer_encoder | TransformerEncoder   | 1.1 M  | train\n",
      "4 | output_head         | Sequential           | 33.0 K | train\n",
      "5 | criterion           | WeightedSmoothL1Loss | 0      | train\n",
      "---------------------------------------------------------------------\n",
      "1.1 M     Trainable params\n",
      "0         Non-trainable params\n",
      "1.1 M     Total params\n",
      "4.458     Total estimated model params size (MB)\n",
      "33        Modules in train mode\n",
      "0         Modules in eval mode\n",
      "`Trainer.fit` stopped: `max_epochs=15` reached.\n",
      "Using default `ModelCheckpoint`. Consider installing `litmodels` package to enable `LitModelCheckpoint` for automatic upload to the Lightning model registry.\n",
      "GPU available: True (cuda), used: True\n",
      "TPU available: False, using: 0 TPU cores\n",
      "HPU available: False, using: 0 HPUs\n",
      "LOCAL_RANK: 0 - CUDA_VISIBLE_DEVICES: [0]\n",
      "\n",
      "  | Name                | Type                 | Params | Mode \n",
      "---------------------------------------------------------------------\n",
      "0 | input_projection    | Linear               | 26.9 K | train\n",
      "1 | input_norm          | LayerNorm            | 512    | train\n",
      "2 | pos_encoder         | PositionalEncoding   | 0      | train\n",
      "3 | transformer_encoder | TransformerEncoder   | 1.1 M  | train\n",
      "4 | output_head         | Sequential           | 33.0 K | train\n",
      "5 | criterion           | WeightedSmoothL1Loss | 0      | train\n",
      "---------------------------------------------------------------------\n",
      "1.1 M     Trainable params\n",
      "0         Non-trainable params\n",
      "1.1 M     Total params\n",
      "4.458     Total estimated model params size (MB)\n",
      "33        Modules in train mode\n",
      "0         Modules in eval mode\n",
      "`Trainer.fit` stopped: `max_epochs=15` reached.\n",
      "Using default `ModelCheckpoint`. Consider installing `litmodels` package to enable `LitModelCheckpoint` for automatic upload to the Lightning model registry.\n",
      "GPU available: True (cuda), used: True\n",
      "TPU available: False, using: 0 TPU cores\n",
      "HPU available: False, using: 0 HPUs\n",
      "LOCAL_RANK: 0 - CUDA_VISIBLE_DEVICES: [0]\n",
      "\n",
      "  | Name                | Type                 | Params | Mode \n",
      "---------------------------------------------------------------------\n",
      "0 | input_projection    | Linear               | 26.9 K | train\n",
      "1 | input_norm          | LayerNorm            | 512    | train\n",
      "2 | pos_encoder         | PositionalEncoding   | 0      | train\n",
      "3 | transformer_encoder | TransformerEncoder   | 1.1 M  | train\n",
      "4 | output_head         | Sequential           | 33.0 K | train\n",
      "5 | criterion           | WeightedSmoothL1Loss | 0      | train\n",
      "---------------------------------------------------------------------\n",
      "1.1 M     Trainable params\n",
      "0         Non-trainable params\n",
      "1.1 M     Total params\n",
      "4.458     Total estimated model params size (MB)\n",
      "33        Modules in train mode\n",
      "0         Modules in eval mode\n",
      "Using default `ModelCheckpoint`. Consider installing `litmodels` package to enable `LitModelCheckpoint` for automatic upload to the Lightning model registry.\n",
      "GPU available: True (cuda), used: True\n",
      "TPU available: False, using: 0 TPU cores\n",
      "HPU available: False, using: 0 HPUs\n",
      "LOCAL_RANK: 0 - CUDA_VISIBLE_DEVICES: [0]\n",
      "\n",
      "  | Name                | Type                 | Params | Mode \n",
      "---------------------------------------------------------------------\n",
      "0 | input_projection    | Linear               | 26.9 K | train\n",
      "1 | input_norm          | LayerNorm            | 512    | train\n",
      "2 | pos_encoder         | PositionalEncoding   | 0      | train\n",
      "3 | transformer_encoder | TransformerEncoder   | 1.1 M  | train\n",
      "4 | output_head         | Sequential           | 33.0 K | train\n",
      "5 | criterion           | WeightedSmoothL1Loss | 0      | train\n",
      "---------------------------------------------------------------------\n",
      "1.1 M     Trainable params\n",
      "0         Non-trainable params\n",
      "1.1 M     Total params\n",
      "4.458     Total estimated model params size (MB)\n",
      "33        Modules in train mode\n",
      "0         Modules in eval mode\n",
      "`Trainer.fit` stopped: `max_epochs=15` reached.\n",
      "Using default `ModelCheckpoint`. Consider installing `litmodels` package to enable `LitModelCheckpoint` for automatic upload to the Lightning model registry.\n",
      "GPU available: True (cuda), used: True\n",
      "TPU available: False, using: 0 TPU cores\n",
      "HPU available: False, using: 0 HPUs\n",
      "LOCAL_RANK: 0 - CUDA_VISIBLE_DEVICES: [0]\n",
      "\n",
      "  | Name                | Type                 | Params | Mode \n",
      "---------------------------------------------------------------------\n",
      "0 | input_projection    | Linear               | 26.9 K | train\n",
      "1 | input_norm          | LayerNorm            | 512    | train\n",
      "2 | pos_encoder         | PositionalEncoding   | 0      | train\n",
      "3 | transformer_encoder | TransformerEncoder   | 1.1 M  | train\n",
      "4 | output_head         | Sequential           | 33.0 K | train\n",
      "5 | criterion           | WeightedSmoothL1Loss | 0      | train\n",
      "---------------------------------------------------------------------\n",
      "1.1 M     Trainable params\n",
      "0         Non-trainable params\n",
      "1.1 M     Total params\n",
      "4.458     Total estimated model params size (MB)\n",
      "33        Modules in train mode\n",
      "0         Modules in eval mode\n",
      "`Trainer.fit` stopped: `max_epochs=15` reached.\n",
      "Using default `ModelCheckpoint`. Consider installing `litmodels` package to enable `LitModelCheckpoint` for automatic upload to the Lightning model registry.\n",
      "GPU available: True (cuda), used: True\n",
      "TPU available: False, using: 0 TPU cores\n",
      "HPU available: False, using: 0 HPUs\n",
      "LOCAL_RANK: 0 - CUDA_VISIBLE_DEVICES: [0]\n",
      "\n",
      "  | Name                | Type                 | Params | Mode \n",
      "---------------------------------------------------------------------\n",
      "0 | input_projection    | Linear               | 26.9 K | train\n",
      "1 | input_norm          | LayerNorm            | 512    | train\n",
      "2 | pos_encoder         | PositionalEncoding   | 0      | train\n",
      "3 | transformer_encoder | TransformerEncoder   | 1.1 M  | train\n",
      "4 | output_head         | Sequential           | 33.0 K | train\n",
      "5 | criterion           | WeightedSmoothL1Loss | 0      | train\n",
      "---------------------------------------------------------------------\n",
      "1.1 M     Trainable params\n",
      "0         Non-trainable params\n",
      "1.1 M     Total params\n",
      "4.458     Total estimated model params size (MB)\n",
      "33        Modules in train mode\n",
      "0         Modules in eval mode\n",
      "Using default `ModelCheckpoint`. Consider installing `litmodels` package to enable `LitModelCheckpoint` for automatic upload to the Lightning model registry.\n",
      "GPU available: True (cuda), used: True\n",
      "TPU available: False, using: 0 TPU cores\n",
      "HPU available: False, using: 0 HPUs\n",
      "LOCAL_RANK: 0 - CUDA_VISIBLE_DEVICES: [0]\n",
      "\n",
      "  | Name                | Type                 | Params | Mode \n",
      "---------------------------------------------------------------------\n",
      "0 | input_projection    | Linear               | 26.9 K | train\n",
      "1 | input_norm          | LayerNorm            | 512    | train\n",
      "2 | pos_encoder         | PositionalEncoding   | 0      | train\n",
      "3 | transformer_encoder | TransformerEncoder   | 1.1 M  | train\n",
      "4 | output_head         | Sequential           | 33.0 K | train\n",
      "5 | criterion           | WeightedSmoothL1Loss | 0      | train\n",
      "---------------------------------------------------------------------\n",
      "1.1 M     Trainable params\n",
      "0         Non-trainable params\n",
      "1.1 M     Total params\n",
      "4.458     Total estimated model params size (MB)\n",
      "33        Modules in train mode\n",
      "0         Modules in eval mode\n",
      "`Trainer.fit` stopped: `max_epochs=15` reached.\n",
      "Using default `ModelCheckpoint`. Consider installing `litmodels` package to enable `LitModelCheckpoint` for automatic upload to the Lightning model registry.\n",
      "GPU available: True (cuda), used: True\n",
      "TPU available: False, using: 0 TPU cores\n",
      "HPU available: False, using: 0 HPUs\n",
      "LOCAL_RANK: 0 - CUDA_VISIBLE_DEVICES: [0]\n",
      "\n",
      "  | Name                | Type                 | Params | Mode \n",
      "---------------------------------------------------------------------\n",
      "0 | input_projection    | Linear               | 26.9 K | train\n",
      "1 | input_norm          | LayerNorm            | 512    | train\n",
      "2 | pos_encoder         | PositionalEncoding   | 0      | train\n",
      "3 | transformer_encoder | TransformerEncoder   | 1.1 M  | train\n",
      "4 | output_head         | Sequential           | 33.0 K | train\n",
      "5 | criterion           | WeightedSmoothL1Loss | 0      | train\n",
      "---------------------------------------------------------------------\n",
      "1.1 M     Trainable params\n",
      "0         Non-trainable params\n",
      "1.1 M     Total params\n",
      "4.458     Total estimated model params size (MB)\n",
      "33        Modules in train mode\n",
      "0         Modules in eval mode\n",
      "`Trainer.fit` stopped: `max_epochs=15` reached.\n",
      "Using default `ModelCheckpoint`. Consider installing `litmodels` package to enable `LitModelCheckpoint` for automatic upload to the Lightning model registry.\n",
      "GPU available: True (cuda), used: True\n",
      "TPU available: False, using: 0 TPU cores\n",
      "HPU available: False, using: 0 HPUs\n",
      "LOCAL_RANK: 0 - CUDA_VISIBLE_DEVICES: [0]\n",
      "\n",
      "  | Name                | Type                 | Params | Mode \n",
      "---------------------------------------------------------------------\n",
      "0 | input_projection    | Linear               | 26.9 K | train\n",
      "1 | input_norm          | LayerNorm            | 512    | train\n",
      "2 | pos_encoder         | PositionalEncoding   | 0      | train\n",
      "3 | transformer_encoder | TransformerEncoder   | 1.1 M  | train\n",
      "4 | output_head         | Sequential           | 33.0 K | train\n",
      "5 | criterion           | WeightedSmoothL1Loss | 0      | train\n",
      "---------------------------------------------------------------------\n",
      "1.1 M     Trainable params\n",
      "0         Non-trainable params\n",
      "1.1 M     Total params\n",
      "4.458     Total estimated model params size (MB)\n",
      "33        Modules in train mode\n",
      "0         Modules in eval mode\n",
      "Using default `ModelCheckpoint`. Consider installing `litmodels` package to enable `LitModelCheckpoint` for automatic upload to the Lightning model registry.\n",
      "GPU available: True (cuda), used: True\n",
      "TPU available: False, using: 0 TPU cores\n",
      "HPU available: False, using: 0 HPUs\n",
      "LOCAL_RANK: 0 - CUDA_VISIBLE_DEVICES: [0]\n",
      "\n",
      "  | Name                | Type                 | Params | Mode \n",
      "---------------------------------------------------------------------\n",
      "0 | input_projection    | Linear               | 26.9 K | train\n",
      "1 | input_norm          | LayerNorm            | 512    | train\n",
      "2 | pos_encoder         | PositionalEncoding   | 0      | train\n",
      "3 | transformer_encoder | TransformerEncoder   | 1.1 M  | train\n",
      "4 | output_head         | Sequential           | 33.0 K | train\n",
      "5 | criterion           | WeightedSmoothL1Loss | 0      | train\n",
      "---------------------------------------------------------------------\n",
      "1.1 M     Trainable params\n",
      "0         Non-trainable params\n",
      "1.1 M     Total params\n",
      "4.458     Total estimated model params size (MB)\n",
      "33        Modules in train mode\n",
      "0         Modules in eval mode\n",
      "`Trainer.fit` stopped: `max_epochs=15` reached.\n",
      "Using default `ModelCheckpoint`. Consider installing `litmodels` package to enable `LitModelCheckpoint` for automatic upload to the Lightning model registry.\n",
      "GPU available: True (cuda), used: True\n",
      "TPU available: False, using: 0 TPU cores\n",
      "HPU available: False, using: 0 HPUs\n",
      "LOCAL_RANK: 0 - CUDA_VISIBLE_DEVICES: [0]\n",
      "\n",
      "  | Name                | Type                 | Params | Mode \n",
      "---------------------------------------------------------------------\n",
      "0 | input_projection    | Linear               | 26.9 K | train\n",
      "1 | input_norm          | LayerNorm            | 512    | train\n",
      "2 | pos_encoder         | PositionalEncoding   | 0      | train\n",
      "3 | transformer_encoder | TransformerEncoder   | 1.1 M  | train\n",
      "4 | output_head         | Sequential           | 33.0 K | train\n",
      "5 | criterion           | WeightedSmoothL1Loss | 0      | train\n",
      "---------------------------------------------------------------------\n",
      "1.1 M     Trainable params\n",
      "0         Non-trainable params\n",
      "1.1 M     Total params\n",
      "4.458     Total estimated model params size (MB)\n",
      "33        Modules in train mode\n",
      "0         Modules in eval mode\n",
      "`Trainer.fit` stopped: `max_epochs=15` reached.\n",
      "Using default `ModelCheckpoint`. Consider installing `litmodels` package to enable `LitModelCheckpoint` for automatic upload to the Lightning model registry.\n",
      "GPU available: True (cuda), used: True\n",
      "TPU available: False, using: 0 TPU cores\n",
      "HPU available: False, using: 0 HPUs\n",
      "LOCAL_RANK: 0 - CUDA_VISIBLE_DEVICES: [0]\n",
      "\n",
      "  | Name                | Type                 | Params | Mode \n",
      "---------------------------------------------------------------------\n",
      "0 | input_projection    | Linear               | 26.9 K | train\n",
      "1 | input_norm          | LayerNorm            | 512    | train\n",
      "2 | pos_encoder         | PositionalEncoding   | 0      | train\n",
      "3 | transformer_encoder | TransformerEncoder   | 1.1 M  | train\n",
      "4 | output_head         | Sequential           | 33.0 K | train\n",
      "5 | criterion           | WeightedSmoothL1Loss | 0      | train\n",
      "---------------------------------------------------------------------\n",
      "1.1 M     Trainable params\n",
      "0         Non-trainable params\n",
      "1.1 M     Total params\n",
      "4.458     Total estimated model params size (MB)\n",
      "33        Modules in train mode\n",
      "0         Modules in eval mode\n",
      "`Trainer.fit` stopped: `max_epochs=15` reached.\n",
      "Using default `ModelCheckpoint`. Consider installing `litmodels` package to enable `LitModelCheckpoint` for automatic upload to the Lightning model registry.\n",
      "GPU available: True (cuda), used: True\n",
      "TPU available: False, using: 0 TPU cores\n",
      "HPU available: False, using: 0 HPUs\n",
      "LOCAL_RANK: 0 - CUDA_VISIBLE_DEVICES: [0]\n",
      "\n",
      "  | Name                | Type                 | Params | Mode \n",
      "---------------------------------------------------------------------\n",
      "0 | input_projection    | Linear               | 26.9 K | train\n",
      "1 | input_norm          | LayerNorm            | 512    | train\n",
      "2 | pos_encoder         | PositionalEncoding   | 0      | train\n",
      "3 | transformer_encoder | TransformerEncoder   | 1.1 M  | train\n",
      "4 | output_head         | Sequential           | 33.0 K | train\n",
      "5 | criterion           | WeightedSmoothL1Loss | 0      | train\n",
      "---------------------------------------------------------------------\n",
      "1.1 M     Trainable params\n",
      "0         Non-trainable params\n",
      "1.1 M     Total params\n",
      "4.458     Total estimated model params size (MB)\n",
      "33        Modules in train mode\n",
      "0         Modules in eval mode\n",
      "`Trainer.fit` stopped: `max_epochs=15` reached.\n",
      "Using default `ModelCheckpoint`. Consider installing `litmodels` package to enable `LitModelCheckpoint` for automatic upload to the Lightning model registry.\n",
      "GPU available: True (cuda), used: True\n",
      "TPU available: False, using: 0 TPU cores\n",
      "HPU available: False, using: 0 HPUs\n",
      "LOCAL_RANK: 0 - CUDA_VISIBLE_DEVICES: [0]\n",
      "\n",
      "  | Name                | Type                 | Params | Mode \n",
      "---------------------------------------------------------------------\n",
      "0 | input_projection    | Linear               | 26.9 K | train\n",
      "1 | input_norm          | LayerNorm            | 512    | train\n",
      "2 | pos_encoder         | PositionalEncoding   | 0      | train\n",
      "3 | transformer_encoder | TransformerEncoder   | 1.1 M  | train\n",
      "4 | output_head         | Sequential           | 33.0 K | train\n",
      "5 | criterion           | WeightedSmoothL1Loss | 0      | train\n",
      "---------------------------------------------------------------------\n",
      "1.1 M     Trainable params\n",
      "0         Non-trainable params\n",
      "1.1 M     Total params\n",
      "4.458     Total estimated model params size (MB)\n",
      "33        Modules in train mode\n",
      "0         Modules in eval mode\n",
      "`Trainer.fit` stopped: `max_epochs=15` reached.\n",
      "Using default `ModelCheckpoint`. Consider installing `litmodels` package to enable `LitModelCheckpoint` for automatic upload to the Lightning model registry.\n",
      "GPU available: True (cuda), used: True\n",
      "TPU available: False, using: 0 TPU cores\n",
      "HPU available: False, using: 0 HPUs\n",
      "LOCAL_RANK: 0 - CUDA_VISIBLE_DEVICES: [0]\n",
      "\n",
      "  | Name                | Type                 | Params | Mode \n",
      "---------------------------------------------------------------------\n",
      "0 | input_projection    | Linear               | 26.9 K | train\n",
      "1 | input_norm          | LayerNorm            | 512    | train\n",
      "2 | pos_encoder         | PositionalEncoding   | 0      | train\n",
      "3 | transformer_encoder | TransformerEncoder   | 1.1 M  | train\n",
      "4 | output_head         | Sequential           | 33.0 K | train\n",
      "5 | criterion           | WeightedSmoothL1Loss | 0      | train\n",
      "---------------------------------------------------------------------\n",
      "1.1 M     Trainable params\n",
      "0         Non-trainable params\n",
      "1.1 M     Total params\n",
      "4.458     Total estimated model params size (MB)\n",
      "33        Modules in train mode\n",
      "0         Modules in eval mode\n",
      "`Trainer.fit` stopped: `max_epochs=15` reached.\n",
      "Using default `ModelCheckpoint`. Consider installing `litmodels` package to enable `LitModelCheckpoint` for automatic upload to the Lightning model registry.\n",
      "GPU available: True (cuda), used: True\n",
      "TPU available: False, using: 0 TPU cores\n",
      "HPU available: False, using: 0 HPUs\n",
      "LOCAL_RANK: 0 - CUDA_VISIBLE_DEVICES: [0]\n",
      "\n",
      "  | Name                | Type                 | Params | Mode \n",
      "---------------------------------------------------------------------\n",
      "0 | input_projection    | Linear               | 26.9 K | train\n",
      "1 | input_norm          | LayerNorm            | 512    | train\n",
      "2 | pos_encoder         | PositionalEncoding   | 0      | train\n",
      "3 | transformer_encoder | TransformerEncoder   | 1.1 M  | train\n",
      "4 | output_head         | Sequential           | 33.0 K | train\n",
      "5 | criterion           | WeightedSmoothL1Loss | 0      | train\n",
      "---------------------------------------------------------------------\n",
      "1.1 M     Trainable params\n",
      "0         Non-trainable params\n",
      "1.1 M     Total params\n",
      "4.458     Total estimated model params size (MB)\n",
      "33        Modules in train mode\n",
      "0         Modules in eval mode\n",
      "`Trainer.fit` stopped: `max_epochs=15` reached.\n",
      "Using default `ModelCheckpoint`. Consider installing `litmodels` package to enable `LitModelCheckpoint` for automatic upload to the Lightning model registry.\n",
      "GPU available: True (cuda), used: True\n",
      "TPU available: False, using: 0 TPU cores\n",
      "HPU available: False, using: 0 HPUs\n",
      "LOCAL_RANK: 0 - CUDA_VISIBLE_DEVICES: [0]\n",
      "\n",
      "  | Name                | Type                 | Params | Mode \n",
      "---------------------------------------------------------------------\n",
      "0 | input_projection    | Linear               | 26.9 K | train\n",
      "1 | input_norm          | LayerNorm            | 512    | train\n",
      "2 | pos_encoder         | PositionalEncoding   | 0      | train\n",
      "3 | transformer_encoder | TransformerEncoder   | 1.1 M  | train\n",
      "4 | output_head         | Sequential           | 33.0 K | train\n",
      "5 | criterion           | WeightedSmoothL1Loss | 0      | train\n",
      "---------------------------------------------------------------------\n",
      "1.1 M     Trainable params\n",
      "0         Non-trainable params\n",
      "1.1 M     Total params\n",
      "4.458     Total estimated model params size (MB)\n",
      "33        Modules in train mode\n",
      "0         Modules in eval mode\n",
      "`Trainer.fit` stopped: `max_epochs=15` reached.\n",
      "Using default `ModelCheckpoint`. Consider installing `litmodels` package to enable `LitModelCheckpoint` for automatic upload to the Lightning model registry.\n",
      "GPU available: True (cuda), used: True\n",
      "TPU available: False, using: 0 TPU cores\n",
      "HPU available: False, using: 0 HPUs\n",
      "LOCAL_RANK: 0 - CUDA_VISIBLE_DEVICES: [0]\n",
      "\n",
      "  | Name                | Type                 | Params | Mode \n",
      "---------------------------------------------------------------------\n",
      "0 | input_projection    | Linear               | 26.9 K | train\n",
      "1 | input_norm          | LayerNorm            | 512    | train\n",
      "2 | pos_encoder         | PositionalEncoding   | 0      | train\n",
      "3 | transformer_encoder | TransformerEncoder   | 1.1 M  | train\n",
      "4 | output_head         | Sequential           | 33.0 K | train\n",
      "5 | criterion           | WeightedSmoothL1Loss | 0      | train\n",
      "---------------------------------------------------------------------\n",
      "1.1 M     Trainable params\n",
      "0         Non-trainable params\n",
      "1.1 M     Total params\n",
      "4.458     Total estimated model params size (MB)\n",
      "33        Modules in train mode\n",
      "0         Modules in eval mode\n",
      "`Trainer.fit` stopped: `max_epochs=15` reached.\n",
      "Using default `ModelCheckpoint`. Consider installing `litmodels` package to enable `LitModelCheckpoint` for automatic upload to the Lightning model registry.\n",
      "GPU available: True (cuda), used: True\n",
      "TPU available: False, using: 0 TPU cores\n",
      "HPU available: False, using: 0 HPUs\n",
      "LOCAL_RANK: 0 - CUDA_VISIBLE_DEVICES: [0]\n",
      "\n",
      "  | Name                | Type                 | Params | Mode \n",
      "---------------------------------------------------------------------\n",
      "0 | input_projection    | Linear               | 26.9 K | train\n",
      "1 | input_norm          | LayerNorm            | 512    | train\n",
      "2 | pos_encoder         | PositionalEncoding   | 0      | train\n",
      "3 | transformer_encoder | TransformerEncoder   | 1.1 M  | train\n",
      "4 | output_head         | Sequential           | 33.0 K | train\n",
      "5 | criterion           | WeightedSmoothL1Loss | 0      | train\n",
      "---------------------------------------------------------------------\n",
      "1.1 M     Trainable params\n",
      "0         Non-trainable params\n",
      "1.1 M     Total params\n",
      "4.458     Total estimated model params size (MB)\n",
      "33        Modules in train mode\n",
      "0         Modules in eval mode\n",
      "`Trainer.fit` stopped: `max_epochs=15` reached.\n",
      "Using default `ModelCheckpoint`. Consider installing `litmodels` package to enable `LitModelCheckpoint` for automatic upload to the Lightning model registry.\n",
      "GPU available: True (cuda), used: True\n",
      "TPU available: False, using: 0 TPU cores\n",
      "HPU available: False, using: 0 HPUs\n",
      "LOCAL_RANK: 0 - CUDA_VISIBLE_DEVICES: [0]\n",
      "\n",
      "  | Name                | Type                 | Params | Mode \n",
      "---------------------------------------------------------------------\n",
      "0 | input_projection    | Linear               | 26.9 K | train\n",
      "1 | input_norm          | LayerNorm            | 512    | train\n",
      "2 | pos_encoder         | PositionalEncoding   | 0      | train\n",
      "3 | transformer_encoder | TransformerEncoder   | 1.1 M  | train\n",
      "4 | output_head         | Sequential           | 33.0 K | train\n",
      "5 | criterion           | WeightedSmoothL1Loss | 0      | train\n",
      "---------------------------------------------------------------------\n",
      "1.1 M     Trainable params\n",
      "0         Non-trainable params\n",
      "1.1 M     Total params\n",
      "4.458     Total estimated model params size (MB)\n",
      "33        Modules in train mode\n",
      "0         Modules in eval mode\n",
      "`Trainer.fit` stopped: `max_epochs=15` reached.\n",
      "Using default `ModelCheckpoint`. Consider installing `litmodels` package to enable `LitModelCheckpoint` for automatic upload to the Lightning model registry.\n",
      "GPU available: True (cuda), used: True\n",
      "TPU available: False, using: 0 TPU cores\n",
      "HPU available: False, using: 0 HPUs\n",
      "LOCAL_RANK: 0 - CUDA_VISIBLE_DEVICES: [0]\n",
      "\n",
      "  | Name                | Type                 | Params | Mode \n",
      "---------------------------------------------------------------------\n",
      "0 | input_projection    | Linear               | 26.9 K | train\n",
      "1 | input_norm          | LayerNorm            | 512    | train\n",
      "2 | pos_encoder         | PositionalEncoding   | 0      | train\n",
      "3 | transformer_encoder | TransformerEncoder   | 1.1 M  | train\n",
      "4 | output_head         | Sequential           | 33.0 K | train\n",
      "5 | criterion           | WeightedSmoothL1Loss | 0      | train\n",
      "---------------------------------------------------------------------\n",
      "1.1 M     Trainable params\n",
      "0         Non-trainable params\n",
      "1.1 M     Total params\n",
      "4.458     Total estimated model params size (MB)\n",
      "33        Modules in train mode\n",
      "0         Modules in eval mode\n",
      "`Trainer.fit` stopped: `max_epochs=15` reached.\n"
     ]
    }
   ],
   "source": [
    "%%capture       \n",
    "import random \n",
    "# for a cleaner notebook\n",
    "# normally more combinations were tried but for the sake of run-time here we only do a few\n",
    "\n",
    "transformer_param_dist = {\n",
    "    'lr': [1e-5, 5e-5, 1e-4], \n",
    "    'd_model': [256, 512], \n",
    "    'nhead': [2, 4, 8], \n",
    "    'num_encoder_layers': [2, 4, 6],\n",
    "    'dim_feedforward': [512, 1024],\n",
    "    'dropout': [0.4, 0.5, 0.6],\n",
    "    'weight_decay': [1e-5, 5e-5, 1e-4],\n",
    "    'warmup_epochs': [3, 5, 7],\n",
    "    'milestone_pattern': [[3, 7]], #no search here\n",
    "    'multistep_gamma': [0.1, 0.2],\n",
    "    'underprediction_penalty': [1.0, 1.5, 2.0]\n",
    "}\n",
    "\n",
    "N_RANDOM_TRIALS = 25  \n",
    "MAX_EPOCHS_PER_TRIAL = 15\n",
    "\n",
    "print(f\"Transformer Randomized Search: {N_RANDOM_TRIALS} trials to test.\")\n",
    "\n",
    "best_transformer_val_loss_rs = float('inf')\n",
    "best_transformer_params_rs = None\n",
    "transformer_trial_results_rs = []\n",
    "\n",
    "\n",
    "\n",
    "for i in range(N_RANDOM_TRIALS):\n",
    "    params = {}\n",
    "    # Sample each hyperparameter\n",
    "    params['lr'] = random.choice(transformer_param_dist['lr'])\n",
    "    params['d_model'] = random.choice(transformer_param_dist['d_model'])\n",
    "    \n",
    "    \n",
    "    params['nhead'] = random.choice(transformer_param_dist['nhead'])\n",
    "    \n",
    "    params['num_encoder_layers'] = random.choice(transformer_param_dist['num_encoder_layers'])\n",
    "    params['dim_feedforward'] = random.choice(transformer_param_dist['dim_feedforward'])\n",
    "    \n",
    "    params['dropout'] = random.choice(transformer_param_dist['dropout'])\n",
    "    params['weight_decay'] = random.choice(transformer_param_dist['weight_decay'])\n",
    "    params['warmup_epochs'] = random.choice(transformer_param_dist['warmup_epochs'])\n",
    "    params['milestones_after_warmup'] = random.choice(transformer_param_dist['milestone_pattern'])\n",
    "    params['multistep_gamma'] = random.choice(transformer_param_dist['multistep_gamma'])\n",
    "    params['underprediction_penalty'] = random.choice(transformer_param_dist['underprediction_penalty'])\n",
    "\n",
    "\n",
    "    print(f\"\\n--- Transformer Randomized Trial {i+1}/{N_RANDOM_TRIALS} ---\")\n",
    "    print(f\"Sampled Params: {params}\")\n",
    "\n",
    "    # Clear previous run's logs if using the same logger name structure\n",
    "    trial_logger_transformer_rs = CSVLogger(\"csv_logs_randomsearch\", name=f\"transformer_trial_{i}\")\n",
    "\n",
    "    #maybe make the selection of the transformer random too\n",
    "    model_transformer_rs = FinalTransformer(\n",
    "        input_features_dim=n_feats,\n",
    "        sequence_length=seq_len, \n",
    "        d_model=params['d_model'],\n",
    "        nhead=params['nhead'],\n",
    "        num_encoder_layers=params['num_encoder_layers'],\n",
    "        dim_feedforward=params['dim_feedforward'],\n",
    "        dropout=params['dropout'],\n",
    "        lr=params['lr'],\n",
    "        weight_decay=params['weight_decay'],\n",
    "        warmup_epochs=params['warmup_epochs'],\n",
    "        milestones_after_warmup=params['milestones_after_warmup'],\n",
    "        multistep_gamma=params['multistep_gamma'],\n",
    "        underprediction_penalty=params[\"underprediction_penalty\"]\n",
    "    )\n",
    "\n",
    "\n",
    "    current_early_stop_callback = EarlyStopping(monitor='val_loss', patience=7, verbose=False, mode='min', min_delta=0.0005)\n",
    "\n",
    "\n",
    "    trainer_transformer_rs = pl.Trainer(\n",
    "        max_epochs=MAX_EPOCHS_PER_TRIAL,\n",
    "        logger=trial_logger_transformer_rs,\n",
    "        callbacks=[current_early_stop_callback, lr_monitor],\n",
    "        gradient_clip_val= 1\n",
    "    )\n",
    "\n",
    "    try:\n",
    "        print(f\"Training Transformer Trial {i+1} with LR: {params['lr']:.1e}, d_model: {params['d_model']}, nhead: {params['nhead']}...\")\n",
    "        \n",
    "        trainer_transformer_rs.fit(\n",
    "                model=model_transformer_rs,\n",
    "                train_dataloaders=train_loader_log,\n",
    "                val_dataloaders=val_loader_log,\n",
    "            )      \n",
    "          \n",
    "        val_loss_tensor = trainer_transformer_rs.callback_metrics.get(\"val_loss\")\n",
    "        \n",
    "        if val_loss_tensor is not None:\n",
    "            current_val_loss = val_loss_tensor.item()\n",
    "            transformer_trial_results_rs.append({'params': params, 'val_loss': current_val_loss})\n",
    "            print(f\"Transformer Trial {i+1} Val Loss: {current_val_loss:.4f}\")\n",
    "\n",
    "            if current_val_loss < best_transformer_val_loss_rs:\n",
    "                best_transformer_val_loss_rs = current_val_loss\n",
    "                best_transformer_params_rs = params\n",
    "        else:\n",
    "            print(f\"Transformer Trial {i+1} did not log val_loss.\")\n",
    "            transformer_trial_results_rs.append({'params': params, 'val_loss': float('inf')})\n",
    "\n",
    "    except Exception as e:\n",
    "        print(f\"Transformer Trial {i+1} failed with error: {e}\")\n",
    "        transformer_trial_results_rs.append({'params': params, 'val_loss': float('inf')})"
   ]
  },
  {
   "cell_type": "code",
   "execution_count": 26,
   "id": "3f39144b",
   "metadata": {},
   "outputs": [
    {
     "name": "stderr",
     "output_type": "stream",
     "text": [
      "Using default `ModelCheckpoint`. Consider installing `litmodels` package to enable `LitModelCheckpoint` for automatic upload to the Lightning model registry.\n",
      "GPU available: True (cuda), used: True\n",
      "TPU available: False, using: 0 TPU cores\n",
      "HPU available: False, using: 0 HPUs\n",
      "LOCAL_RANK: 0 - CUDA_VISIBLE_DEVICES: [0]\n",
      "\n",
      "  | Name                | Type                 | Params | Mode \n",
      "---------------------------------------------------------------------\n",
      "0 | input_projection    | Linear               | 26.9 K | train\n",
      "1 | input_norm          | LayerNorm            | 512    | train\n",
      "2 | pos_encoder         | PositionalEncoding   | 0      | train\n",
      "3 | transformer_encoder | TransformerEncoder   | 1.1 M  | train\n",
      "4 | output_head         | Sequential           | 33.0 K | train\n",
      "5 | criterion           | WeightedSmoothL1Loss | 0      | train\n",
      "---------------------------------------------------------------------\n",
      "1.1 M     Trainable params\n",
      "0         Non-trainable params\n",
      "1.1 M     Total params\n",
      "4.458     Total estimated model params size (MB)\n",
      "33        Modules in train mode\n",
      "0         Modules in eval mode\n"
     ]
    },
    {
     "name": "stdout",
     "output_type": "stream",
     "text": [
      "\n",
      "--- Transformer Randomized Search Complete ---\n",
      "Best Transformer Val Loss from Randomized Search: 1.2327\n",
      "Best Transformer Params from Randomized Search: {'lr': 0.0001, 'd_model': 512, 'nhead': 4, 'num_encoder_layers': 6, 'dim_feedforward': 512, 'dropout': 0.4, 'weight_decay': 5e-05, 'warmup_epochs': 5, 'milestones_after_warmup': [3, 7], 'multistep_gamma': 0.2, 'underprediction_penalty': 1.5}\n",
      "\n",
      "Retraining best Transformer model with optimal parameters...\n",
      "Epoch 0: 100%|██████████| 158/158 [00:05<00:00, 31.28it/s, v_num=4, val_loss_log_transformed=0.253, val_loss=1.790, val_accuracy_tolerant_1pt=0.822, train_loss=0.375]"
     ]
    },
    {
     "name": "stderr",
     "output_type": "stream",
     "text": [
      "Metric val_loss improved. New best score: 1.788\n"
     ]
    },
    {
     "name": "stdout",
     "output_type": "stream",
     "text": [
      "Epoch 1: 100%|██████████| 158/158 [00:04<00:00, 31.84it/s, v_num=4, val_loss_log_transformed=0.179, val_loss=1.340, val_accuracy_tolerant_1pt=0.757, train_loss=0.247]"
     ]
    },
    {
     "name": "stderr",
     "output_type": "stream",
     "text": [
      "Metric val_loss improved by 0.449 >= min_delta = 0.0. New best score: 1.339\n"
     ]
    },
    {
     "name": "stdout",
     "output_type": "stream",
     "text": [
      "Epoch 2: 100%|██████████| 158/158 [00:04<00:00, 31.84it/s, v_num=4, val_loss_log_transformed=0.164, val_loss=1.320, val_accuracy_tolerant_1pt=0.776, train_loss=0.208]"
     ]
    },
    {
     "name": "stderr",
     "output_type": "stream",
     "text": [
      "Metric val_loss improved by 0.015 >= min_delta = 0.0. New best score: 1.325\n"
     ]
    },
    {
     "name": "stdout",
     "output_type": "stream",
     "text": [
      "Epoch 3: 100%|██████████| 158/158 [00:04<00:00, 31.68it/s, v_num=4, val_loss_log_transformed=0.154, val_loss=1.290, val_accuracy_tolerant_1pt=0.804, train_loss=0.195]"
     ]
    },
    {
     "name": "stderr",
     "output_type": "stream",
     "text": [
      "Metric val_loss improved by 0.033 >= min_delta = 0.0. New best score: 1.292\n"
     ]
    },
    {
     "name": "stdout",
     "output_type": "stream",
     "text": [
      "Epoch 4: 100%|██████████| 158/158 [00:04<00:00, 31.97it/s, v_num=4, val_loss_log_transformed=0.151, val_loss=1.280, val_accuracy_tolerant_1pt=0.817, train_loss=0.189]"
     ]
    },
    {
     "name": "stderr",
     "output_type": "stream",
     "text": [
      "Metric val_loss improved by 0.013 >= min_delta = 0.0. New best score: 1.279\n"
     ]
    },
    {
     "name": "stdout",
     "output_type": "stream",
     "text": [
      "Epoch 6: 100%|██████████| 158/158 [00:04<00:00, 32.03it/s, v_num=4, val_loss_log_transformed=0.146, val_loss=1.270, val_accuracy_tolerant_1pt=0.844, train_loss=0.180]"
     ]
    },
    {
     "name": "stderr",
     "output_type": "stream",
     "text": [
      "Metric val_loss improved by 0.007 >= min_delta = 0.0. New best score: 1.272\n"
     ]
    },
    {
     "name": "stdout",
     "output_type": "stream",
     "text": [
      "Epoch 7: 100%|██████████| 158/158 [00:04<00:00, 31.87it/s, v_num=4, val_loss_log_transformed=0.146, val_loss=1.260, val_accuracy_tolerant_1pt=0.825, train_loss=0.177]"
     ]
    },
    {
     "name": "stderr",
     "output_type": "stream",
     "text": [
      "Metric val_loss improved by 0.010 >= min_delta = 0.0. New best score: 1.262\n"
     ]
    },
    {
     "name": "stdout",
     "output_type": "stream",
     "text": [
      "Epoch 8: 100%|██████████| 158/158 [00:04<00:00, 31.89it/s, v_num=4, val_loss_log_transformed=0.144, val_loss=1.260, val_accuracy_tolerant_1pt=0.836, train_loss=0.176]"
     ]
    },
    {
     "name": "stderr",
     "output_type": "stream",
     "text": [
      "Metric val_loss improved by 0.007 >= min_delta = 0.0. New best score: 1.255\n"
     ]
    },
    {
     "name": "stdout",
     "output_type": "stream",
     "text": [
      "Epoch 14: 100%|██████████| 158/158 [00:04<00:00, 31.87it/s, v_num=4, val_loss_log_transformed=0.143, val_loss=1.250, val_accuracy_tolerant_1pt=0.834, train_loss=0.174]"
     ]
    },
    {
     "name": "stderr",
     "output_type": "stream",
     "text": [
      "Metric val_loss improved by 0.003 >= min_delta = 0.0. New best score: 1.252\n"
     ]
    },
    {
     "name": "stdout",
     "output_type": "stream",
     "text": [
      "Epoch 18: 100%|██████████| 158/158 [00:05<00:00, 30.78it/s, v_num=4, val_loss_log_transformed=0.143, val_loss=1.250, val_accuracy_tolerant_1pt=0.836, train_loss=0.174]"
     ]
    },
    {
     "name": "stderr",
     "output_type": "stream",
     "text": [
      "Metric val_loss improved by 0.002 >= min_delta = 0.0. New best score: 1.250\n"
     ]
    },
    {
     "name": "stdout",
     "output_type": "stream",
     "text": [
      "Epoch 22: 100%|██████████| 158/158 [00:04<00:00, 31.78it/s, v_num=4, val_loss_log_transformed=0.143, val_loss=1.250, val_accuracy_tolerant_1pt=0.836, train_loss=0.172]"
     ]
    },
    {
     "name": "stderr",
     "output_type": "stream",
     "text": [
      "Metric val_loss improved by 0.001 >= min_delta = 0.0. New best score: 1.249\n"
     ]
    },
    {
     "name": "stdout",
     "output_type": "stream",
     "text": [
      "Epoch 25: 100%|██████████| 158/158 [00:04<00:00, 31.88it/s, v_num=4, val_loss_log_transformed=0.142, val_loss=1.250, val_accuracy_tolerant_1pt=0.837, train_loss=0.172]"
     ]
    },
    {
     "name": "stderr",
     "output_type": "stream",
     "text": [
      "Metric val_loss improved by 0.001 >= min_delta = 0.0. New best score: 1.247\n"
     ]
    },
    {
     "name": "stdout",
     "output_type": "stream",
     "text": [
      "Epoch 26: 100%|██████████| 158/158 [00:04<00:00, 31.85it/s, v_num=4, val_loss_log_transformed=0.142, val_loss=1.250, val_accuracy_tolerant_1pt=0.835, train_loss=0.170]"
     ]
    },
    {
     "name": "stderr",
     "output_type": "stream",
     "text": [
      "Metric val_loss improved by 0.000 >= min_delta = 0.0. New best score: 1.247\n"
     ]
    },
    {
     "name": "stdout",
     "output_type": "stream",
     "text": [
      "Epoch 27: 100%|██████████| 158/158 [00:04<00:00, 31.88it/s, v_num=4, val_loss_log_transformed=0.142, val_loss=1.250, val_accuracy_tolerant_1pt=0.839, train_loss=0.173]"
     ]
    },
    {
     "name": "stderr",
     "output_type": "stream",
     "text": [
      "Metric val_loss improved by 0.001 >= min_delta = 0.0. New best score: 1.246\n"
     ]
    },
    {
     "name": "stdout",
     "output_type": "stream",
     "text": [
      "Epoch 29: 100%|██████████| 158/158 [00:04<00:00, 31.84it/s, v_num=4, val_loss_log_transformed=0.142, val_loss=1.250, val_accuracy_tolerant_1pt=0.836, train_loss=0.172]"
     ]
    },
    {
     "name": "stderr",
     "output_type": "stream",
     "text": [
      "`Trainer.fit` stopped: `max_epochs=30` reached.\n"
     ]
    },
    {
     "name": "stdout",
     "output_type": "stream",
     "text": [
      "Epoch 29: 100%|██████████| 158/158 [00:05<00:00, 31.49it/s, v_num=4, val_loss_log_transformed=0.142, val_loss=1.250, val_accuracy_tolerant_1pt=0.836, train_loss=0.172]"
     ]
    },
    {
     "name": "stderr",
     "output_type": "stream",
     "text": [
      "LOCAL_RANK: 0 - CUDA_VISIBLE_DEVICES: [0]\n"
     ]
    },
    {
     "name": "stdout",
     "output_type": "stream",
     "text": [
      "\n",
      "Final testing of the best model:\n"
     ]
    },
    {
     "name": "stderr",
     "output_type": "stream",
     "text": [
      "c:\\Users\\asus\\miniconda3\\envs\\ai_project\\Lib\\site-packages\\pytorch_lightning\\trainer\\connectors\\data_connector.py:425: The 'test_dataloader' does not have many workers which may be a bottleneck. Consider increasing the value of the `num_workers` argument` to `num_workers=15` in the `DataLoader` to improve performance.\n"
     ]
    },
    {
     "name": "stdout",
     "output_type": "stream",
     "text": [
      "Testing DataLoader 0: 100%|██████████| 34/34 [00:00<00:00, 65.58it/s]\n"
     ]
    },
    {
     "data": {
      "text/html": [
       "<pre style=\"white-space:pre;overflow-x:auto;line-height:normal;font-family:Menlo,'DejaVu Sans Mono',consolas,'Courier New',monospace\">┏━━━━━━━━━━━━━━━━━━━━━━━━━━━━┳━━━━━━━━━━━━━━━━━━━━━━━━━━━━┓\n",
       "┃<span style=\"font-weight: bold\">        Test metric         </span>┃<span style=\"font-weight: bold\">        DataLoader 0        </span>┃\n",
       "┡━━━━━━━━━━━━━━━━━━━━━━━━━━━━╇━━━━━━━━━━━━━━━━━━━━━━━━━━━━┩\n",
       "│<span style=\"color: #008080; text-decoration-color: #008080\">    test_accuracy_exact     </span>│<span style=\"color: #800080; text-decoration-color: #800080\">     0.7764378190040588     </span>│\n",
       "│<span style=\"color: #008080; text-decoration-color: #008080\"> test_accuracy_tolerant_1pt </span>│<span style=\"color: #800080; text-decoration-color: #800080\">     0.9220778942108154     </span>│\n",
       "│<span style=\"color: #008080; text-decoration-color: #008080\">         test_loss          </span>│<span style=\"color: #800080; text-decoration-color: #800080\">     0.653467059135437      </span>│\n",
       "│<span style=\"color: #008080; text-decoration-color: #008080\"> test_loss_log_transformed  </span>│<span style=\"color: #800080; text-decoration-color: #800080\">    0.08911080658435822     </span>│\n",
       "└────────────────────────────┴────────────────────────────┘\n",
       "</pre>\n"
      ],
      "text/plain": [
       "┏━━━━━━━━━━━━━━━━━━━━━━━━━━━━┳━━━━━━━━━━━━━━━━━━━━━━━━━━━━┓\n",
       "┃\u001b[1m \u001b[0m\u001b[1m       Test metric        \u001b[0m\u001b[1m \u001b[0m┃\u001b[1m \u001b[0m\u001b[1m       DataLoader 0       \u001b[0m\u001b[1m \u001b[0m┃\n",
       "┡━━━━━━━━━━━━━━━━━━━━━━━━━━━━╇━━━━━━━━━━━━━━━━━━━━━━━━━━━━┩\n",
       "│\u001b[36m \u001b[0m\u001b[36m   test_accuracy_exact    \u001b[0m\u001b[36m \u001b[0m│\u001b[35m \u001b[0m\u001b[35m    0.7764378190040588    \u001b[0m\u001b[35m \u001b[0m│\n",
       "│\u001b[36m \u001b[0m\u001b[36mtest_accuracy_tolerant_1pt\u001b[0m\u001b[36m \u001b[0m│\u001b[35m \u001b[0m\u001b[35m    0.9220778942108154    \u001b[0m\u001b[35m \u001b[0m│\n",
       "│\u001b[36m \u001b[0m\u001b[36m        test_loss         \u001b[0m\u001b[36m \u001b[0m│\u001b[35m \u001b[0m\u001b[35m    0.653467059135437     \u001b[0m\u001b[35m \u001b[0m│\n",
       "│\u001b[36m \u001b[0m\u001b[36mtest_loss_log_transformed \u001b[0m\u001b[36m \u001b[0m│\u001b[35m \u001b[0m\u001b[35m   0.08911080658435822    \u001b[0m\u001b[35m \u001b[0m│\n",
       "└────────────────────────────┴────────────────────────────┘\n"
      ]
     },
     "metadata": {},
     "output_type": "display_data"
    },
    {
     "name": "stderr",
     "output_type": "stream",
     "text": [
      "LOCAL_RANK: 0 - CUDA_VISIBLE_DEVICES: [0]\n"
     ]
    },
    {
     "name": "stdout",
     "output_type": "stream",
     "text": [
      "Testing active players\n",
      "Testing DataLoader 0: 100%|██████████| 7/7 [00:00<00:00, 69.24it/s]\n"
     ]
    },
    {
     "data": {
      "text/html": [
       "<pre style=\"white-space:pre;overflow-x:auto;line-height:normal;font-family:Menlo,'DejaVu Sans Mono',consolas,'Courier New',monospace\">┏━━━━━━━━━━━━━━━━━━━━━━━━━━━━┳━━━━━━━━━━━━━━━━━━━━━━━━━━━━┓\n",
       "┃<span style=\"font-weight: bold\">        Test metric         </span>┃<span style=\"font-weight: bold\">        DataLoader 0        </span>┃\n",
       "┡━━━━━━━━━━━━━━━━━━━━━━━━━━━━╇━━━━━━━━━━━━━━━━━━━━━━━━━━━━┩\n",
       "│<span style=\"color: #008080; text-decoration-color: #008080\">    test_accuracy_exact     </span>│<span style=\"color: #800080; text-decoration-color: #800080\">    0.12747524678707123     </span>│\n",
       "│<span style=\"color: #008080; text-decoration-color: #008080\"> test_accuracy_tolerant_1pt </span>│<span style=\"color: #800080; text-decoration-color: #800080\">     0.3502475321292877     </span>│\n",
       "│<span style=\"color: #008080; text-decoration-color: #008080\">         test_loss          </span>│<span style=\"color: #800080; text-decoration-color: #800080\">     6.202970504760742      </span>│\n",
       "│<span style=\"color: #008080; text-decoration-color: #008080\"> test_loss_log_transformed  </span>│<span style=\"color: #800080; text-decoration-color: #800080\">     0.5866237282752991     </span>│\n",
       "└────────────────────────────┴────────────────────────────┘\n",
       "</pre>\n"
      ],
      "text/plain": [
       "┏━━━━━━━━━━━━━━━━━━━━━━━━━━━━┳━━━━━━━━━━━━━━━━━━━━━━━━━━━━┓\n",
       "┃\u001b[1m \u001b[0m\u001b[1m       Test metric        \u001b[0m\u001b[1m \u001b[0m┃\u001b[1m \u001b[0m\u001b[1m       DataLoader 0       \u001b[0m\u001b[1m \u001b[0m┃\n",
       "┡━━━━━━━━━━━━━━━━━━━━━━━━━━━━╇━━━━━━━━━━━━━━━━━━━━━━━━━━━━┩\n",
       "│\u001b[36m \u001b[0m\u001b[36m   test_accuracy_exact    \u001b[0m\u001b[36m \u001b[0m│\u001b[35m \u001b[0m\u001b[35m   0.12747524678707123    \u001b[0m\u001b[35m \u001b[0m│\n",
       "│\u001b[36m \u001b[0m\u001b[36mtest_accuracy_tolerant_1pt\u001b[0m\u001b[36m \u001b[0m│\u001b[35m \u001b[0m\u001b[35m    0.3502475321292877    \u001b[0m\u001b[35m \u001b[0m│\n",
       "│\u001b[36m \u001b[0m\u001b[36m        test_loss         \u001b[0m\u001b[36m \u001b[0m│\u001b[35m \u001b[0m\u001b[35m    6.202970504760742     \u001b[0m\u001b[35m \u001b[0m│\n",
       "│\u001b[36m \u001b[0m\u001b[36mtest_loss_log_transformed \u001b[0m\u001b[36m \u001b[0m│\u001b[35m \u001b[0m\u001b[35m    0.5866237282752991    \u001b[0m\u001b[35m \u001b[0m│\n",
       "└────────────────────────────┴────────────────────────────┘\n"
      ]
     },
     "metadata": {},
     "output_type": "display_data"
    },
    {
     "name": "stdout",
     "output_type": "stream",
     "text": [
      "[{'test_loss_log_transformed': 0.5866237282752991, 'test_loss': 6.202970504760742, 'test_accuracy_exact': 0.12747524678707123, 'test_accuracy_tolerant_1pt': 0.3502475321292877}]\n"
     ]
    }
   ],
   "source": [
    "print(\"\\n--- Transformer Randomized Search Complete ---\")\n",
    "\n",
    "print(f\"Best Transformer Val Loss from Randomized Search: {best_transformer_val_loss_rs:.4f}\")\n",
    "print(f\"Best Transformer Params from Randomized Search: {best_transformer_params_rs}\")\n",
    "\n",
    "# Example: Retrain best model for more epochs\n",
    "print(\"\\nRetraining best Transformer model with optimal parameters...\")\n",
    "best_model_final = FinalTransformer(\n",
    "    input_features_dim=n_feats,\n",
    "    **best_transformer_params_rs\n",
    ")\n",
    "\n",
    "final_logger = CSVLogger(\"csv_logs_final\", name=\"best_transformer_random_search\")\n",
    "\n",
    "final_trainer = pl.Trainer(\n",
    "    max_epochs=30, \n",
    "    logger=final_logger,\n",
    "    callbacks=[EarlyStopping(monitor='val_loss', patience=8, verbose=True, mode='min'), lr_monitor],\n",
    ")\n",
    "\n",
    "    \n",
    "final_trainer.fit(\n",
    "    model=best_model_final,\n",
    "    train_dataloaders=train_loader_log,\n",
    "    val_dataloaders=val_loader_log,\n",
    ")\n",
    "\n",
    "print(\"Final testing of the best model:\")\n",
    "final_trainer.test(\n",
    "    model = best_model_final, \n",
    "    dataloaders=test_loader_log\n",
    ")\n",
    "\n",
    "print(\"Testing active players\")\n",
    "\n",
    "test_results = final_trainer.test(\n",
    "        model=model,\n",
    "        dataloaders=active_loader_log,\n",
    "    )\n",
    "\n",
    "print(test_results)"
   ]
  },
  {
   "cell_type": "code",
   "execution_count": 33,
   "id": "dde1b0f9",
   "metadata": {},
   "outputs": [
    {
     "name": "stderr",
     "output_type": "stream",
     "text": [
      "Using default `ModelCheckpoint`. Consider installing `litmodels` package to enable `LitModelCheckpoint` for automatic upload to the Lightning model registry.\n",
      "GPU available: True (cuda), used: True\n",
      "TPU available: False, using: 0 TPU cores\n",
      "HPU available: False, using: 0 HPUs\n",
      "LOCAL_RANK: 0 - CUDA_VISIBLE_DEVICES: [0]\n",
      "\n",
      "  | Name      | Type                 | Params | Mode \n",
      "-----------------------------------------------------------\n",
      "0 | lstm      | LSTM                 | 251 K  | train\n",
      "1 | fc        | Linear               | 129    | train\n",
      "2 | criterion | WeightedSmoothL1Loss | 0      | train\n",
      "-----------------------------------------------------------\n",
      "252 K     Trainable params\n",
      "0         Non-trainable params\n",
      "252 K     Total params\n",
      "1.008     Total estimated model params size (MB)\n",
      "4         Modules in train mode\n",
      "0         Modules in eval mode\n",
      "`Trainer.fit` stopped: `max_epochs=15` reached.\n",
      "Using default `ModelCheckpoint`. Consider installing `litmodels` package to enable `LitModelCheckpoint` for automatic upload to the Lightning model registry.\n",
      "GPU available: True (cuda), used: True\n",
      "TPU available: False, using: 0 TPU cores\n",
      "HPU available: False, using: 0 HPUs\n",
      "LOCAL_RANK: 0 - CUDA_VISIBLE_DEVICES: [0]\n",
      "\n",
      "  | Name      | Type                 | Params | Mode \n",
      "-----------------------------------------------------------\n",
      "0 | lstm      | LSTM                 | 251 K  | train\n",
      "1 | fc        | Linear               | 129    | train\n",
      "2 | criterion | WeightedSmoothL1Loss | 0      | train\n",
      "-----------------------------------------------------------\n",
      "252 K     Trainable params\n",
      "0         Non-trainable params\n",
      "252 K     Total params\n",
      "1.008     Total estimated model params size (MB)\n",
      "4         Modules in train mode\n",
      "0         Modules in eval mode\n",
      "`Trainer.fit` stopped: `max_epochs=15` reached.\n",
      "Using default `ModelCheckpoint`. Consider installing `litmodels` package to enable `LitModelCheckpoint` for automatic upload to the Lightning model registry.\n",
      "GPU available: True (cuda), used: True\n",
      "TPU available: False, using: 0 TPU cores\n",
      "HPU available: False, using: 0 HPUs\n",
      "LOCAL_RANK: 0 - CUDA_VISIBLE_DEVICES: [0]\n",
      "\n",
      "  | Name      | Type                 | Params | Mode \n",
      "-----------------------------------------------------------\n",
      "0 | lstm      | LSTM                 | 251 K  | train\n",
      "1 | fc        | Linear               | 129    | train\n",
      "2 | criterion | WeightedSmoothL1Loss | 0      | train\n",
      "-----------------------------------------------------------\n",
      "252 K     Trainable params\n",
      "0         Non-trainable params\n",
      "252 K     Total params\n",
      "1.008     Total estimated model params size (MB)\n",
      "4         Modules in train mode\n",
      "0         Modules in eval mode\n",
      "`Trainer.fit` stopped: `max_epochs=15` reached.\n",
      "Using default `ModelCheckpoint`. Consider installing `litmodels` package to enable `LitModelCheckpoint` for automatic upload to the Lightning model registry.\n",
      "GPU available: True (cuda), used: True\n",
      "TPU available: False, using: 0 TPU cores\n",
      "HPU available: False, using: 0 HPUs\n",
      "LOCAL_RANK: 0 - CUDA_VISIBLE_DEVICES: [0]\n",
      "\n",
      "  | Name      | Type                 | Params | Mode \n",
      "-----------------------------------------------------------\n",
      "0 | lstm      | LSTM                 | 251 K  | train\n",
      "1 | fc        | Linear               | 129    | train\n",
      "2 | criterion | WeightedSmoothL1Loss | 0      | train\n",
      "-----------------------------------------------------------\n",
      "252 K     Trainable params\n",
      "0         Non-trainable params\n",
      "252 K     Total params\n",
      "1.008     Total estimated model params size (MB)\n",
      "4         Modules in train mode\n",
      "0         Modules in eval mode\n",
      "`Trainer.fit` stopped: `max_epochs=15` reached.\n",
      "Using default `ModelCheckpoint`. Consider installing `litmodels` package to enable `LitModelCheckpoint` for automatic upload to the Lightning model registry.\n",
      "GPU available: True (cuda), used: True\n",
      "TPU available: False, using: 0 TPU cores\n",
      "HPU available: False, using: 0 HPUs\n",
      "LOCAL_RANK: 0 - CUDA_VISIBLE_DEVICES: [0]\n",
      "\n",
      "  | Name      | Type                 | Params | Mode \n",
      "-----------------------------------------------------------\n",
      "0 | lstm      | LSTM                 | 251 K  | train\n",
      "1 | fc        | Linear               | 129    | train\n",
      "2 | criterion | WeightedSmoothL1Loss | 0      | train\n",
      "-----------------------------------------------------------\n",
      "252 K     Trainable params\n",
      "0         Non-trainable params\n",
      "252 K     Total params\n",
      "1.008     Total estimated model params size (MB)\n",
      "4         Modules in train mode\n",
      "0         Modules in eval mode\n",
      "`Trainer.fit` stopped: `max_epochs=15` reached.\n",
      "Using default `ModelCheckpoint`. Consider installing `litmodels` package to enable `LitModelCheckpoint` for automatic upload to the Lightning model registry.\n",
      "GPU available: True (cuda), used: True\n",
      "TPU available: False, using: 0 TPU cores\n",
      "HPU available: False, using: 0 HPUs\n",
      "LOCAL_RANK: 0 - CUDA_VISIBLE_DEVICES: [0]\n",
      "\n",
      "  | Name      | Type                 | Params | Mode \n",
      "-----------------------------------------------------------\n",
      "0 | lstm      | LSTM                 | 251 K  | train\n",
      "1 | fc        | Linear               | 129    | train\n",
      "2 | criterion | WeightedSmoothL1Loss | 0      | train\n",
      "-----------------------------------------------------------\n",
      "252 K     Trainable params\n",
      "0         Non-trainable params\n",
      "252 K     Total params\n",
      "1.008     Total estimated model params size (MB)\n",
      "4         Modules in train mode\n",
      "0         Modules in eval mode\n",
      "`Trainer.fit` stopped: `max_epochs=15` reached.\n",
      "Using default `ModelCheckpoint`. Consider installing `litmodels` package to enable `LitModelCheckpoint` for automatic upload to the Lightning model registry.\n",
      "GPU available: True (cuda), used: True\n",
      "TPU available: False, using: 0 TPU cores\n",
      "HPU available: False, using: 0 HPUs\n",
      "LOCAL_RANK: 0 - CUDA_VISIBLE_DEVICES: [0]\n",
      "\n",
      "  | Name      | Type                 | Params | Mode \n",
      "-----------------------------------------------------------\n",
      "0 | lstm      | LSTM                 | 251 K  | train\n",
      "1 | fc        | Linear               | 129    | train\n",
      "2 | criterion | WeightedSmoothL1Loss | 0      | train\n",
      "-----------------------------------------------------------\n",
      "252 K     Trainable params\n",
      "0         Non-trainable params\n",
      "252 K     Total params\n",
      "1.008     Total estimated model params size (MB)\n",
      "4         Modules in train mode\n",
      "0         Modules in eval mode\n",
      "Using default `ModelCheckpoint`. Consider installing `litmodels` package to enable `LitModelCheckpoint` for automatic upload to the Lightning model registry.\n",
      "GPU available: True (cuda), used: True\n",
      "TPU available: False, using: 0 TPU cores\n",
      "HPU available: False, using: 0 HPUs\n",
      "LOCAL_RANK: 0 - CUDA_VISIBLE_DEVICES: [0]\n",
      "\n",
      "  | Name      | Type                 | Params | Mode \n",
      "-----------------------------------------------------------\n",
      "0 | lstm      | LSTM                 | 251 K  | train\n",
      "1 | fc        | Linear               | 129    | train\n",
      "2 | criterion | WeightedSmoothL1Loss | 0      | train\n",
      "-----------------------------------------------------------\n",
      "252 K     Trainable params\n",
      "0         Non-trainable params\n",
      "252 K     Total params\n",
      "1.008     Total estimated model params size (MB)\n",
      "4         Modules in train mode\n",
      "0         Modules in eval mode\n",
      "`Trainer.fit` stopped: `max_epochs=15` reached.\n",
      "Using default `ModelCheckpoint`. Consider installing `litmodels` package to enable `LitModelCheckpoint` for automatic upload to the Lightning model registry.\n",
      "GPU available: True (cuda), used: True\n",
      "TPU available: False, using: 0 TPU cores\n",
      "HPU available: False, using: 0 HPUs\n",
      "LOCAL_RANK: 0 - CUDA_VISIBLE_DEVICES: [0]\n",
      "\n",
      "  | Name      | Type                 | Params | Mode \n",
      "-----------------------------------------------------------\n",
      "0 | lstm      | LSTM                 | 251 K  | train\n",
      "1 | fc        | Linear               | 129    | train\n",
      "2 | criterion | WeightedSmoothL1Loss | 0      | train\n",
      "-----------------------------------------------------------\n",
      "252 K     Trainable params\n",
      "0         Non-trainable params\n",
      "252 K     Total params\n",
      "1.008     Total estimated model params size (MB)\n",
      "4         Modules in train mode\n",
      "0         Modules in eval mode\n",
      "`Trainer.fit` stopped: `max_epochs=15` reached.\n",
      "Using default `ModelCheckpoint`. Consider installing `litmodels` package to enable `LitModelCheckpoint` for automatic upload to the Lightning model registry.\n",
      "GPU available: True (cuda), used: True\n",
      "TPU available: False, using: 0 TPU cores\n",
      "HPU available: False, using: 0 HPUs\n",
      "LOCAL_RANK: 0 - CUDA_VISIBLE_DEVICES: [0]\n",
      "\n",
      "  | Name      | Type                 | Params | Mode \n",
      "-----------------------------------------------------------\n",
      "0 | lstm      | LSTM                 | 251 K  | train\n",
      "1 | fc        | Linear               | 129    | train\n",
      "2 | criterion | WeightedSmoothL1Loss | 0      | train\n",
      "-----------------------------------------------------------\n",
      "252 K     Trainable params\n",
      "0         Non-trainable params\n",
      "252 K     Total params\n",
      "1.008     Total estimated model params size (MB)\n",
      "4         Modules in train mode\n",
      "0         Modules in eval mode\n",
      "`Trainer.fit` stopped: `max_epochs=15` reached.\n",
      "Using default `ModelCheckpoint`. Consider installing `litmodels` package to enable `LitModelCheckpoint` for automatic upload to the Lightning model registry.\n",
      "GPU available: True (cuda), used: True\n",
      "TPU available: False, using: 0 TPU cores\n",
      "HPU available: False, using: 0 HPUs\n",
      "LOCAL_RANK: 0 - CUDA_VISIBLE_DEVICES: [0]\n",
      "\n",
      "  | Name      | Type                 | Params | Mode \n",
      "-----------------------------------------------------------\n",
      "0 | lstm      | LSTM                 | 251 K  | train\n",
      "1 | fc        | Linear               | 129    | train\n",
      "2 | criterion | WeightedSmoothL1Loss | 0      | train\n",
      "-----------------------------------------------------------\n",
      "252 K     Trainable params\n",
      "0         Non-trainable params\n",
      "252 K     Total params\n",
      "1.008     Total estimated model params size (MB)\n",
      "4         Modules in train mode\n",
      "0         Modules in eval mode\n",
      "Using default `ModelCheckpoint`. Consider installing `litmodels` package to enable `LitModelCheckpoint` for automatic upload to the Lightning model registry.\n",
      "GPU available: True (cuda), used: True\n",
      "TPU available: False, using: 0 TPU cores\n",
      "HPU available: False, using: 0 HPUs\n",
      "LOCAL_RANK: 0 - CUDA_VISIBLE_DEVICES: [0]\n",
      "\n",
      "  | Name      | Type                 | Params | Mode \n",
      "-----------------------------------------------------------\n",
      "0 | lstm      | LSTM                 | 251 K  | train\n",
      "1 | fc        | Linear               | 129    | train\n",
      "2 | criterion | WeightedSmoothL1Loss | 0      | train\n",
      "-----------------------------------------------------------\n",
      "252 K     Trainable params\n",
      "0         Non-trainable params\n",
      "252 K     Total params\n",
      "1.008     Total estimated model params size (MB)\n",
      "4         Modules in train mode\n",
      "0         Modules in eval mode\n",
      "`Trainer.fit` stopped: `max_epochs=15` reached.\n",
      "Using default `ModelCheckpoint`. Consider installing `litmodels` package to enable `LitModelCheckpoint` for automatic upload to the Lightning model registry.\n",
      "GPU available: True (cuda), used: True\n",
      "TPU available: False, using: 0 TPU cores\n",
      "HPU available: False, using: 0 HPUs\n",
      "LOCAL_RANK: 0 - CUDA_VISIBLE_DEVICES: [0]\n",
      "\n",
      "  | Name      | Type                 | Params | Mode \n",
      "-----------------------------------------------------------\n",
      "0 | lstm      | LSTM                 | 251 K  | train\n",
      "1 | fc        | Linear               | 129    | train\n",
      "2 | criterion | WeightedSmoothL1Loss | 0      | train\n",
      "-----------------------------------------------------------\n",
      "252 K     Trainable params\n",
      "0         Non-trainable params\n",
      "252 K     Total params\n",
      "1.008     Total estimated model params size (MB)\n",
      "4         Modules in train mode\n",
      "0         Modules in eval mode\n",
      "`Trainer.fit` stopped: `max_epochs=15` reached.\n",
      "Using default `ModelCheckpoint`. Consider installing `litmodels` package to enable `LitModelCheckpoint` for automatic upload to the Lightning model registry.\n",
      "GPU available: True (cuda), used: True\n",
      "TPU available: False, using: 0 TPU cores\n",
      "HPU available: False, using: 0 HPUs\n",
      "LOCAL_RANK: 0 - CUDA_VISIBLE_DEVICES: [0]\n",
      "\n",
      "  | Name      | Type                 | Params | Mode \n",
      "-----------------------------------------------------------\n",
      "0 | lstm      | LSTM                 | 251 K  | train\n",
      "1 | fc        | Linear               | 129    | train\n",
      "2 | criterion | WeightedSmoothL1Loss | 0      | train\n",
      "-----------------------------------------------------------\n",
      "252 K     Trainable params\n",
      "0         Non-trainable params\n",
      "252 K     Total params\n",
      "1.008     Total estimated model params size (MB)\n",
      "4         Modules in train mode\n",
      "0         Modules in eval mode\n",
      "`Trainer.fit` stopped: `max_epochs=15` reached.\n",
      "Using default `ModelCheckpoint`. Consider installing `litmodels` package to enable `LitModelCheckpoint` for automatic upload to the Lightning model registry.\n",
      "GPU available: True (cuda), used: True\n",
      "TPU available: False, using: 0 TPU cores\n",
      "HPU available: False, using: 0 HPUs\n",
      "LOCAL_RANK: 0 - CUDA_VISIBLE_DEVICES: [0]\n",
      "\n",
      "  | Name      | Type                 | Params | Mode \n",
      "-----------------------------------------------------------\n",
      "0 | lstm      | LSTM                 | 251 K  | train\n",
      "1 | fc        | Linear               | 129    | train\n",
      "2 | criterion | WeightedSmoothL1Loss | 0      | train\n",
      "-----------------------------------------------------------\n",
      "252 K     Trainable params\n",
      "0         Non-trainable params\n",
      "252 K     Total params\n",
      "1.008     Total estimated model params size (MB)\n",
      "4         Modules in train mode\n",
      "0         Modules in eval mode\n",
      "`Trainer.fit` stopped: `max_epochs=15` reached.\n",
      "Using default `ModelCheckpoint`. Consider installing `litmodels` package to enable `LitModelCheckpoint` for automatic upload to the Lightning model registry.\n",
      "GPU available: True (cuda), used: True\n",
      "TPU available: False, using: 0 TPU cores\n",
      "HPU available: False, using: 0 HPUs\n",
      "LOCAL_RANK: 0 - CUDA_VISIBLE_DEVICES: [0]\n",
      "\n",
      "  | Name      | Type                 | Params | Mode \n",
      "-----------------------------------------------------------\n",
      "0 | lstm      | LSTM                 | 251 K  | train\n",
      "1 | fc        | Linear               | 129    | train\n",
      "2 | criterion | WeightedSmoothL1Loss | 0      | train\n",
      "-----------------------------------------------------------\n",
      "252 K     Trainable params\n",
      "0         Non-trainable params\n",
      "252 K     Total params\n",
      "1.008     Total estimated model params size (MB)\n",
      "4         Modules in train mode\n",
      "0         Modules in eval mode\n",
      "`Trainer.fit` stopped: `max_epochs=15` reached.\n",
      "Using default `ModelCheckpoint`. Consider installing `litmodels` package to enable `LitModelCheckpoint` for automatic upload to the Lightning model registry.\n",
      "GPU available: True (cuda), used: True\n",
      "TPU available: False, using: 0 TPU cores\n",
      "HPU available: False, using: 0 HPUs\n",
      "LOCAL_RANK: 0 - CUDA_VISIBLE_DEVICES: [0]\n",
      "\n",
      "  | Name      | Type                 | Params | Mode \n",
      "-----------------------------------------------------------\n",
      "0 | lstm      | LSTM                 | 251 K  | train\n",
      "1 | fc        | Linear               | 129    | train\n",
      "2 | criterion | WeightedSmoothL1Loss | 0      | train\n",
      "-----------------------------------------------------------\n",
      "252 K     Trainable params\n",
      "0         Non-trainable params\n",
      "252 K     Total params\n",
      "1.008     Total estimated model params size (MB)\n",
      "4         Modules in train mode\n",
      "0         Modules in eval mode\n",
      "`Trainer.fit` stopped: `max_epochs=15` reached.\n",
      "Using default `ModelCheckpoint`. Consider installing `litmodels` package to enable `LitModelCheckpoint` for automatic upload to the Lightning model registry.\n",
      "GPU available: True (cuda), used: True\n",
      "TPU available: False, using: 0 TPU cores\n",
      "HPU available: False, using: 0 HPUs\n",
      "LOCAL_RANK: 0 - CUDA_VISIBLE_DEVICES: [0]\n",
      "\n",
      "  | Name      | Type                 | Params | Mode \n",
      "-----------------------------------------------------------\n",
      "0 | lstm      | LSTM                 | 251 K  | train\n",
      "1 | fc        | Linear               | 129    | train\n",
      "2 | criterion | WeightedSmoothL1Loss | 0      | train\n",
      "-----------------------------------------------------------\n",
      "252 K     Trainable params\n",
      "0         Non-trainable params\n",
      "252 K     Total params\n",
      "1.008     Total estimated model params size (MB)\n",
      "4         Modules in train mode\n",
      "0         Modules in eval mode\n",
      "`Trainer.fit` stopped: `max_epochs=15` reached.\n"
     ]
    }
   ],
   "source": [
    "%%capture\n",
    "print(\"STARTING RNN RANDOMIZED HYPERPARAMETER SEARCH\")\n",
    "print(\"=\"*50 + \"\\n\")\n",
    "\n",
    "rnn_param_dist = {\n",
    "    'lr': [5e-5, 1e-4, 3e-4, 5e-4],\n",
    "    'hidden_dim': [64, 128, 256],\n",
    "    'n_layers': [2, 3, 4],\n",
    "    'dropout': [0.4, 0.5, 0.6],\n",
    "    'weight_decay': [1e-5, 5e-5, 1e-4],\n",
    "    'underprediction_penalty': [1.0, 1.5, 2.0]\n",
    "\n",
    "}\n",
    "\n",
    "N_RANDOM_TRIALS_RNN = 18  # Can be fewer than Transformer as search space is smaller\n",
    "MAX_EPOCHS_PER_TRIAL_RNN = 15 # Max epochs for each trial\n",
    "\n",
    "print(f\"RNN Randomized Search: {N_RANDOM_TRIALS_RNN} trials to test.\")\n",
    "\n",
    "best_rnn_val_loss_rs = float('inf')\n",
    "best_rnn_params_rs = None\n",
    "rnn_trial_results_rs = []\n",
    "\n",
    "for i in range(N_RANDOM_TRIALS_RNN):\n",
    "    rnn_params = {}\n",
    "    rnn_params['lr'] = random.choice(rnn_param_dist['lr'])\n",
    "    rnn_params['hidden_dim'] = random.choice(rnn_param_dist['hidden_dim'])\n",
    "    rnn_params['n_layers'] = random.choice(rnn_param_dist['n_layers'])\n",
    "    rnn_params['dropout'] = random.choice(rnn_param_dist['dropout'])\n",
    "    rnn_params['weight_decay'] = random.choice(rnn_param_dist['weight_decay'])\n",
    "    rnn_params['underprediction_penalty'] = random.choice(transformer_param_dist['underprediction_penalty'])\n",
    "\n",
    "\n",
    "    print(f\"\\n--- RNN Randomized Trial {i+1}/{N_RANDOM_TRIALS_RNN} ---\")\n",
    "    print(f\"Sampled Params: {rnn_params}\")\n",
    "\n",
    "    trial_logger_rnn_rs = CSVLogger(\"csv_logs_randomsearch_rnn\", name=f\"rnn_trial_{i}\")\n",
    "    \n",
    "    model_rnn_rs = FinalRNN(\n",
    "        n_features=n_feats, # n_feats should be globally defined\n",
    "        hidden_dim=rnn_params['hidden_dim'],\n",
    "        n_layers=rnn_params['n_layers'],\n",
    "        dropout=rnn_params['dropout'],\n",
    "        lr=rnn_params['lr'],\n",
    "        weight_decay=rnn_params['weight_decay'],\n",
    "        underprediction_penalty=rnn_params['underprediction_penalty']\n",
    "    )\n",
    "\n",
    "    # Use a fresh EarlyStopping for each trial to ensure state is reset\n",
    "    current_early_stop_callback_rnn = EarlyStopping(monitor='val_loss', patience=7, verbose=False, mode='min', min_delta=0.0005)\n",
    "\n",
    "    trainer_rnn_rs = pl.Trainer(\n",
    "        max_epochs=MAX_EPOCHS_PER_TRIAL_RNN,\n",
    "        logger=trial_logger_rnn_rs,\n",
    "        callbacks=[current_early_stop_callback_rnn, lr_monitor], # lr_monitor can be reused\n",
    "        gradient_clip_val=1.0,\n",
    "        \n",
    "    )\n",
    "\n",
    "    try:\n",
    "        print(f\"Training RNN Trial {i+1} with LR: {rnn_params['lr']:.1e}, hidden_dim: {rnn_params['hidden_dim']}...\")\n",
    "        \n",
    "        trainer_rnn_rs.fit(\n",
    "            model=model_rnn_rs,\n",
    "            train_dataloaders=train_loader_log,\n",
    "            val_dataloaders=val_loader_log,\n",
    "        )      \n",
    "          \n",
    "        val_loss_tensor_rnn = trainer_rnn_rs.callback_metrics.get(\"val_loss\")\n",
    "        \n",
    "        if val_loss_tensor_rnn is not None:\n",
    "            current_val_loss_rnn = val_loss_tensor_rnn.item()\n",
    "            rnn_trial_results_rs.append({'params': rnn_params, 'val_loss': current_val_loss_rnn})\n",
    "            print(f\"RNN Trial {i+1} Val Loss: {current_val_loss_rnn:.4f}\")\n",
    "\n",
    "            if current_val_loss_rnn < best_rnn_val_loss_rs:\n",
    "                best_rnn_val_loss_rs = current_val_loss_rnn\n",
    "                best_rnn_params_rs = rnn_params\n",
    "        else:\n",
    "            print(f\"RNN Trial {i+1} did not log val_loss.\")\n",
    "            rnn_trial_results_rs.append({'params': rnn_params, 'val_loss': float('inf')})\n",
    "\n",
    "    except Exception as e:\n",
    "        print(f\"RNN Trial {i+1} failed with error: {e}\")\n",
    "        rnn_trial_results_rs.append({'params': rnn_params, 'val_loss': float('inf')})\n"
   ]
  },
  {
   "cell_type": "code",
   "execution_count": 34,
   "id": "d9c3de4c",
   "metadata": {},
   "outputs": [
    {
     "name": "stderr",
     "output_type": "stream",
     "text": [
      "Using default `ModelCheckpoint`. Consider installing `litmodels` package to enable `LitModelCheckpoint` for automatic upload to the Lightning model registry.\n",
      "GPU available: True (cuda), used: True\n",
      "TPU available: False, using: 0 TPU cores\n",
      "HPU available: False, using: 0 HPUs\n",
      "LOCAL_RANK: 0 - CUDA_VISIBLE_DEVICES: [0]\n",
      "\n",
      "  | Name      | Type                 | Params | Mode \n",
      "-----------------------------------------------------------\n",
      "0 | lstm      | LSTM                 | 251 K  | train\n",
      "1 | fc        | Linear               | 129    | train\n",
      "2 | criterion | WeightedSmoothL1Loss | 0      | train\n",
      "-----------------------------------------------------------\n",
      "252 K     Trainable params\n",
      "0         Non-trainable params\n",
      "252 K     Total params\n",
      "1.008     Total estimated model params size (MB)\n",
      "4         Modules in train mode\n",
      "0         Modules in eval mode\n"
     ]
    },
    {
     "name": "stdout",
     "output_type": "stream",
     "text": [
      "\n",
      "--- RNN Randomized Search Complete ---\n",
      "Best RNN Val Loss from Randomized Search: 0.9817\n",
      "Best RNN Params from Randomized Search: {'lr': 0.0005, 'hidden_dim': 128, 'n_layers': 2, 'dropout': 0.4, 'weight_decay': 0.0001, 'underprediction_penalty': 2.0}\n",
      "\n",
      "Retraining best RNN model with optimal parameters...\n",
      "Epoch 0: 100%|██████████| 158/158 [00:02<00:00, 68.94it/s, v_num=3, val_loss_log_transformed=0.196, val_loss=1.070, val_accuracy_tolerant_1pt=0.823, train_loss=0.273]"
     ]
    },
    {
     "name": "stderr",
     "output_type": "stream",
     "text": [
      "Metric val_loss improved. New best score: 1.069\n"
     ]
    },
    {
     "name": "stdout",
     "output_type": "stream",
     "text": [
      "Epoch 1: 100%|██████████| 158/158 [00:02<00:00, 65.67it/s, v_num=3, val_loss_log_transformed=0.183, val_loss=1.020, val_accuracy_tolerant_1pt=0.828, train_loss=0.226]"
     ]
    },
    {
     "name": "stderr",
     "output_type": "stream",
     "text": [
      "Metric val_loss improved by 0.044 >= min_delta = 0.0. New best score: 1.025\n"
     ]
    },
    {
     "name": "stdout",
     "output_type": "stream",
     "text": [
      "Epoch 2: 100%|██████████| 158/158 [00:02<00:00, 66.08it/s, v_num=3, val_loss_log_transformed=0.174, val_loss=1.000, val_accuracy_tolerant_1pt=0.845, train_loss=0.215]"
     ]
    },
    {
     "name": "stderr",
     "output_type": "stream",
     "text": [
      "Metric val_loss improved by 0.021 >= min_delta = 0.0. New best score: 1.004\n"
     ]
    },
    {
     "name": "stdout",
     "output_type": "stream",
     "text": [
      "Epoch 3: 100%|██████████| 158/158 [00:02<00:00, 69.72it/s, v_num=3, val_loss_log_transformed=0.170, val_loss=0.996, val_accuracy_tolerant_1pt=0.852, train_loss=0.208]"
     ]
    },
    {
     "name": "stderr",
     "output_type": "stream",
     "text": [
      "Metric val_loss improved by 0.008 >= min_delta = 0.0. New best score: 0.996\n"
     ]
    },
    {
     "name": "stdout",
     "output_type": "stream",
     "text": [
      "Epoch 4: 100%|██████████| 158/158 [00:02<00:00, 68.35it/s, v_num=3, val_loss_log_transformed=0.168, val_loss=0.993, val_accuracy_tolerant_1pt=0.850, train_loss=0.204]"
     ]
    },
    {
     "name": "stderr",
     "output_type": "stream",
     "text": [
      "Metric val_loss improved by 0.002 >= min_delta = 0.0. New best score: 0.993\n"
     ]
    },
    {
     "name": "stdout",
     "output_type": "stream",
     "text": [
      "Epoch 5: 100%|██████████| 158/158 [00:02<00:00, 68.79it/s, v_num=3, val_loss_log_transformed=0.168, val_loss=0.993, val_accuracy_tolerant_1pt=0.848, train_loss=0.201]"
     ]
    },
    {
     "name": "stderr",
     "output_type": "stream",
     "text": [
      "Metric val_loss improved by 0.001 >= min_delta = 0.0. New best score: 0.993\n"
     ]
    },
    {
     "name": "stdout",
     "output_type": "stream",
     "text": [
      "Epoch 7: 100%|██████████| 158/158 [00:02<00:00, 68.08it/s, v_num=3, val_loss_log_transformed=0.166, val_loss=0.987, val_accuracy_tolerant_1pt=0.844, train_loss=0.197]"
     ]
    },
    {
     "name": "stderr",
     "output_type": "stream",
     "text": [
      "Metric val_loss improved by 0.006 >= min_delta = 0.0. New best score: 0.987\n"
     ]
    },
    {
     "name": "stdout",
     "output_type": "stream",
     "text": [
      "Epoch 12: 100%|██████████| 158/158 [00:02<00:00, 68.33it/s, v_num=3, val_loss_log_transformed=0.165, val_loss=0.988, val_accuracy_tolerant_1pt=0.838, train_loss=0.189]"
     ]
    },
    {
     "name": "stderr",
     "output_type": "stream",
     "text": [
      "Monitored metric val_loss did not improve in the last 5 records. Best score: 0.987. Signaling Trainer to stop.\n"
     ]
    },
    {
     "name": "stdout",
     "output_type": "stream",
     "text": [
      "Epoch 12: 100%|██████████| 158/158 [00:02<00:00, 67.83it/s, v_num=3, val_loss_log_transformed=0.165, val_loss=0.988, val_accuracy_tolerant_1pt=0.838, train_loss=0.189]"
     ]
    },
    {
     "name": "stderr",
     "output_type": "stream",
     "text": [
      "LOCAL_RANK: 0 - CUDA_VISIBLE_DEVICES: [0]\n"
     ]
    },
    {
     "name": "stdout",
     "output_type": "stream",
     "text": [
      "\n",
      "Final testing of the best RNN model:\n"
     ]
    },
    {
     "name": "stderr",
     "output_type": "stream",
     "text": [
      "c:\\Users\\asus\\miniconda3\\envs\\ai_project\\Lib\\site-packages\\pytorch_lightning\\trainer\\connectors\\data_connector.py:425: The 'test_dataloader' does not have many workers which may be a bottleneck. Consider increasing the value of the `num_workers` argument` to `num_workers=15` in the `DataLoader` to improve performance.\n"
     ]
    },
    {
     "name": "stdout",
     "output_type": "stream",
     "text": [
      "Testing DataLoader 0: 100%|██████████| 34/34 [00:00<00:00, 101.51it/s]\n"
     ]
    },
    {
     "data": {
      "text/html": [
       "<pre style=\"white-space:pre;overflow-x:auto;line-height:normal;font-family:Menlo,'DejaVu Sans Mono',consolas,'Courier New',monospace\">┏━━━━━━━━━━━━━━━━━━━━━━━━━━━━┳━━━━━━━━━━━━━━━━━━━━━━━━━━━━┓\n",
       "┃<span style=\"font-weight: bold\">        Test metric         </span>┃<span style=\"font-weight: bold\">        DataLoader 0        </span>┃\n",
       "┡━━━━━━━━━━━━━━━━━━━━━━━━━━━━╇━━━━━━━━━━━━━━━━━━━━━━━━━━━━┩\n",
       "│<span style=\"color: #008080; text-decoration-color: #008080\">    test_accuracy_exact     </span>│<span style=\"color: #800080; text-decoration-color: #800080\">     0.7676252126693726     </span>│\n",
       "│<span style=\"color: #008080; text-decoration-color: #008080\"> test_accuracy_tolerant_1pt </span>│<span style=\"color: #800080; text-decoration-color: #800080\">     0.9104823470115662     </span>│\n",
       "│<span style=\"color: #008080; text-decoration-color: #008080\">         test_loss          </span>│<span style=\"color: #800080; text-decoration-color: #800080\">     0.5676890015602112     </span>│\n",
       "│<span style=\"color: #008080; text-decoration-color: #008080\"> test_loss_log_transformed  </span>│<span style=\"color: #800080; text-decoration-color: #800080\">    0.13759706914424896     </span>│\n",
       "└────────────────────────────┴────────────────────────────┘\n",
       "</pre>\n"
      ],
      "text/plain": [
       "┏━━━━━━━━━━━━━━━━━━━━━━━━━━━━┳━━━━━━━━━━━━━━━━━━━━━━━━━━━━┓\n",
       "┃\u001b[1m \u001b[0m\u001b[1m       Test metric        \u001b[0m\u001b[1m \u001b[0m┃\u001b[1m \u001b[0m\u001b[1m       DataLoader 0       \u001b[0m\u001b[1m \u001b[0m┃\n",
       "┡━━━━━━━━━━━━━━━━━━━━━━━━━━━━╇━━━━━━━━━━━━━━━━━━━━━━━━━━━━┩\n",
       "│\u001b[36m \u001b[0m\u001b[36m   test_accuracy_exact    \u001b[0m\u001b[36m \u001b[0m│\u001b[35m \u001b[0m\u001b[35m    0.7676252126693726    \u001b[0m\u001b[35m \u001b[0m│\n",
       "│\u001b[36m \u001b[0m\u001b[36mtest_accuracy_tolerant_1pt\u001b[0m\u001b[36m \u001b[0m│\u001b[35m \u001b[0m\u001b[35m    0.9104823470115662    \u001b[0m\u001b[35m \u001b[0m│\n",
       "│\u001b[36m \u001b[0m\u001b[36m        test_loss         \u001b[0m\u001b[36m \u001b[0m│\u001b[35m \u001b[0m\u001b[35m    0.5676890015602112    \u001b[0m\u001b[35m \u001b[0m│\n",
       "│\u001b[36m \u001b[0m\u001b[36mtest_loss_log_transformed \u001b[0m\u001b[36m \u001b[0m│\u001b[35m \u001b[0m\u001b[35m   0.13759706914424896    \u001b[0m\u001b[35m \u001b[0m│\n",
       "└────────────────────────────┴────────────────────────────┘\n"
      ]
     },
     "metadata": {},
     "output_type": "display_data"
    },
    {
     "data": {
      "text/plain": [
       "[{'test_loss_log_transformed': 0.13759706914424896,\n",
       "  'test_loss': 0.5676890015602112,\n",
       "  'test_accuracy_exact': 0.7676252126693726,\n",
       "  'test_accuracy_tolerant_1pt': 0.9104823470115662}]"
      ]
     },
     "execution_count": 34,
     "metadata": {},
     "output_type": "execute_result"
    }
   ],
   "source": [
    "print(\"\\n--- RNN Randomized Search Complete ---\")\n",
    "\n",
    "print(f\"Best RNN Val Loss from Randomized Search: {best_rnn_val_loss_rs:.4f}\")\n",
    "print(f\"Best RNN Params from Randomized Search: {best_rnn_params_rs}\")\n",
    "\n",
    "print(\"\\nRetraining best RNN model with optimal parameters...\")\n",
    "best_rnn_model_final = FinalRNN(\n",
    "    n_features=n_feats,\n",
    "    **best_rnn_params_rs # Unpack best params\n",
    ")\n",
    "\n",
    "\n",
    "final_rnn_logger = CSVLogger(\"csv_logs_final\", name=\"best_rnn_random_search\")\n",
    "final_rnn_trainer = pl.Trainer(\n",
    "    max_epochs=25, # Longer training for the best model\n",
    "    logger=final_rnn_logger,\n",
    "    callbacks=[EarlyStopping(monitor='val_loss', patience=5, verbose=True, mode='min'), lr_monitor],\n",
    "    gradient_clip_val=1.0\n",
    ")\n",
    "    \n",
    "final_rnn_trainer.fit(\n",
    "    model=best_rnn_model_final,\n",
    "    train_dataloaders=train_loader_log,\n",
    "    val_dataloaders=val_loader_log,\n",
    ")\n",
    "\n",
    "print(\"Final testing of the best RNN model:\")\n",
    "final_rnn_trainer.test(\n",
    "    model=best_rnn_model_final, \n",
    "    dataloaders=test_loader_log\n",
    ")"
   ]
  },
  {
   "cell_type": "markdown",
   "id": "f6db5ab0",
   "metadata": {},
   "source": [
    "### Visualization of our final model"
   ]
  },
  {
   "cell_type": "code",
   "execution_count": null,
   "id": "0689b31b",
   "metadata": {},
   "outputs": [
    {
     "name": "stderr",
     "output_type": "stream",
     "text": [
      "LOCAL_RANK: 0 - CUDA_VISIBLE_DEVICES: [0]\n"
     ]
    },
    {
     "name": "stdout",
     "output_type": "stream",
     "text": [
      "Testing DataLoader 0: 100%|██████████| 7/7 [00:00<00:00, 34.22it/s]\n"
     ]
    },
    {
     "data": {
      "text/html": [
       "<pre style=\"white-space:pre;overflow-x:auto;line-height:normal;font-family:Menlo,'DejaVu Sans Mono',consolas,'Courier New',monospace\">┏━━━━━━━━━━━━━━━━━━━━━━━━━━━━┳━━━━━━━━━━━━━━━━━━━━━━━━━━━━┓\n",
       "┃<span style=\"font-weight: bold\">        Test metric         </span>┃<span style=\"font-weight: bold\">        DataLoader 0        </span>┃\n",
       "┡━━━━━━━━━━━━━━━━━━━━━━━━━━━━╇━━━━━━━━━━━━━━━━━━━━━━━━━━━━┩\n",
       "│<span style=\"color: #008080; text-decoration-color: #008080\">    test_accuracy_exact     </span>│<span style=\"color: #800080; text-decoration-color: #800080\">     0.1881188154220581     </span>│\n",
       "│<span style=\"color: #008080; text-decoration-color: #008080\"> test_accuracy_tolerant_1pt </span>│<span style=\"color: #800080; text-decoration-color: #800080\">     0.4554455578327179     </span>│\n",
       "│<span style=\"color: #008080; text-decoration-color: #008080\">         test_loss          </span>│<span style=\"color: #800080; text-decoration-color: #800080\">     6.2619123458862305     </span>│\n",
       "│<span style=\"color: #008080; text-decoration-color: #008080\"> test_loss_log_transformed  </span>│<span style=\"color: #800080; text-decoration-color: #800080\">     0.7238472700119019     </span>│\n",
       "└────────────────────────────┴────────────────────────────┘\n",
       "</pre>\n"
      ],
      "text/plain": [
       "┏━━━━━━━━━━━━━━━━━━━━━━━━━━━━┳━━━━━━━━━━━━━━━━━━━━━━━━━━━━┓\n",
       "┃\u001b[1m \u001b[0m\u001b[1m       Test metric        \u001b[0m\u001b[1m \u001b[0m┃\u001b[1m \u001b[0m\u001b[1m       DataLoader 0       \u001b[0m\u001b[1m \u001b[0m┃\n",
       "┡━━━━━━━━━━━━━━━━━━━━━━━━━━━━╇━━━━━━━━━━━━━━━━━━━━━━━━━━━━┩\n",
       "│\u001b[36m \u001b[0m\u001b[36m   test_accuracy_exact    \u001b[0m\u001b[36m \u001b[0m│\u001b[35m \u001b[0m\u001b[35m    0.1881188154220581    \u001b[0m\u001b[35m \u001b[0m│\n",
       "│\u001b[36m \u001b[0m\u001b[36mtest_accuracy_tolerant_1pt\u001b[0m\u001b[36m \u001b[0m│\u001b[35m \u001b[0m\u001b[35m    0.4554455578327179    \u001b[0m\u001b[35m \u001b[0m│\n",
       "│\u001b[36m \u001b[0m\u001b[36m        test_loss         \u001b[0m\u001b[36m \u001b[0m│\u001b[35m \u001b[0m\u001b[35m    6.2619123458862305    \u001b[0m\u001b[35m \u001b[0m│\n",
       "│\u001b[36m \u001b[0m\u001b[36mtest_loss_log_transformed \u001b[0m\u001b[36m \u001b[0m│\u001b[35m \u001b[0m\u001b[35m    0.7238472700119019    \u001b[0m\u001b[35m \u001b[0m│\n",
       "└────────────────────────────┴────────────────────────────┘\n"
      ]
     },
     "metadata": {},
     "output_type": "display_data"
    },
    {
     "name": "stdout",
     "output_type": "stream",
     "text": [
      "[{'test_loss_log_transformed': 0.7238472700119019, 'test_loss': 6.2619123458862305, 'test_accuracy_exact': 0.1881188154220581, 'test_accuracy_tolerant_1pt': 0.4554455578327179}]\n"
     ]
    },
    {
     "name": "stderr",
     "output_type": "stream",
     "text": [
      "LOCAL_RANK: 0 - CUDA_VISIBLE_DEVICES: [0]\n"
     ]
    },
    {
     "name": "stdout",
     "output_type": "stream",
     "text": [
      "Testing DataLoader 0: 100%|██████████| 7/7 [00:00<00:00, 26.19it/s]\n"
     ]
    },
    {
     "data": {
      "text/html": [
       "<pre style=\"white-space:pre;overflow-x:auto;line-height:normal;font-family:Menlo,'DejaVu Sans Mono',consolas,'Courier New',monospace\">┏━━━━━━━━━━━━━━━━━━━━━━━━━━━━┳━━━━━━━━━━━━━━━━━━━━━━━━━━━━┓\n",
       "┃<span style=\"font-weight: bold\">        Test metric         </span>┃<span style=\"font-weight: bold\">        DataLoader 0        </span>┃\n",
       "┡━━━━━━━━━━━━━━━━━━━━━━━━━━━━╇━━━━━━━━━━━━━━━━━━━━━━━━━━━━┩\n",
       "│<span style=\"color: #008080; text-decoration-color: #008080\">    test_accuracy_exact     </span>│<span style=\"color: #800080; text-decoration-color: #800080\">    0.14480197429656982     </span>│\n",
       "│<span style=\"color: #008080; text-decoration-color: #008080\"> test_accuracy_tolerant_1pt </span>│<span style=\"color: #800080; text-decoration-color: #800080\">     0.3824257552623749     </span>│\n",
       "│<span style=\"color: #008080; text-decoration-color: #008080\">         test_loss          </span>│<span style=\"color: #800080; text-decoration-color: #800080\">      6.51652193069458      </span>│\n",
       "│<span style=\"color: #008080; text-decoration-color: #008080\"> test_loss_log_transformed  </span>│<span style=\"color: #800080; text-decoration-color: #800080\">     0.513572633266449      </span>│\n",
       "└────────────────────────────┴────────────────────────────┘\n",
       "</pre>\n"
      ],
      "text/plain": [
       "┏━━━━━━━━━━━━━━━━━━━━━━━━━━━━┳━━━━━━━━━━━━━━━━━━━━━━━━━━━━┓\n",
       "┃\u001b[1m \u001b[0m\u001b[1m       Test metric        \u001b[0m\u001b[1m \u001b[0m┃\u001b[1m \u001b[0m\u001b[1m       DataLoader 0       \u001b[0m\u001b[1m \u001b[0m┃\n",
       "┡━━━━━━━━━━━━━━━━━━━━━━━━━━━━╇━━━━━━━━━━━━━━━━━━━━━━━━━━━━┩\n",
       "│\u001b[36m \u001b[0m\u001b[36m   test_accuracy_exact    \u001b[0m\u001b[36m \u001b[0m│\u001b[35m \u001b[0m\u001b[35m   0.14480197429656982    \u001b[0m\u001b[35m \u001b[0m│\n",
       "│\u001b[36m \u001b[0m\u001b[36mtest_accuracy_tolerant_1pt\u001b[0m\u001b[36m \u001b[0m│\u001b[35m \u001b[0m\u001b[35m    0.3824257552623749    \u001b[0m\u001b[35m \u001b[0m│\n",
       "│\u001b[36m \u001b[0m\u001b[36m        test_loss         \u001b[0m\u001b[36m \u001b[0m│\u001b[35m \u001b[0m\u001b[35m     6.51652193069458     \u001b[0m\u001b[35m \u001b[0m│\n",
       "│\u001b[36m \u001b[0m\u001b[36mtest_loss_log_transformed \u001b[0m\u001b[36m \u001b[0m│\u001b[35m \u001b[0m\u001b[35m    0.513572633266449     \u001b[0m\u001b[35m \u001b[0m│\n",
       "└────────────────────────────┴────────────────────────────┘\n"
      ]
     },
     "metadata": {},
     "output_type": "display_data"
    },
    {
     "name": "stdout",
     "output_type": "stream",
     "text": [
      "[{'test_loss_log_transformed': 0.513572633266449, 'test_loss': 6.51652193069458, 'test_accuracy_exact': 0.14480197429656982, 'test_accuracy_tolerant_1pt': 0.3824257552623749}]\n"
     ]
    }
   ],
   "source": [
    "test_results = final_rnn_trainer.test(\n",
    "    model=best_rnn_model_final,\n",
    "    dataloaders=active_loader_log,\n",
    "    )\n",
    "\n",
    "\n",
    "test_results = trainer.test(\n",
    "    model=best_model_final, \n",
    "    dataloaders=active_loader_log,\n",
    "    )\n",
    "\n"
   ]
  },
  {
   "cell_type": "code",
   "execution_count": 38,
   "id": "8d3ce151",
   "metadata": {},
   "outputs": [
    {
     "data": {
      "image/png": "[encoded data removed]",
      "text/plain": [
       "<Figure size 1500x700 with 1 Axes>"
      ]
     },
     "metadata": {},
     "output_type": "display_data"
    }
   ],
   "source": [
    "salah_predictions_transformer = []\n",
    "salah_predictions_rnn = []\n",
    "\n",
    "with torch.no_grad():\n",
    "    for i in range(salah_sequences_scaled.shape[0]):\n",
    "        seq_input = salah_sequences_tensor[i].unsqueeze(0)\n",
    "        mask_input = salah_masks_tensor[i].unsqueeze(0)\n",
    "        pred_transformer = best_model_final(seq_input, mask_input) \n",
    "        pred_rnn = best_rnn_model_final(seq_input, mask_input) \n",
    "\n",
    "\n",
    "        salah_predictions_transformer.append(np.expm1(pred_transformer.item()))\n",
    "        salah_predictions_rnn.append(np.expm1(pred_rnn.item()))\n",
    "\n",
    "salah_predictions_transformer_rounded = np.round(salah_predictions_transformer)\n",
    "salah_predictions_rnn_rounded = np.round(salah_predictions_rnn)\n",
    "\n",
    "\n",
    "\n",
    "plt.figure(figsize=(15, 7))\n",
    "plt.plot(np.expm1(salah_targets), label='Salah - True Points', marker='o')\n",
    "plt.plot(salah_predictions_transformer_rounded, label='Salah - Transformer Predicted Points (Rounded)', marker='x', linestyle='--')\n",
    "plt.plot(salah_predictions_rnn_rounded, label='Salah - RNN Predicted Points (Rounded)', marker='x', linestyle='--')\n",
    "plt.xlabel(\"Gameweek\")\n",
    "plt.ylabel(\"Total Points\")\n",
    "plt.title(f\"Model Performance on Mohamed Salah (using prepare_player_sequences)\")\n",
    "plt.legend()\n",
    "plt.grid(True)\n",
    "plt.show()"
   ]
  }
 ],
 "metadata": {
  "kernelspec": {
   "display_name": "ai_project",
   "language": "python",
   "name": "python3"
  },
  "language_info": {
   "codemirror_mode": {
    "name": "ipython",
    "version": 3
   },
   "file_extension": ".py",
   "mimetype": "text/x-python",
   "name": "python",
   "nbconvert_exporter": "python",
   "pygments_lexer": "ipython3",
   "version": "3.12.10"
  }
 },
 "nbformat": 4,
 "nbformat_minor": 5
}
