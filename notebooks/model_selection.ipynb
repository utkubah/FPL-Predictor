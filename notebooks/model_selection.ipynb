{
 "cells": [
  {
   "cell_type": "markdown",
   "id": "e9f0e524",
   "metadata": {},
   "source": [
    "# Model Selection Notebook\n",
    "\n",
    "**Objective:** Compare FNN, RNN and Transformer on FPL player‐sequence data, tune key hyperparameters, visualize training, and select the best model for evaluation\n"
   ]
  },
  {
   "cell_type": "markdown",
   "id": "e7ff5c11",
   "metadata": {},
   "source": [
    "### Getting the Data\n",
    "\n",
    "We use the `make_dataset.py` script to transform processed data into a model-ready format. This includes:\n",
    "\n",
    "- Dropping the necessary columns\n",
    "- Creating time sequences\n",
    "- Handling missing values\n",
    "- Creating attention masks\n",
    "\n",
    "\n",
    "What do we need to do:\n",
    "\n",
    "- Splitting into training/validation/test sets\n",
    "- Comparing different model architectures\n",
    "- Visualizing the training and model selection\n",
    "- Hyperparameter tuning\n",
    "\n",
    "\n",
    "!!! Our data is both sparse and has outliers, needs to be kept in mind"
   ]
  },
  {
   "cell_type": "code",
   "execution_count": 123,
   "id": "0aac0841",
   "metadata": {},
   "outputs": [],
   "source": [
    "# for corrent imports\n",
    "import sys\n",
    "from pathlib import Path\n",
    "\n",
    "PROJECT_ROOT = Path().resolve().parent  \n",
    "SRC_DIR       = PROJECT_ROOT / \"src\"\n",
    "DATA_DIR      = PROJECT_ROOT / \"data\"\n",
    "\n",
    "sys.path.insert(0, str(SRC_DIR))       \n"
   ]
  },
  {
   "cell_type": "code",
   "execution_count": 124,
   "id": "f9dc260b",
   "metadata": {},
   "outputs": [],
   "source": [
    "import numpy as np\n",
    "import pandas as pd\n",
    "import matplotlib.pyplot as plt\n",
    "import torch\n",
    "import torch.nn as nn\n",
    "import torch.optim as optim\n",
    "import pytorch_lightning as pl\n",
    "import math\n",
    "from torch.utils.data import DataLoader\n",
    "\n",
    "from pytorch_lightning.callbacks import EarlyStopping, LearningRateMonitor\n",
    "from torch.optim.lr_scheduler import SequentialLR, LinearLR, CosineAnnealingLR, MultiStepLR\n",
    "\n",
    "from sklearn.preprocessing import StandardScaler, MaxAbsScaler \n",
    "import os\n",
    "import seaborn as sns\n",
    "\n",
    "from data.make_dataset import prepare_player_sequences, FPLPlayerSequenceDataset"
   ]
  },
  {
   "cell_type": "code",
   "execution_count": 125,
   "id": "18a5a01f",
   "metadata": {},
   "outputs": [
    {
     "name": "stdout",
     "output_type": "stream",
     "text": [
      "--- Starting Data Preparation for Sequences from C:\\Users\\asus\\OneDrive\\Desktop\\projects\\AI_project\\data\\processed_data.csv ---\n",
      "Successfully loaded data. Shape: (28742, 84)\n",
      "\n",
      "--- Cleaning Data and Selecting Numeric Features ---\n",
      "Column 'name' is of type object and couldn't be converted to numeric. Marked for dropping.\n",
      "Column 'position' is of type object and couldn't be converted to numeric. Marked for dropping.\n",
      "Column 'team' is of type object and couldn't be converted to numeric. Marked for dropping.\n",
      "Column 'kickoff_time' is of type object and couldn't be converted to numeric. Marked for dropping.\n",
      "Note: 'player_id' is in selected features. It will be part of the dense sequence.\n",
      "Column '['assists', 'bonus', 'bps', 'clean_sheets', 'creativity', 'goals_conceded', 'goals_scored', 'ict_index', 'influence', 'minutes', 'own_goals', 'penalties_missed', 'penalties_saved', 'red_cards', 'saves', 'starts', 'threat', 'yellow_cards', 'xP', 'expected_assists', 'expected_goal_involvements', 'expected_goals', 'expected_goals_conceded', 'value', 'selected', 'transfers_balance', 'transfers_in', 'transfers_out', 'team_a_score', 'team_h_score']' are dropped for preventing data leakage.\n",
      "Columns dropped for other reasons: ['name', 'position', 'team', 'kickoff_time']\n",
      "Selected 57 features for sequences: ['opponent_team', 'was_home', 'player_id', 'total_points', 'GW']...\n",
      "\n",
      "Sorting data by 'player_id' and then 'GW'...\n",
      "\n",
      "--- Creating Fixed-Length Sequences (Max Gameweeks: 38) ---\n",
      "Successfully created sequences. Shape: (28742, 38, 56)\n",
      "Targets shape: (28742,)\n",
      "Attention masks shape: (28742, 38)\n"
     ]
    }
   ],
   "source": [
    "# generate sequences\n",
    "# work on the time issue\n",
    "sequences, masks, targets = prepare_player_sequences(\n",
    "    df_path=str(DATA_DIR / \"processed_data.csv\"),\n",
    "    target_col=\"total_points\",\n",
    "    max_gws_in_sequence= 38,\n",
    ")\n",
    "\n"
   ]
  },
  {
   "cell_type": "code",
   "execution_count": 126,
   "id": "1796c616",
   "metadata": {},
   "outputs": [],
   "source": [
    "# train/val/test split\n",
    "# we do it a chronological way \n",
    "\n",
    "n = sequences.shape[0]\n",
    "\n",
    "train_end = int(n * 0.70)          \n",
    "val_end   = train_end + int(n * 0.15)  \n",
    "\n",
    "train_idx = np.arange(0, train_end)\n",
    "val_idx   = np.arange(train_end, val_end)\n",
    "test_idx  = np.arange(val_end, n)\n"
   ]
  },
  {
   "cell_type": "code",
   "execution_count": 127,
   "id": "c1fe682b",
   "metadata": {},
   "outputs": [
    {
     "name": "stdout",
     "output_type": "stream",
     "text": [
      "Fitting StandardScaler on training data features...\n",
      "Scaling train, val, and test sequences using the fitted scaler...\n"
     ]
    }
   ],
   "source": [
    "scaler = MaxAbsScaler() #better for sparse data \n",
    "print(\"Fitting StandardScaler on training data features...\")\n",
    "\n",
    "train_sequences_reshaped = sequences[train_idx].reshape(-1, sequences.shape[2])\n",
    "\n",
    "scaler.fit(train_sequences_reshaped)\n",
    "\n",
    "\n",
    "def scale_3d_sequences(sequence_array_3d, fitted_scaler):\n",
    "    if sequence_array_3d.shape[0] == 0: # Handle empty array\n",
    "        return sequence_array_3d \n",
    "    \n",
    "    original_shape = sequence_array_3d.shape\n",
    "    num_features_in_array = original_shape[2]\n",
    "    \n",
    "    # Reshape to 2D: [N_samples_in_split * S_seq_len, F_features]\n",
    "    reshaped_array = sequence_array_3d.reshape(-1, num_features_in_array)\n",
    "    \n",
    "    # Transform using the FITTED scaler\n",
    "    scaled_reshaped_array = fitted_scaler.transform(reshaped_array)\n",
    "    \n",
    "    # Reshape back to original 3D shape\n",
    "    return scaled_reshaped_array.reshape(original_shape)\n",
    "\n",
    "\n",
    "print(\"Scaling train, val, and test sequences using the fitted scaler...\")\n",
    "sequences_train_scaled = scale_3d_sequences(sequences[train_idx], scaler)\n",
    "sequences_val_scaled = scale_3d_sequences(sequences[val_idx], scaler)\n",
    "sequences_test_scaled = scale_3d_sequences(sequences[test_idx], scaler)"
   ]
  },
  {
   "cell_type": "code",
   "execution_count": 128,
   "id": "a0368ca3",
   "metadata": {},
   "outputs": [
    {
     "name": "stdout",
     "output_type": "stream",
     "text": [
      "Train/Val/Test sizes: 20119/4311/4312\n"
     ]
    }
   ],
   "source": [
    "masks_train = masks[train_idx]\n",
    "targets_train = targets[train_idx]\n",
    "\n",
    "masks_val = masks[val_idx]\n",
    "targets_val = targets[val_idx]\n",
    "\n",
    "masks_test = masks[test_idx]\n",
    "targets_test = targets[test_idx]\n",
    "\n",
    "\n",
    "train_ds = FPLPlayerSequenceDataset(sequences_train_scaled, targets_train, masks_train) \n",
    "val_ds = FPLPlayerSequenceDataset(sequences_val_scaled, targets_val, masks_val)     \n",
    "test_ds = FPLPlayerSequenceDataset(sequences_test_scaled, targets_test, masks_test)     \n",
    "\n",
    "\n",
    "\n",
    "\n",
    "train_loader = DataLoader(train_ds, batch_size=64, shuffle=True) #change this\n",
    "val_loader   = DataLoader(val_ds, batch_size=64, shuffle=False)\n",
    "test_loader  = DataLoader(test_ds, batch_size=64, shuffle=False)\n",
    "\n",
    "\n",
    "print(f\"Train/Val/Test sizes: {len(train_ds)}/{len(val_ds)}/{len(test_ds)}\")"
   ]
  },
  {
   "cell_type": "code",
   "execution_count": 129,
   "id": "7d669c97",
   "metadata": {},
   "outputs": [
    {
     "name": "stdout",
     "output_type": "stream",
     "text": [
      "Sample batch - Sequences shape: torch.Size([64, 38, 56])\n",
      "Sample batch - Attention Mask shape: torch.Size([64, 38])\n",
      "Sample batch - Targets shape: torch.Size([64, 1])\n"
     ]
    }
   ],
   "source": [
    "sample_seq, sample_mask, sample_target = next(iter(train_loader))\n",
    "print(f\"Sample batch - Sequences shape: {sample_seq.shape}\")      # (batch_size, gameweeks, num_features)\n",
    "print(f\"Sample batch - Attention Mask shape: {sample_mask.shape}\") # (batch_size, gameweeks)\n",
    "print(f\"Sample batch - Targets shape: {sample_target.shape}\")       # (batch_size, 1)         \n"
   ]
  },
  {
   "cell_type": "markdown",
   "id": "b02ec1d2",
   "metadata": {},
   "source": [
    "### Distrubition of target\n",
    "\n",
    "When training we want to be sure that one target value overwhelms the training"
   ]
  },
  {
   "cell_type": "markdown",
   "id": "ca8dc41e",
   "metadata": {},
   "source": [
    "## Model Architectures Under Consideration\n",
    "\n",
    "We define three architectures:\n",
    "- **FNN**: flatten inputs  \n",
    "- **RNN**: LSTM-based sequence model  \n",
    "- **Transformer**: self-attention encoder  \n",
    "\n",
    "All share the same input dims.\n",
    "\n",
    "**Loss Function:** We aim to predict FPL points, a continuous numerical value, making this a regression task. As points are generally int it can also be formulated as classification but we will go with regression. Common loss functions include Mean Squared Error (`nn.MSELoss()`), which heavily penalizes large errors, or Mean Absolute Error (`nn.L1Loss()`), which is less sensitive to outliers. Since we have a lot of 0s in target while have significant outliers that are highly impactful we will start with `nn.L1Loss()`."
   ]
  },
  {
   "cell_type": "markdown",
   "id": "bbdd73be",
   "metadata": {},
   "source": [
    "### FNN"
   ]
  },
  {
   "cell_type": "code",
   "execution_count": 130,
   "id": "f4176a0f",
   "metadata": {},
   "outputs": [],
   "source": [
    "class FNN(pl.LightningModule):\n",
    "    def __init__(self, seq_len, n_features, hidden_dim=256, dropout=0.5, lr=1e-4, weight_decay = 1e-5):\n",
    "        super().__init__()\n",
    "        self.save_hyperparameters()\n",
    "        self.model = nn.Sequential(\n",
    "            nn.Flatten(),\n",
    "            nn.Linear(seq_len * n_features, hidden_dim),\n",
    "            nn.ReLU(),\n",
    "            nn.Dropout(dropout),\n",
    "            nn.Linear(hidden_dim,hidden_dim),\n",
    "            nn.ReLU(),\n",
    "            nn.Dropout(dropout),\n",
    "            nn.Linear(hidden_dim, 1),\n",
    "        )\n",
    "        self.criterion = nn.SmoothL1Loss(beta=1.0)\n",
    "\n",
    "        self.lr = lr\n",
    "        self.weight_decay = weight_decay\n",
    "\n",
    "    def forward(self, x, mask=None):\n",
    "        return self.model(x)\n",
    "    \n",
    "\n",
    "    def training_step(self, batch, batch_idx):\n",
    "        x, mask, y = batch\n",
    "        preds = self(x, mask)\n",
    "\n",
    "        loss = self.criterion(preds, y)\n",
    "        self.log(\"train_loss\", loss, on_step=False, on_epoch=True, prog_bar=True, logger=True)\n",
    "        return loss\n",
    "\n",
    "\n",
    "    def validation_step(self, batch, batch_idx):\n",
    "        x, mask, y = batch\n",
    "        preds = self(x, mask)          \n",
    "\n",
    "        preds_rounded = torch.round(preds) \n",
    "\n",
    "\n",
    "        loss = self.criterion(preds_rounded, y)\n",
    "        self.log(\"val_loss\", loss, on_step=False, on_epoch=True, prog_bar=True, logger=True)\n",
    "\n",
    "        # Accuracy within a tolerance (e.g., prediction is within +/- 1 point of true)\n",
    "        tolerance = 1.0\n",
    "        accuracy_tolerant = (torch.abs(preds_rounded - y) <= tolerance).float().mean()\n",
    "        self.log(\"val_accuracy_tolerant_1pt\", accuracy_tolerant, on_step=False, on_epoch=True, prog_bar=True, logger=True)\n",
    "        \n",
    "\n",
    "        return loss\n",
    "    \n",
    "    def test_step(self, batch, batch_idx):\n",
    "        x, mask, y = batch\n",
    "        preds = self(x, mask)\n",
    "\n",
    "        preds_rounded = torch.round(preds) \n",
    "\n",
    "\n",
    "        loss = self.criterion(preds_rounded, y)\n",
    "        self.log(\"test_loss\", loss, on_step=False, on_epoch=True, prog_bar=True, logger=True)\n",
    "\n",
    "\n",
    "        accuracy_exact = (preds_rounded == y).float().mean()\n",
    "        self.log(\"val_accuracy_exact\", accuracy_exact, prog_bar=False, on_step=False, on_epoch=True)\n",
    "\n",
    "\n",
    "        # Accuracy within a tolerance (e.g., prediction is within +/- 1 point of true)\n",
    "        tolerance = 1.0\n",
    "        accuracy_tolerant = (torch.abs(preds_rounded - y) <= tolerance).float().mean()\n",
    "        self.log(\"test_accuracy_tolerant_1pt\", accuracy_tolerant, on_step=False, on_epoch=True, prog_bar=True, logger=True)\n",
    "        \n",
    "        \n",
    "        return loss\n",
    "\n",
    "\n",
    "    def configure_optimizers(self):\n",
    "        optimizer = optim.AdamW(self.parameters(), lr=self.lr, weight_decay=self.weight_decay)\n",
    "        \n",
    "        scheduler = torch.optim.lr_scheduler.ReduceLROnPlateau(\n",
    "                optimizer,\n",
    "                mode='min',      # Reduce LR when the monitored quantity has stopped decreasing\n",
    "                factor=0.1,      # Factor by which the learning rate will be reduced (new_lr = lr * factor)\n",
    "                patience=3,      # Number of epochs with no improvement after which LR will be reduced\n",
    "                verbose=True,    # Print a message when LR is reduced\n",
    "                min_lr=1e-7      # Lower bound on the learning rate\n",
    "            )\n",
    "            \n",
    "        return {\n",
    "                \"optimizer\": optimizer,\n",
    "                \"lr_scheduler\": {\n",
    "                    \"scheduler\": scheduler,\n",
    "                    \"monitor\": \"val_loss\", # Metric to monitor for LR reduction\n",
    "                    \"interval\": \"epoch\",   # Check scheduler at the end of each epoch\n",
    "                    \"frequency\": 1         # Check every 1 epoch\n",
    "                }\n",
    "            }\n",
    "\n",
    "    "
   ]
  },
  {
   "cell_type": "markdown",
   "id": "a48b46dd",
   "metadata": {},
   "source": [
    "### RNN"
   ]
  },
  {
   "cell_type": "code",
   "execution_count": 131,
   "id": "a6967feb",
   "metadata": {},
   "outputs": [],
   "source": [
    "class RNN(pl.LightningModule):\n",
    "    def __init__(self, n_features, hidden_dim=64, n_layers=2, dropout=0.4, lr=1e-4, weight_decay = 1e-5):\n",
    "        super().__init__()\n",
    "        self.save_hyperparameters()\n",
    "        self.lstm = nn.LSTM(\n",
    "            input_size=n_features,\n",
    "            hidden_size=hidden_dim,\n",
    "            num_layers=n_layers,\n",
    "            batch_first=True,\n",
    "            dropout=dropout,\n",
    "        )\n",
    "        self.fc = nn.Linear(hidden_dim, 1)\n",
    "\n",
    "        \n",
    "        self.criterion = nn.SmoothL1Loss(beta=1.0)\n",
    "\n",
    "        self.lr = lr\n",
    "        self.weight_decay = weight_decay\n",
    "\n",
    "    def forward(self, x, mask):\n",
    "        out, _ = self.lstm(x)\n",
    "        lengths = mask.sum(dim=1)       \n",
    "        idx = lengths - 1                \n",
    "      \n",
    "        \n",
    "        last = out[torch.arange(out.size(0)), idx]\n",
    "        return self.fc(last)\n",
    "    \n",
    "\n",
    "    def training_step(self, batch, batch_idx):\n",
    "        x, mask, y = batch\n",
    "        preds = self(x, mask)\n",
    "\n",
    "        loss = self.criterion(preds, y)\n",
    "        self.log(\"train_loss\", loss, on_step=False, on_epoch=True, prog_bar=True, logger=True)\n",
    "        return loss\n",
    "\n",
    "    def validation_step(self, batch, batch_idx):\n",
    "        x, mask, y = batch\n",
    "        preds = self(x, mask)\n",
    "\n",
    "        #for validation step we want to be accurate to original points which are integers so we round the prediction\n",
    "\n",
    "        preds_rounded = torch.round(preds) \n",
    "\n",
    "\n",
    "        loss = self.criterion(preds_rounded, y)\n",
    "        self.log(\"val_loss\", loss, on_step=False, on_epoch=True, prog_bar=True, logger=True)\n",
    "\n",
    "        # Accuracy within a tolerance (e.g., prediction is within +/- 1 point of true)\n",
    "        tolerance = 1.0\n",
    "        accuracy_tolerant = (torch.abs(preds_rounded - y) <= tolerance).float().mean()\n",
    "        self.log(\"val_accuracy_tolerant_1pt\", accuracy_tolerant, on_step=False, on_epoch=True, prog_bar=True, logger=True)\n",
    "        \n",
    "\n",
    "        return loss\n",
    "\n",
    "    def test_step(self, batch, batch_idx):\n",
    "        x, mask, y = batch\n",
    "        preds = self(x, mask)\n",
    "\n",
    "        preds_rounded = torch.round(preds) \n",
    "\n",
    "\n",
    "        loss = self.criterion(preds_rounded, y)\n",
    "        self.log(\"test_loss\", loss, on_step=False, on_epoch=True, prog_bar=True, logger=True)\n",
    "\n",
    "        accuracy_exact = (preds_rounded == y).float().mean()\n",
    "        self.log(\"val_accuracy_exact\", accuracy_exact, prog_bar=False, on_step=False, on_epoch=True)\n",
    "\n",
    "        \n",
    "        # Accuracy within a tolerance (e.g., prediction is within +/- 1 point of true)\n",
    "        tolerance = 1.0\n",
    "        accuracy_tolerant = (torch.abs(preds_rounded - y) <= tolerance).float().mean()\n",
    "        self.log(\"test_accuracy_tolerant_1pt\", accuracy_tolerant, on_step=False, on_epoch=True, prog_bar=True, logger=True)\n",
    "        \n",
    "        \n",
    "        return loss\n",
    "\n",
    "    def configure_optimizers(self):\n",
    "        optimizer = optim.AdamW(self.parameters(), lr=self.lr, weight_decay=self.weight_decay)\n",
    "        \n",
    "        scheduler = torch.optim.lr_scheduler.ReduceLROnPlateau(\n",
    "                optimizer,\n",
    "                mode='min',      # Reduce LR when the monitored quantity has stopped decreasing\n",
    "                factor=0.1,      # Factor by which the learning rate will be reduced (new_lr = lr * factor)\n",
    "                patience=3,      # Number of epochs with no improvement after which LR will be reduced\n",
    "                verbose=True,    # Print a message when LR is reduced\n",
    "                min_lr=1e-7      # Lower bound on the learning rate\n",
    "            )\n",
    "            \n",
    "        return {\n",
    "                \"optimizer\": optimizer,\n",
    "                \"lr_scheduler\": {\n",
    "                    \"scheduler\": scheduler,\n",
    "                    \"monitor\": \"val_loss\", # Metric to monitor for LR reduction\n",
    "                    \"interval\": \"epoch\",   # Check scheduler at the end of each epoch\n",
    "                    \"frequency\": 1         # Check every 1 epoch\n",
    "                }\n",
    "            }\n",
    "\n",
    "    \n"
   ]
  },
  {
   "cell_type": "markdown",
   "id": "bbde615e",
   "metadata": {},
   "source": [
    "### Transformer\n",
    "\n",
    "As transformers can't understand the order of the sequences we add a positional encoding to teach the order of gameweeks"
   ]
  },
  {
   "cell_type": "code",
   "execution_count": 132,
   "id": "f6ee205c",
   "metadata": {},
   "outputs": [],
   "source": [
    "class PositionalEncoding(nn.Module):\n",
    "    def __init__(self, d_model, dropout = 0.2, sequence_length = 38): \n",
    "        super().__init__()\n",
    "        self.dropout = nn.Dropout(p=dropout)\n",
    "\n",
    "        position = torch.arange(sequence_length).unsqueeze(1)\n",
    "        div_term = torch.exp(torch.arange(0, d_model, 2) * (-math.log(10000.0) / d_model))\n",
    "        pe = torch.zeros(sequence_length, 1, d_model)\n",
    "        \n",
    "        \n",
    "        pe[:, 0, 0::2] = torch.sin(position * div_term)\n",
    "        pe[:, 0, 1::2] = torch.cos(position * div_term)\n",
    "        self.register_buffer(\"pe\", pe)\n",
    "\n",
    "    def forward(self, x):\n",
    "        x = x + self.pe.squeeze(1)\n",
    "        return self.dropout(x)"
   ]
  },
  {
   "cell_type": "markdown",
   "id": "f2e71294",
   "metadata": {},
   "source": [
    "Then we use encoder only transformer model with a linear classification head\n",
    "\n",
    "Weighted MSE/MAE (More Advanced): If you particularly care about predicting higher scores better, you could try to implement a custom loss function that gives higher weight to errors on samples where y_true is large. This is more complex to implement and tune.\n",
    "\n",
    "\n",
    "Transform the Target Variable (and Inverse Transform Predictions):\n",
    "Log Transformation: log(1 + y). This compresses the scale of large y values, making the distribution less skewed. The model then predicts log(1 + y_pred_transformed). You'd need to inverse transform the predictions before calculating MAE/MSE against the original y for interpretation: exp(y_pred_transformed) - 1.\n"
   ]
  },
  {
   "cell_type": "code",
   "execution_count": 133,
   "id": "737979f2",
   "metadata": {},
   "outputs": [],
   "source": [
    "class Transformer(pl.LightningModule):\n",
    "    def __init__(self,\n",
    "                 input_features_dim,\n",
    "                 d_model = 128,\n",
    "                 nhead = 4,\n",
    "                 num_encoder_layers = 2,\n",
    "                 dim_feedforward = 256,\n",
    "                 dropout = 0.4,\n",
    "                 sequence_length = 38,\n",
    "                 lr = 1e-4,\n",
    "                 weight_decay = 5e-4,\n",
    "                 warmup_epochs = 5, #useful for transformers\n",
    "                 max_epochs_for_scheduler=30\n",
    "                 ):\n",
    "        \n",
    "        super().__init__()\n",
    "        self.save_hyperparameters()\n",
    "\n",
    "\n",
    "        # input projection layer necessary for positional encoding \n",
    "        self.input_projection = nn.Linear(input_features_dim, d_model)\n",
    "        nn.init.xavier_uniform_(self.input_projection.weight, gain=0.1)\n",
    "        nn.init.zeros_(self.input_projection.bias)\n",
    "\n",
    "        self.input_norm = nn.LayerNorm(d_model) #this solved it\n",
    "\n",
    "        self.pos_encoder = PositionalEncoding(d_model, dropout, sequence_length=sequence_length)\n",
    "\n",
    "\n",
    "        # encoder layer\n",
    "        encoder_layer = nn.TransformerEncoderLayer(\n",
    "            d_model=d_model,\n",
    "            nhead=nhead,\n",
    "            dim_feedforward=dim_feedforward,\n",
    "            dropout=dropout,\n",
    "            batch_first=True \n",
    "        )\n",
    "        self.transformer_encoder = nn.TransformerEncoder(encoder_layer, num_layers=num_encoder_layers)\n",
    "\n",
    "\n",
    "        # prediction head that predicts a single value (total_points)\n",
    "        self.output_head = nn.Sequential(\n",
    "            nn.Linear(d_model, d_model // 2),\n",
    "            nn.ReLU(),\n",
    "            nn.Dropout(dropout),\n",
    "            nn.Linear(d_model // 2, 1) \n",
    "        )\n",
    "\n",
    "        self.criterion = nn.SmoothL1Loss(beta=1.0)\n",
    "\n",
    "        self.lr = lr\n",
    "        self.weight_decay = weight_decay\n",
    "        self.warmup_epochs = warmup_epochs\n",
    "        self.max_epochs_for_scheduler = max_epochs_for_scheduler\n",
    "\n",
    "\n",
    "\n",
    "\n",
    "    def forward(self, x, mask):\n",
    "        x = self.input_projection(x) # [batch_size, seq_len, d_model] \n",
    "        x = self.input_norm(x)  \n",
    "        x = nn.ReLU()(x) # Apply activation\n",
    "\n",
    "        # Add positional encoding\n",
    "        x = self.pos_encoder(x)\n",
    "        \n",
    "\n",
    "        # Pass through Transformer Encoder\n",
    "        transformer_padding_mask = ~mask # Invert: True for padded, False for valid\n",
    "        encoded_sequence = self.transformer_encoder(x, src_key_padding_mask=transformer_padding_mask) \n",
    "\n",
    "                \n",
    "        # can't feed a 3d tensor into a linear so \n",
    "        batch_size = encoded_sequence.size(0)\n",
    "        sequence_lengths = mask.sum(dim=1) \n",
    "        idx = sequence_lengths-1 # index of last valid gameweek\n",
    "\n",
    "        # turn into 2D and use the final week that captures the context of previous weeks to decide the total points\n",
    "        final_representation = encoded_sequence[torch.arange(batch_size), idx, :] \n",
    "        \n",
    "        prediction = self.output_head(final_representation) # [batch_size, 1]\n",
    "        return prediction\n",
    "\n",
    "\n",
    "    def training_step(self, batch, batch_idx):\n",
    "        x, mask, y = batch\n",
    "        preds = self(x, mask)\n",
    "\n",
    "        loss = self.criterion(preds, y)\n",
    "        \n",
    "        self.log(\"train_loss\", loss, on_step=False, on_epoch=True, prog_bar=True, logger=True)\n",
    "        return loss\n",
    "\n",
    "    def validation_step(self, batch, batch_idx):\n",
    "        x, mask, y = batch\n",
    "        preds = self(x, mask)\n",
    "\n",
    "        preds_rounded = torch.round(preds) \n",
    "\n",
    "\n",
    "        loss = self.criterion(preds_rounded, y)\n",
    "        self.log(\"val_loss\", loss, on_step=False, on_epoch=True, prog_bar=True, logger=True)\n",
    "\n",
    "        # Accuracy within a tolerance (e.g., prediction is within +/- 1 point of true)\n",
    "        tolerance = 1.0\n",
    "        accuracy_tolerant = (torch.abs(preds_rounded - y) <= tolerance).float().mean()\n",
    "        self.log(\"val_accuracy_tolerant_1pt\", accuracy_tolerant, on_step=False, on_epoch=True, prog_bar=True, logger=True)\n",
    "        \n",
    "        return loss\n",
    "\n",
    "\n",
    "    def test_step(self, batch, batch_idx):\n",
    "        x, mask, y = batch\n",
    "        preds = self(x, mask)\n",
    "\n",
    "        preds_rounded = torch.round(preds) \n",
    "\n",
    "\n",
    "        loss = self.criterion(preds_rounded, y)\n",
    "        self.log(\"test_loss\", loss, on_step=False, on_epoch=True, prog_bar=True, logger=True)\n",
    "\n",
    "        accuracy_exact = (preds_rounded == y).float().mean()\n",
    "        self.log(\"val_accuracy_exact\", accuracy_exact, prog_bar=False, on_step=False, on_epoch=True)\n",
    "\n",
    "        # Accuracy within a tolerance (e.g., prediction is within +/- 1 point of true)\n",
    "        tolerance = 1.0\n",
    "        accuracy_tolerant = (torch.abs(preds_rounded - y) <= tolerance).float().mean()\n",
    "        self.log(\"test_accuracy_tolerant_1pt\", accuracy_tolerant, on_step=False, on_epoch=True, prog_bar=True, logger=True)\n",
    "        \n",
    "        return loss\n",
    "\n",
    "\n",
    "\n",
    "\n",
    "    def configure_optimizers(self):\n",
    "        optimizer = optim.AdamW(self.parameters(), lr=self.lr, weight_decay=self.weight_decay)\n",
    "\n",
    "\n",
    "\n",
    "        scheduler = torch.optim.lr_scheduler.ReduceLROnPlateau(\n",
    "                optimizer,\n",
    "                mode='min',      \n",
    "                factor=0.1,      \n",
    "                patience=3,      \n",
    "                verbose=True,    \n",
    "                min_lr=1e-7\n",
    "            )\n",
    "\n",
    "        \n",
    "        # warm up for the transformer\n",
    "        scheduler1 = LinearLR(optimizer, \n",
    "                              start_factor=0.01, \n",
    "                              end_factor=1.0, \n",
    "                              total_iters=self.warmup_epochs) \n",
    "\n",
    "      \n",
    "            \n",
    "        milestones_after_warmup = [5,13] \n",
    "        scheduler2 = MultiStepLR(optimizer,\n",
    "                             milestones=milestones_after_warmup,\n",
    "                             gamma=0.1) # Factor to reduce LR by (e.g., 0.1 or 0.2)\n",
    "\n",
    "\n",
    "\n",
    "\n",
    "        final_scheduler = SequentialLR(optimizer, schedulers=[scheduler1, scheduler2], milestones=[self.warmup_epochs])\n",
    "\n",
    "\n",
    "        \n",
    "\n",
    "        return {\n",
    "            \"optimizer\": optimizer,\n",
    "            \"lr_scheduler\": {\n",
    "                \"scheduler\": final_scheduler,\n",
    "                \"interval\": \"epoch\",  \n",
    "                \"frequency\": 1\n",
    "\n",
    "            }\n",
    "        }\n",
    "\n",
    "\n",
    "    "
   ]
  },
  {
   "cell_type": "markdown",
   "id": "f9f0c104",
   "metadata": {},
   "source": [
    "## Training"
   ]
  },
  {
   "cell_type": "code",
   "execution_count": 134,
   "id": "55e40bb6",
   "metadata": {},
   "outputs": [],
   "source": [
    "# Number of features and sequence length\n",
    "n_feats = sequences.shape[-1]\n",
    "seq_len = 38\n",
    "\n",
    "\n",
    "\n",
    "# Instantiate each LightningModule\n",
    "models = {\n",
    "    \"FNN\": FNN(\n",
    "        seq_len=seq_len,\n",
    "        n_features=n_feats,\n",
    "    ),\n",
    "    \"RNN\": RNN(\n",
    "        n_features=n_feats,\n",
    "    ),\n",
    "    \n",
    "    \"Transformer\": Transformer(\n",
    "        input_features_dim=n_feats,\n",
    "        max_epochs_for_scheduler=20\n",
    "    ),\n",
    "}\n",
    "\n",
    "\n"
   ]
  },
  {
   "cell_type": "code",
   "execution_count": 135,
   "id": "13ead27f",
   "metadata": {},
   "outputs": [
    {
     "name": "stderr",
     "output_type": "stream",
     "text": [
      "Using default `ModelCheckpoint`. Consider installing `litmodels` package to enable `LitModelCheckpoint` for automatic upload to the Lightning model registry.\n",
      "GPU available: True (cuda), used: True\n",
      "TPU available: False, using: 0 TPU cores\n",
      "HPU available: False, using: 0 HPUs\n"
     ]
    },
    {
     "name": "stdout",
     "output_type": "stream",
     "text": [
      "▶ Training FNN\n"
     ]
    },
    {
     "name": "stderr",
     "output_type": "stream",
     "text": [
      "LOCAL_RANK: 0 - CUDA_VISIBLE_DEVICES: [0]\n",
      "c:\\Users\\asus\\miniconda3\\envs\\ai_project\\Lib\\site-packages\\torch\\optim\\lr_scheduler.py:62: UserWarning: The verbose parameter is deprecated. Please use get_last_lr() to access the learning rate.\n",
      "  warnings.warn(\n",
      "\n",
      "  | Name      | Type         | Params | Mode \n",
      "---------------------------------------------------\n",
      "0 | model     | Sequential   | 611 K  | train\n",
      "1 | criterion | SmoothL1Loss | 0      | train\n",
      "---------------------------------------------------\n",
      "611 K     Trainable params\n",
      "0         Non-trainable params\n",
      "611 K     Total params\n",
      "2.444     Total estimated model params size (MB)\n",
      "10        Modules in train mode\n",
      "0         Modules in eval mode\n"
     ]
    },
    {
     "name": "stdout",
     "output_type": "stream",
     "text": [
      "                                                                            "
     ]
    },
    {
     "name": "stderr",
     "output_type": "stream",
     "text": [
      "c:\\Users\\asus\\miniconda3\\envs\\ai_project\\Lib\\site-packages\\pytorch_lightning\\trainer\\connectors\\data_connector.py:425: The 'val_dataloader' does not have many workers which may be a bottleneck. Consider increasing the value of the `num_workers` argument` to `num_workers=15` in the `DataLoader` to improve performance.\n",
      "c:\\Users\\asus\\miniconda3\\envs\\ai_project\\Lib\\site-packages\\pytorch_lightning\\trainer\\connectors\\data_connector.py:425: The 'train_dataloader' does not have many workers which may be a bottleneck. Consider increasing the value of the `num_workers` argument` to `num_workers=15` in the `DataLoader` to improve performance.\n"
     ]
    },
    {
     "name": "stdout",
     "output_type": "stream",
     "text": [
      "Epoch 0: 100%|██████████| 315/315 [00:02<00:00, 125.82it/s, v_num=33, val_loss=0.642, val_accuracy_tolerant_1pt=0.865, train_loss=0.837]"
     ]
    },
    {
     "name": "stderr",
     "output_type": "stream",
     "text": [
      "Metric val_loss improved. New best score: 0.642\n"
     ]
    },
    {
     "name": "stdout",
     "output_type": "stream",
     "text": [
      "Epoch 1: 100%|██████████| 315/315 [00:02<00:00, 127.85it/s, v_num=33, val_loss=0.630, val_accuracy_tolerant_1pt=0.869, train_loss=0.795]"
     ]
    },
    {
     "name": "stderr",
     "output_type": "stream",
     "text": [
      "Metric val_loss improved by 0.013 >= min_delta = 0.001. New best score: 0.630\n"
     ]
    },
    {
     "name": "stdout",
     "output_type": "stream",
     "text": [
      "Epoch 2: 100%|██████████| 315/315 [00:02<00:00, 130.38it/s, v_num=33, val_loss=0.614, val_accuracy_tolerant_1pt=0.873, train_loss=0.776]"
     ]
    },
    {
     "name": "stderr",
     "output_type": "stream",
     "text": [
      "Metric val_loss improved by 0.016 >= min_delta = 0.001. New best score: 0.614\n"
     ]
    },
    {
     "name": "stdout",
     "output_type": "stream",
     "text": [
      "Epoch 3: 100%|██████████| 315/315 [00:02<00:00, 114.24it/s, v_num=33, val_loss=0.609, val_accuracy_tolerant_1pt=0.878, train_loss=0.767]"
     ]
    },
    {
     "name": "stderr",
     "output_type": "stream",
     "text": [
      "Metric val_loss improved by 0.005 >= min_delta = 0.001. New best score: 0.609\n"
     ]
    },
    {
     "name": "stdout",
     "output_type": "stream",
     "text": [
      "Epoch 4: 100%|██████████| 315/315 [00:02<00:00, 116.60it/s, v_num=33, val_loss=0.606, val_accuracy_tolerant_1pt=0.881, train_loss=0.757]"
     ]
    },
    {
     "name": "stderr",
     "output_type": "stream",
     "text": [
      "Metric val_loss improved by 0.003 >= min_delta = 0.001. New best score: 0.606\n"
     ]
    },
    {
     "name": "stdout",
     "output_type": "stream",
     "text": [
      "Epoch 5: 100%|██████████| 315/315 [00:02<00:00, 118.40it/s, v_num=33, val_loss=0.600, val_accuracy_tolerant_1pt=0.884, train_loss=0.749]"
     ]
    },
    {
     "name": "stderr",
     "output_type": "stream",
     "text": [
      "Metric val_loss improved by 0.006 >= min_delta = 0.001. New best score: 0.600\n"
     ]
    },
    {
     "name": "stdout",
     "output_type": "stream",
     "text": [
      "Epoch 7: 100%|██████████| 315/315 [00:02<00:00, 111.26it/s, v_num=33, val_loss=0.596, val_accuracy_tolerant_1pt=0.883, train_loss=0.740]"
     ]
    },
    {
     "name": "stderr",
     "output_type": "stream",
     "text": [
      "Metric val_loss improved by 0.004 >= min_delta = 0.001. New best score: 0.596\n"
     ]
    },
    {
     "name": "stdout",
     "output_type": "stream",
     "text": [
      "Epoch 10: 100%|██████████| 315/315 [00:02<00:00, 121.99it/s, v_num=33, val_loss=0.593, val_accuracy_tolerant_1pt=0.882, train_loss=0.727]"
     ]
    },
    {
     "name": "stderr",
     "output_type": "stream",
     "text": [
      "Metric val_loss improved by 0.003 >= min_delta = 0.001. New best score: 0.593\n"
     ]
    },
    {
     "name": "stdout",
     "output_type": "stream",
     "text": [
      "Epoch 19: 100%|██████████| 315/315 [00:02<00:00, 112.84it/s, v_num=33, val_loss=0.595, val_accuracy_tolerant_1pt=0.880, train_loss=0.697]"
     ]
    },
    {
     "name": "stderr",
     "output_type": "stream",
     "text": [
      "`Trainer.fit` stopped: `max_epochs=20` reached.\n"
     ]
    },
    {
     "name": "stdout",
     "output_type": "stream",
     "text": [
      "Epoch 19: 100%|██████████| 315/315 [00:02<00:00, 111.91it/s, v_num=33, val_loss=0.595, val_accuracy_tolerant_1pt=0.880, train_loss=0.697]"
     ]
    },
    {
     "name": "stderr",
     "output_type": "stream",
     "text": [
      "Using default `ModelCheckpoint`. Consider installing `litmodels` package to enable `LitModelCheckpoint` for automatic upload to the Lightning model registry.\n"
     ]
    },
    {
     "name": "stdout",
     "output_type": "stream",
     "text": [
      "\n",
      "Available metrics for model FNN: dict_keys(['lr-AdamW', 'val_loss', 'val_accuracy_tolerant_1pt', 'train_loss'])\n",
      "FNN final val_loss = 0.5949\n",
      "▶ Training RNN\n"
     ]
    },
    {
     "name": "stderr",
     "output_type": "stream",
     "text": [
      "GPU available: True (cuda), used: True\n",
      "TPU available: False, using: 0 TPU cores\n",
      "HPU available: False, using: 0 HPUs\n",
      "LOCAL_RANK: 0 - CUDA_VISIBLE_DEVICES: [0]\n",
      "\n",
      "  | Name      | Type         | Params | Mode \n",
      "---------------------------------------------------\n",
      "0 | lstm      | LSTM         | 64.5 K | train\n",
      "1 | fc        | Linear       | 65     | train\n",
      "2 | criterion | SmoothL1Loss | 0      | train\n",
      "---------------------------------------------------\n",
      "64.6 K    Trainable params\n",
      "0         Non-trainable params\n",
      "64.6 K    Total params\n",
      "0.258     Total estimated model params size (MB)\n",
      "3         Modules in train mode\n",
      "0         Modules in eval mode\n"
     ]
    },
    {
     "name": "stdout",
     "output_type": "stream",
     "text": [
      "Epoch 0: 100%|██████████| 315/315 [00:03<00:00, 101.43it/s, v_num=28, val_loss=0.627, val_accuracy_tolerant_1pt=0.859, train_loss=0.857]"
     ]
    },
    {
     "name": "stderr",
     "output_type": "stream",
     "text": [
      "Metric val_loss improved. New best score: 0.627\n"
     ]
    },
    {
     "name": "stdout",
     "output_type": "stream",
     "text": [
      "Epoch 1: 100%|██████████| 315/315 [00:03<00:00, 103.83it/s, v_num=28, val_loss=0.609, val_accuracy_tolerant_1pt=0.871, train_loss=0.791]"
     ]
    },
    {
     "name": "stderr",
     "output_type": "stream",
     "text": [
      "Metric val_loss improved by 0.018 >= min_delta = 0.001. New best score: 0.609\n"
     ]
    },
    {
     "name": "stdout",
     "output_type": "stream",
     "text": [
      "Epoch 2: 100%|██████████| 315/315 [00:03<00:00, 103.47it/s, v_num=28, val_loss=0.596, val_accuracy_tolerant_1pt=0.869, train_loss=0.778]"
     ]
    },
    {
     "name": "stderr",
     "output_type": "stream",
     "text": [
      "Metric val_loss improved by 0.014 >= min_delta = 0.001. New best score: 0.596\n"
     ]
    },
    {
     "name": "stdout",
     "output_type": "stream",
     "text": [
      "Epoch 3: 100%|██████████| 315/315 [00:03<00:00, 100.72it/s, v_num=28, val_loss=0.591, val_accuracy_tolerant_1pt=0.875, train_loss=0.766]"
     ]
    },
    {
     "name": "stderr",
     "output_type": "stream",
     "text": [
      "Metric val_loss improved by 0.005 >= min_delta = 0.001. New best score: 0.591\n"
     ]
    },
    {
     "name": "stdout",
     "output_type": "stream",
     "text": [
      "Epoch 4: 100%|██████████| 315/315 [00:03<00:00, 103.97it/s, v_num=28, val_loss=0.585, val_accuracy_tolerant_1pt=0.873, train_loss=0.758]"
     ]
    },
    {
     "name": "stderr",
     "output_type": "stream",
     "text": [
      "Metric val_loss improved by 0.006 >= min_delta = 0.001. New best score: 0.585\n"
     ]
    },
    {
     "name": "stdout",
     "output_type": "stream",
     "text": [
      "Epoch 6: 100%|██████████| 315/315 [00:03<00:00, 99.41it/s, v_num=28, val_loss=0.583, val_accuracy_tolerant_1pt=0.875, train_loss=0.749] "
     ]
    },
    {
     "name": "stderr",
     "output_type": "stream",
     "text": [
      "Metric val_loss improved by 0.003 >= min_delta = 0.001. New best score: 0.583\n"
     ]
    },
    {
     "name": "stdout",
     "output_type": "stream",
     "text": [
      "Epoch 7: 100%|██████████| 315/315 [00:03<00:00, 100.29it/s, v_num=28, val_loss=0.581, val_accuracy_tolerant_1pt=0.875, train_loss=0.748]"
     ]
    },
    {
     "name": "stderr",
     "output_type": "stream",
     "text": [
      "Metric val_loss improved by 0.001 >= min_delta = 0.001. New best score: 0.581\n"
     ]
    },
    {
     "name": "stdout",
     "output_type": "stream",
     "text": [
      "Epoch 9: 100%|██████████| 315/315 [00:03<00:00, 98.63it/s, v_num=28, val_loss=0.580, val_accuracy_tolerant_1pt=0.876, train_loss=0.745] "
     ]
    },
    {
     "name": "stderr",
     "output_type": "stream",
     "text": [
      "Metric val_loss improved by 0.001 >= min_delta = 0.001. New best score: 0.580\n"
     ]
    },
    {
     "name": "stdout",
     "output_type": "stream",
     "text": [
      "Epoch 10: 100%|██████████| 315/315 [00:03<00:00, 93.09it/s, v_num=28, val_loss=0.579, val_accuracy_tolerant_1pt=0.875, train_loss=0.743] "
     ]
    },
    {
     "name": "stderr",
     "output_type": "stream",
     "text": [
      "Metric val_loss improved by 0.001 >= min_delta = 0.001. New best score: 0.579\n"
     ]
    },
    {
     "name": "stdout",
     "output_type": "stream",
     "text": [
      "Epoch 11: 100%|██████████| 315/315 [00:03<00:00, 93.41it/s, v_num=28, val_loss=0.576, val_accuracy_tolerant_1pt=0.870, train_loss=0.742] "
     ]
    },
    {
     "name": "stderr",
     "output_type": "stream",
     "text": [
      "Metric val_loss improved by 0.003 >= min_delta = 0.001. New best score: 0.576\n"
     ]
    },
    {
     "name": "stdout",
     "output_type": "stream",
     "text": [
      "Epoch 13: 100%|██████████| 315/315 [00:03<00:00, 98.03it/s, v_num=28, val_loss=0.575, val_accuracy_tolerant_1pt=0.876, train_loss=0.741] "
     ]
    },
    {
     "name": "stderr",
     "output_type": "stream",
     "text": [
      "Metric val_loss improved by 0.001 >= min_delta = 0.001. New best score: 0.575\n"
     ]
    },
    {
     "name": "stdout",
     "output_type": "stream",
     "text": [
      "Epoch 16: 100%|██████████| 315/315 [00:03<00:00, 101.42it/s, v_num=28, val_loss=0.573, val_accuracy_tolerant_1pt=0.876, train_loss=0.738]"
     ]
    },
    {
     "name": "stderr",
     "output_type": "stream",
     "text": [
      "Metric val_loss improved by 0.001 >= min_delta = 0.001. New best score: 0.573\n"
     ]
    },
    {
     "name": "stdout",
     "output_type": "stream",
     "text": [
      "Epoch 19: 100%|██████████| 315/315 [00:03<00:00, 98.75it/s, v_num=28, val_loss=0.573, val_accuracy_tolerant_1pt=0.876, train_loss=0.736] "
     ]
    },
    {
     "name": "stderr",
     "output_type": "stream",
     "text": [
      "`Trainer.fit` stopped: `max_epochs=20` reached.\n"
     ]
    },
    {
     "name": "stdout",
     "output_type": "stream",
     "text": [
      "Epoch 19: 100%|██████████| 315/315 [00:03<00:00, 98.49it/s, v_num=28, val_loss=0.573, val_accuracy_tolerant_1pt=0.876, train_loss=0.736]"
     ]
    },
    {
     "name": "stderr",
     "output_type": "stream",
     "text": [
      "Using default `ModelCheckpoint`. Consider installing `litmodels` package to enable `LitModelCheckpoint` for automatic upload to the Lightning model registry.\n"
     ]
    },
    {
     "name": "stdout",
     "output_type": "stream",
     "text": [
      "\n",
      "Available metrics for model RNN: dict_keys(['lr-AdamW', 'val_loss', 'val_accuracy_tolerant_1pt', 'train_loss'])\n",
      "RNN final val_loss = 0.5727\n",
      "▶ Training Transformer\n"
     ]
    },
    {
     "name": "stderr",
     "output_type": "stream",
     "text": [
      "GPU available: True (cuda), used: True\n",
      "TPU available: False, using: 0 TPU cores\n",
      "HPU available: False, using: 0 HPUs\n",
      "LOCAL_RANK: 0 - CUDA_VISIBLE_DEVICES: [0]\n",
      "\n",
      "  | Name                | Type               | Params | Mode \n",
      "-------------------------------------------------------------------\n",
      "0 | input_projection    | Linear             | 7.3 K  | train\n",
      "1 | input_norm          | LayerNorm          | 256    | train\n",
      "2 | pos_encoder         | PositionalEncoding | 0      | train\n",
      "3 | transformer_encoder | TransformerEncoder | 264 K  | train\n",
      "4 | output_head         | Sequential         | 8.3 K  | train\n",
      "5 | criterion           | SmoothL1Loss       | 0      | train\n",
      "-------------------------------------------------------------------\n",
      "280 K     Trainable params\n",
      "0         Non-trainable params\n",
      "280 K     Total params\n",
      "1.123     Total estimated model params size (MB)\n",
      "32        Modules in train mode\n",
      "0         Modules in eval mode\n"
     ]
    },
    {
     "name": "stdout",
     "output_type": "stream",
     "text": [
      "Epoch 0: 100%|██████████| 315/315 [00:05<00:00, 60.29it/s, v_num=50, val_loss=0.798, val_accuracy_tolerant_1pt=0.792, train_loss=1.050]"
     ]
    },
    {
     "name": "stderr",
     "output_type": "stream",
     "text": [
      "Metric val_loss improved. New best score: 0.798\n"
     ]
    },
    {
     "name": "stdout",
     "output_type": "stream",
     "text": [
      "Epoch 1: 100%|██████████| 315/315 [00:04<00:00, 63.04it/s, v_num=50, val_loss=0.598, val_accuracy_tolerant_1pt=0.850, train_loss=0.846]"
     ]
    },
    {
     "name": "stderr",
     "output_type": "stream",
     "text": [
      "Metric val_loss improved by 0.200 >= min_delta = 0.001. New best score: 0.598\n"
     ]
    },
    {
     "name": "stdout",
     "output_type": "stream",
     "text": [
      "Epoch 4: 100%|██████████| 315/315 [00:04<00:00, 66.95it/s, v_num=50, val_loss=0.607, val_accuracy_tolerant_1pt=0.836, train_loss=0.765]"
     ]
    },
    {
     "name": "stderr",
     "output_type": "stream",
     "text": [
      "c:\\Users\\asus\\miniconda3\\envs\\ai_project\\Lib\\site-packages\\torch\\optim\\lr_scheduler.py:240: UserWarning: The epoch parameter in `scheduler.step()` was not necessary and is being deprecated where possible. Please use `scheduler.step()` to step the scheduler. During the deprecation, if epoch is different from None, the closed form is used instead of the new chainable form, where available. Please open an issue if you are unable to replicate your use case: https://github.com/pytorch/pytorch/issues/new/choose.\n",
      "  warnings.warn(EPOCH_DEPRECATION_WARNING, UserWarning)\n"
     ]
    },
    {
     "name": "stdout",
     "output_type": "stream",
     "text": [
      "Epoch 4: 100%|██████████| 315/315 [00:05<00:00, 60.10it/s, v_num=50, val_loss=0.582, val_accuracy_tolerant_1pt=0.859, train_loss=0.757]"
     ]
    },
    {
     "name": "stderr",
     "output_type": "stream",
     "text": [
      "Metric val_loss improved by 0.016 >= min_delta = 0.001. New best score: 0.582\n"
     ]
    },
    {
     "name": "stdout",
     "output_type": "stream",
     "text": [
      "Epoch 5: 100%|██████████| 315/315 [00:05<00:00, 56.10it/s, v_num=50, val_loss=0.573, val_accuracy_tolerant_1pt=0.868, train_loss=0.753]"
     ]
    },
    {
     "name": "stderr",
     "output_type": "stream",
     "text": [
      "Metric val_loss improved by 0.009 >= min_delta = 0.001. New best score: 0.573\n"
     ]
    },
    {
     "name": "stdout",
     "output_type": "stream",
     "text": [
      "Epoch 7: 100%|██████████| 315/315 [00:05<00:00, 62.36it/s, v_num=50, val_loss=0.570, val_accuracy_tolerant_1pt=0.870, train_loss=0.745]"
     ]
    },
    {
     "name": "stderr",
     "output_type": "stream",
     "text": [
      "Metric val_loss improved by 0.003 >= min_delta = 0.001. New best score: 0.570\n"
     ]
    },
    {
     "name": "stdout",
     "output_type": "stream",
     "text": [
      "Epoch 17: 100%|██████████| 315/315 [00:05<00:00, 55.89it/s, v_num=50, val_loss=0.583, val_accuracy_tolerant_1pt=0.854, train_loss=0.732]"
     ]
    },
    {
     "name": "stderr",
     "output_type": "stream",
     "text": [
      "Monitored metric val_loss did not improve in the last 10 records. Best score: 0.570. Signaling Trainer to stop.\n"
     ]
    },
    {
     "name": "stdout",
     "output_type": "stream",
     "text": [
      "Epoch 17: 100%|██████████| 315/315 [00:05<00:00, 55.62it/s, v_num=50, val_loss=0.583, val_accuracy_tolerant_1pt=0.854, train_loss=0.732]"
     ]
    },
    {
     "name": "stderr",
     "output_type": "stream",
     "text": [
      "LOCAL_RANK: 0 - CUDA_VISIBLE_DEVICES: [0]\n"
     ]
    },
    {
     "name": "stdout",
     "output_type": "stream",
     "text": [
      "\n",
      "Available metrics for model Transformer: dict_keys(['lr-AdamW', 'val_loss', 'val_accuracy_tolerant_1pt', 'train_loss'])\n",
      "Transformer final val_loss = 0.5831\n",
      "\n",
      "✅ Best model: RNN (val_loss=0.5727)\n",
      "\n",
      "▶ Testing best model\n"
     ]
    },
    {
     "name": "stderr",
     "output_type": "stream",
     "text": [
      "c:\\Users\\asus\\miniconda3\\envs\\ai_project\\Lib\\site-packages\\pytorch_lightning\\trainer\\connectors\\data_connector.py:425: The 'test_dataloader' does not have many workers which may be a bottleneck. Consider increasing the value of the `num_workers` argument` to `num_workers=15` in the `DataLoader` to improve performance.\n"
     ]
    },
    {
     "name": "stdout",
     "output_type": "stream",
     "text": [
      "Testing DataLoader 0: 100%|██████████| 68/68 [00:00<00:00, 173.88it/s]\n"
     ]
    },
    {
     "data": {
      "text/html": [
       "<pre style=\"white-space:pre;overflow-x:auto;line-height:normal;font-family:Menlo,'DejaVu Sans Mono',consolas,'Courier New',monospace\">┏━━━━━━━━━━━━━━━━━━━━━━━━━━━━┳━━━━━━━━━━━━━━━━━━━━━━━━━━━━┓\n",
       "┃<span style=\"font-weight: bold\">        Test metric         </span>┃<span style=\"font-weight: bold\">        DataLoader 0        </span>┃\n",
       "┡━━━━━━━━━━━━━━━━━━━━━━━━━━━━╇━━━━━━━━━━━━━━━━━━━━━━━━━━━━┩\n",
       "│<span style=\"color: #008080; text-decoration-color: #008080\"> test_accuracy_tolerant_1pt </span>│<span style=\"color: #800080; text-decoration-color: #800080\">     0.9250927567481995     </span>│\n",
       "│<span style=\"color: #008080; text-decoration-color: #008080\">         test_loss          </span>│<span style=\"color: #800080; text-decoration-color: #800080\">     0.3091372847557068     </span>│\n",
       "│<span style=\"color: #008080; text-decoration-color: #008080\">     val_accuracy_exact     </span>│<span style=\"color: #800080; text-decoration-color: #800080\">     0.7880333662033081     </span>│\n",
       "└────────────────────────────┴────────────────────────────┘\n",
       "</pre>\n"
      ],
      "text/plain": [
       "┏━━━━━━━━━━━━━━━━━━━━━━━━━━━━┳━━━━━━━━━━━━━━━━━━━━━━━━━━━━┓\n",
       "┃\u001b[1m \u001b[0m\u001b[1m       Test metric        \u001b[0m\u001b[1m \u001b[0m┃\u001b[1m \u001b[0m\u001b[1m       DataLoader 0       \u001b[0m\u001b[1m \u001b[0m┃\n",
       "┡━━━━━━━━━━━━━━━━━━━━━━━━━━━━╇━━━━━━━━━━━━━━━━━━━━━━━━━━━━┩\n",
       "│\u001b[36m \u001b[0m\u001b[36mtest_accuracy_tolerant_1pt\u001b[0m\u001b[36m \u001b[0m│\u001b[35m \u001b[0m\u001b[35m    0.9250927567481995    \u001b[0m\u001b[35m \u001b[0m│\n",
       "│\u001b[36m \u001b[0m\u001b[36m        test_loss         \u001b[0m\u001b[36m \u001b[0m│\u001b[35m \u001b[0m\u001b[35m    0.3091372847557068    \u001b[0m\u001b[35m \u001b[0m│\n",
       "│\u001b[36m \u001b[0m\u001b[36m    val_accuracy_exact    \u001b[0m\u001b[36m \u001b[0m│\u001b[35m \u001b[0m\u001b[35m    0.7880333662033081    \u001b[0m\u001b[35m \u001b[0m│\n",
       "└────────────────────────────┴────────────────────────────┘\n"
      ]
     },
     "metadata": {},
     "output_type": "display_data"
    },
    {
     "name": "stdout",
     "output_type": "stream",
     "text": [
      "[{'test_loss': 0.3091372847557068, 'val_accuracy_exact': 0.7880333662033081, 'test_accuracy_tolerant_1pt': 0.9250927567481995}]\n",
      "78.80333662033081% of predictions was spot on\n",
      "Approximately 92.50927567481995% of predictions lie in a tolerance of 1\n"
     ]
    }
   ],
   "source": [
    "from pytorch_lightning import Trainer\n",
    "from pytorch_lightning.loggers import CSVLogger #use tensorboard here\n",
    "from pytorch_lightning.loggers import TensorBoardLogger\n",
    "\n",
    "\n",
    "\n",
    "logger = TensorBoardLogger(\"tb_logs\", name=\"fpl_experiment\") \n",
    "\n",
    "\n",
    "\n",
    "final_val_losses = {}\n",
    "csv_log_paths = {}\n",
    "\n",
    "\n",
    "\n",
    "# Fit each model\n",
    "for name, model in models.items():\n",
    "\n",
    "    logger = CSVLogger(f\"logs_{name}\", name=\"fpl_experiment\")\n",
    "\n",
    "    early_stop_callback = EarlyStopping(\n",
    "    monitor='val_loss',\n",
    "    min_delta=0.001, # Slightly smaller delta, as losses are already low\n",
    "    patience=10,      # Increase patience a bit to allow scheduler to work\n",
    "    verbose=True,\n",
    "    mode='min'\n",
    ")\n",
    "\n",
    "    # LearningRateMonitor \n",
    "    lr_monitor = LearningRateMonitor(logging_interval='epoch') \n",
    "\n",
    "\n",
    "    csv_log_paths[name] = logger.log_dir + \"/metrics.csv\"\n",
    "\n",
    "    print(f\"▶ Training {name}\")\n",
    "    trainer = Trainer(\n",
    "    max_epochs=20,\n",
    "    logger=logger,\n",
    "    gradient_clip_val= 1,\n",
    "    callbacks=[early_stop_callback, lr_monitor] \n",
    "    )\n",
    "    \n",
    "    trainer.fit(\n",
    "        model=model,\n",
    "        train_dataloaders=train_loader,\n",
    "        val_dataloaders=val_loader,\n",
    "    )\n",
    "\n",
    "    print(f\"Available metrics for model {name}: {model.trainer.callback_metrics.keys()}\")\n",
    "\n",
    "    val_loss = float(model.trainer.callback_metrics[\"val_loss\"])\n",
    "    final_val_losses[name] = val_loss\n",
    "    print(f\"{name} final val_loss = {val_loss:.4f}\")\n",
    "\n",
    "\n",
    "# 3. Select best\n",
    "best_name = min(final_val_losses, key=final_val_losses.get)\n",
    "best_model = models[best_name]\n",
    "print(f\"\\n✅ Best model: {best_name} (val_loss={final_val_losses[best_name]:.4f})\")\n",
    "\n",
    "\n",
    "# Test\n",
    "print(\"\\n▶ Testing best model\")\n",
    "test_results = trainer.test(\n",
    "    model=best_model,\n",
    "    dataloaders=test_loader,\n",
    ")\n",
    "print(test_results)\n",
    "\n",
    "print(f\"{test_results[0][\"val_accuracy_exact\"]*100}% of predictions was spot on\")\n",
    "print(f\"Approximately {test_results[0][\"test_accuracy_tolerant_1pt\"]*100}% of predictions lie in a tolerance of 1\")\n",
    "\n",
    "\n"
   ]
  },
  {
   "cell_type": "code",
   "execution_count": 136,
   "id": "c9eb566a",
   "metadata": {},
   "outputs": [
    {
     "name": "stdout",
     "output_type": "stream",
     "text": [
      "\n",
      "--- Visualizing Training and Validation Curves (Individual Plots) ---\n"
     ]
    },
    {
     "data": {
      "image/png": "[encoded data removed]",
      "text/plain": [
       "<Figure size 1000x600 with 1 Axes>"
      ]
     },
     "metadata": {},
     "output_type": "display_data"
    },
    {
     "data": {
      "image/png": "[encoded data removed]",
      "text/plain": [
       "<Figure size 1000x600 with 1 Axes>"
      ]
     },
     "metadata": {},
     "output_type": "display_data"
    },
    {
     "data": {
      "image/png": "[encoded data removed]",
      "text/plain": [
       "<Figure size 1000x600 with 1 Axes>"
      ]
     },
     "metadata": {},
     "output_type": "display_data"
    }
   ],
   "source": [
    "print(\"\\n--- Visualizing Training and Validation Curves (Individual Plots) ---\")\n",
    "sns.set_theme(style=\"whitegrid\")\n",
    "\n",
    "if not csv_log_paths:\n",
    "    print(\"No log paths found to plot.\")\n",
    "else:\n",
    "    for model_name, log_path in csv_log_paths.items():\n",
    "        if not os.path.exists(log_path):\n",
    "            print(f\"Log file not found for {model_name} at {log_path}. Skipping.\")\n",
    "            continue\n",
    "        \n",
    "        # Create a new figure for each model INSIDE the loop\n",
    "        plt.figure(figsize=(10, 6)) \n",
    "        \n",
    "        try:\n",
    "            metrics_df = pd.read_csv(log_path) # Load metrics for the CURRENT model\n",
    "            \n",
    "            plot_title = f\"{model_name}: Training & Validation Loss\"\n",
    "            has_plotted_something = False # Flag to check if any data was actually plotted for this model\n",
    "\n",
    "            # --- Validation Loss ---\n",
    "            if 'epoch' in metrics_df.columns and 'val_loss' in metrics_df.columns:\n",
    "                # CORRECTED: Define val_data from the current metrics_df\n",
    "                val_data_current_model = metrics_df.dropna(subset=['epoch', 'val_loss'])\n",
    "                if not val_data_current_model.empty:\n",
    "                    val_data_current_model = val_data_current_model.sort_values(by='epoch')\n",
    "                    plt.plot(val_data_current_model['epoch'], val_data_current_model['val_loss'], \n",
    "                             label=f'Validation Loss', linewidth=2.5, marker='o', markersize=4)\n",
    "                    has_plotted_something = True\n",
    "                else:\n",
    "                    print(f\"No valid 'val_loss' data with 'epoch' found for {model_name}.\")\n",
    "            else:\n",
    "                print(f\"Warning: 'val_loss' or 'epoch' not found for {model_name} in {log_path}\")\n",
    "\n",
    "            # --- Training Loss (Epoch Average) ---\n",
    "            train_loss_col_to_use = None\n",
    "            if 'train_loss_epoch' in metrics_df.columns: # Check for specific epoch average column\n",
    "                train_loss_col_to_use = 'train_loss_epoch'\n",
    "            elif 'train_loss' in metrics_df.columns and 'epoch' in metrics_df.columns:\n",
    "                # This assumes 'train_loss' is already the epoch average\n",
    "                train_loss_col_to_use = 'train_loss'\n",
    "            \n",
    "            if train_loss_col_to_use and 'epoch' in metrics_df.columns:\n",
    "                # CORRECTED: Define train_data from the current metrics_df\n",
    "                train_data_current_model = metrics_df.dropna(subset=['epoch', train_loss_col_to_use])\n",
    "                if not train_data_current_model.empty:\n",
    "                    train_data_current_model = train_data_current_model.sort_values(by='epoch')\n",
    "                    plt.plot(train_data_current_model['epoch'], train_data_current_model[train_loss_col_to_use], \n",
    "                             label=f'Train Loss', linestyle='--', marker='x', markersize=4)\n",
    "                    has_plotted_something = True\n",
    "                else:\n",
    "                     print(f\"No valid '{train_loss_col_to_use}' data with 'epoch' found for {model_name}.\")\n",
    "            else:\n",
    "                print(f\"Warning: Could not determine epoch-level training loss column for {model_name} in {log_path}\")\n",
    "\n",
    "            # Only show plot if something was actually plotted\n",
    "            if has_plotted_something:\n",
    "                plt.xlabel(\"Epoch\", fontsize=12)\n",
    "                plt.ylabel(\"Loss (MSE or L1)\", fontsize=12) # Update if you changed loss\n",
    "                plt.title(plot_title, fontsize=14)\n",
    "                plt.legend(fontsize=10)\n",
    "                plt.xticks(fontsize=10)\n",
    "                plt.yticks(fontsize=10)\n",
    "                plt.tight_layout()\n",
    "                plt.show() # Show plot for current model\n",
    "            else:\n",
    "                print(f\"No data plotted for model: {model_name}\")\n",
    "                plt.close() # Close the empty figure\n",
    "\n",
    "        except pd.errors.EmptyDataError:\n",
    "            print(f\"Log file {log_path} for {model_name} is empty. Skipping.\")\n",
    "            plt.close() # Close the figure if file is empty\n",
    "        except Exception as e:\n",
    "            print(f\"Error processing/plotting log for {model_name} from {log_path}: {e}\")\n",
    "            if plt.gcf().get_axes(): # If axes exist on current figure\n",
    "                plt.close() # Close the potentially broken plot"
   ]
  },
  {
   "cell_type": "markdown",
   "id": "4c42ebf1",
   "metadata": {},
   "source": [
    "## Fundamental Difficulty of FPL Prediction:\n",
    "FPL is notoriously hard to predict with high accuracy due to inherent randomness, injuries, sudden form changes, tactical shifts, etc. It's possible that with the current set of publicly available features, there's a natural limit to how well any model can perform, and your models are all hitting that limit quickly.\n",
    "\n",
    "All models might be quickly learning the \"easy\" part of the prediction (e.g., most players score 0-2 points).\n",
    "Beyond that, if the features you've engineered don't contain strong, consistent signals to differentiate between, say, a 2-point game and a 6-point game for the validation set, then no model, regardless of its complexity, will be able to make that distinction reliably on unseen data. They all hit the same \"information ceiling.\"\n",
    "\n",
    "\n",
    "Also good accuracy for players that score 0-2 points, however what about good players?"
   ]
  }
 ],
 "metadata": {
  "kernelspec": {
   "display_name": "ai_project",
   "language": "python",
   "name": "python3"
  },
  "language_info": {
   "codemirror_mode": {
    "name": "ipython",
    "version": 3
   },
   "file_extension": ".py",
   "mimetype": "text/x-python",
   "name": "python",
   "nbconvert_exporter": "python",
   "pygments_lexer": "ipython3",
   "version": "3.12.10"
  }
 },
 "nbformat": 4,
 "nbformat_minor": 5
}
