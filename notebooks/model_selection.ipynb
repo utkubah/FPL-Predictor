{
 "cells": [
  {
   "cell_type": "markdown",
   "id": "e9f0e524",
   "metadata": {},
   "source": [
    "# Model Selection Notebook\n",
    "\n",
    "**Objective:** Compare FNN, RNN and Transformer on FPL player‐sequence data, tune key hyperparameters, visualize training, and select the best model for evaluation\n"
   ]
  },
  {
   "cell_type": "markdown",
   "id": "e7ff5c11",
   "metadata": {},
   "source": [
    "### Getting the Data\n",
    "\n",
    "We use the `make_dataset.py` script to transform processed data into a model-ready format. This includes:\n",
    "\n",
    "- Dropping the necessary columns\n",
    "- Creating time sequences\n",
    "- Handling missing values\n",
    "- Creating attention masks\n",
    "\n",
    "\n",
    "What do we need to do:\n",
    "\n",
    "- Splitting into training/validation/test sets\n",
    "- Comparing different model architectures\n",
    "- Visualizing the training and model selection\n",
    "- Hyperparameter tuning\n"
   ]
  },
  {
   "cell_type": "code",
   "execution_count": 185,
   "id": "0aac0841",
   "metadata": {},
   "outputs": [],
   "source": [
    "# for corrent imports\n",
    "import sys\n",
    "from pathlib import Path\n",
    "\n",
    "PROJECT_ROOT = Path().resolve().parent  \n",
    "SRC_DIR       = PROJECT_ROOT / \"src\"\n",
    "DATA_DIR      = PROJECT_ROOT / \"data\"\n",
    "\n",
    "sys.path.insert(0, str(SRC_DIR))       \n"
   ]
  },
  {
   "cell_type": "code",
   "execution_count": 186,
   "id": "f9dc260b",
   "metadata": {},
   "outputs": [],
   "source": [
    "import numpy as np\n",
    "import pandas as pd\n",
    "import matplotlib.pyplot as plt\n",
    "import torch\n",
    "import torch.nn as nn\n",
    "import torch.optim as optim\n",
    "import pytorch_lightning as pl\n",
    "import math\n",
    "from torch.utils.data import DataLoader\n",
    "from torch.utils.data import Subset\n",
    "from data.make_dataset import prepare_player_sequences, FPLPlayerSequenceDataset\n",
    "from sklearn.preprocessing import StandardScaler\n",
    "import joblib"
   ]
  },
  {
   "cell_type": "code",
   "execution_count": null,
   "id": "18a5a01f",
   "metadata": {},
   "outputs": [
    {
     "name": "stdout",
     "output_type": "stream",
     "text": [
      "--- Starting Data Preparation for Sequences from C:\\Users\\asus\\OneDrive\\Desktop\\projects\\AI_project\\data\\processed_data.csv ---\n",
      "Successfully loaded data. Shape: (28742, 192)\n",
      "\n",
      "--- Cleaning Data and Selecting Numeric Features ---\n",
      "Column 'name' is of type object and couldn't be converted to numeric. Marked for dropping.\n",
      "Column 'position' is of type object and couldn't be converted to numeric. Marked for dropping.\n",
      "Column 'team' is of type object and couldn't be converted to numeric. Marked for dropping.\n",
      "Column 'kickoff_time' is of type object and couldn't be converted to numeric. Marked for dropping.\n",
      "Column 'xP' is of dropped for preventing data leakage.\n",
      "Column 'assists' is of dropped for preventing data leakage.\n",
      "Column 'bonus' is of dropped for preventing data leakage.\n",
      "Column 'bps' is of dropped for preventing data leakage.\n",
      "Column 'clean_sheets' is of dropped for preventing data leakage.\n",
      "Column 'creativity' is of dropped for preventing data leakage.\n",
      "Column 'expected_assists' is of dropped for preventing data leakage.\n",
      "Column 'expected_goal_involvements' is of dropped for preventing data leakage.\n",
      "Column 'expected_goals' is of dropped for preventing data leakage.\n",
      "Column 'expected_goals_conceded' is of dropped for preventing data leakage.\n",
      "Column 'goals_conceded' is of dropped for preventing data leakage.\n",
      "Column 'goals_scored' is of dropped for preventing data leakage.\n",
      "Column 'ict_index' is of dropped for preventing data leakage.\n",
      "Column 'influence' is of dropped for preventing data leakage.\n",
      "Column 'minutes' is of dropped for preventing data leakage.\n",
      "Column 'own_goals' is of dropped for preventing data leakage.\n",
      "Column 'penalties_missed' is of dropped for preventing data leakage.\n",
      "Column 'penalties_saved' is of dropped for preventing data leakage.\n",
      "Column 'red_cards' is of dropped for preventing data leakage.\n",
      "Column 'saves' is of dropped for preventing data leakage.\n",
      "Column 'selected' is of dropped for preventing data leakage.\n",
      "Column 'starts' is of dropped for preventing data leakage.\n",
      "Column 'threat' is of dropped for preventing data leakage.\n",
      "Column 'transfers_balance' is of dropped for preventing data leakage.\n",
      "Column 'transfers_in' is of dropped for preventing data leakage.\n",
      "Column 'transfers_out' is of dropped for preventing data leakage.\n",
      "Column 'value' is of dropped for preventing data leakage.\n",
      "Column 'yellow_cards' is of dropped for preventing data leakage.\n",
      "Note: 'player_id' is in selected features. It will be part of the dense sequence.\n",
      "Columns dropped: ['name', 'position', 'team', 'kickoff_time', 'xP', 'assists', 'bonus', 'bps', 'clean_sheets', 'creativity', 'expected_assists', 'expected_goal_involvements', 'expected_goals', 'expected_goals_conceded', 'goals_conceded', 'goals_scored', 'ict_index', 'influence', 'minutes', 'own_goals', 'penalties_missed', 'penalties_saved', 'red_cards', 'saves', 'selected', 'starts', 'threat', 'transfers_balance', 'transfers_in', 'transfers_out', 'value', 'yellow_cards']\n",
      "Selected 160 features for sequences: ['fixture', 'opponent_team', 'was_home', 'element', 'round']...\n",
      "\n",
      "Sorting data by 'player_id' and then 'GW'...\n",
      "\n",
      "--- Creating Fixed-Length Sequences (Max Gameweeks: 38) ---\n",
      "Successfully created sequences. Shape: (28742, 38, 160)\n",
      "Targets shape: (28742,)\n",
      "Attention masks shape: (28742, 38)\n"
     ]
    }
   ],
   "source": [
    "# generate sequences\n",
    "# work on the time issue\n",
    "sequences, masks, targets = prepare_player_sequences(\n",
    "    df_path=str(DATA_DIR / \"processed_data.csv\"),\n",
    "    target_col=\"total_points\",\n",
    "    max_gws_in_sequence= 38,\n",
    ")\n",
    "\n"
   ]
  },
  {
   "cell_type": "code",
   "execution_count": 224,
   "id": "1796c616",
   "metadata": {},
   "outputs": [],
   "source": [
    "# train/val/test split\n",
    "# we do it a chronological way \n",
    "\n",
    "n = sequences.shape[0]\n",
    "\n",
    "train_end = int(n * 0.70)          \n",
    "val_end   = train_end + int(n * 0.15)  \n",
    "\n",
    "train_idx = np.arange(0, train_end)\n",
    "val_idx   = np.arange(train_end, val_end)\n",
    "test_idx  = np.arange(val_end, n)\n"
   ]
  },
  {
   "cell_type": "code",
   "execution_count": null,
   "id": "c1fe682b",
   "metadata": {},
   "outputs": [
    {
     "name": "stdout",
     "output_type": "stream",
     "text": [
      "Fitting StandardScaler on training data features...\n",
      "Scaling train, val, and test sequences using the fitted scaler...\n"
     ]
    }
   ],
   "source": [
    "scaler = StandardScaler()\n",
    "print(\"Fitting StandardScaler on training data features...\")\n",
    "\n",
    "train_sequences_reshaped = sequences[train_idx].reshape(-1, sequences.shape[2])\n",
    "\n",
    "scaler.fit(train_sequences_reshaped)\n",
    "\n",
    "\n",
    "def scale_3d_sequences(sequence_array_3d, fitted_scaler):\n",
    "    if sequence_array_3d.shape[0] == 0: # Handle empty array\n",
    "        return sequence_array_3d \n",
    "    \n",
    "    original_shape = sequence_array_3d.shape\n",
    "    num_features_in_array = original_shape[2]\n",
    "    \n",
    "    # Reshape to 2D: [N_samples_in_split * S_seq_len, F_features]\n",
    "    reshaped_array = sequence_array_3d.reshape(-1, num_features_in_array)\n",
    "    \n",
    "    # Transform using the FITTED scaler\n",
    "    scaled_reshaped_array = fitted_scaler.transform(reshaped_array)\n",
    "    \n",
    "    # Reshape back to original 3D shape\n",
    "    return scaled_reshaped_array.reshape(original_shape)\n",
    "\n",
    "\n",
    "print(\"Scaling train, val, and test sequences using the fitted scaler...\")\n",
    "sequences_train_scaled = scale_3d_sequences(sequences[train_idx], scaler)\n",
    "sequences_val_scaled = scale_3d_sequences(sequences[val_idx], scaler)\n",
    "sequences_test_scaled = scale_3d_sequences(sequences[test_idx], scaler)"
   ]
  },
  {
   "cell_type": "code",
   "execution_count": 226,
   "id": "a0368ca3",
   "metadata": {},
   "outputs": [
    {
     "name": "stdout",
     "output_type": "stream",
     "text": [
      "Train/Val/Test sizes: 20119/4311/4312\n"
     ]
    }
   ],
   "source": [
    "masks_train = masks[train_idx]\n",
    "targets_train = targets[train_idx]\n",
    "\n",
    "masks_val = masks[val_idx]\n",
    "targets_val = targets[val_idx]\n",
    "\n",
    "masks_test = masks[test_idx]\n",
    "targets_test = targets[test_idx]\n",
    "\n",
    "\n",
    "train_ds = FPLPlayerSequenceDataset(sequences_train_scaled, targets_train, masks_train) \n",
    "val_ds = FPLPlayerSequenceDataset(sequences_val_scaled, targets_val, masks_val)     \n",
    "test_ds = FPLPlayerSequenceDataset(sequences_test_scaled, targets_test, masks_test)     \n",
    "\n",
    "\n",
    "\n",
    "\n",
    "train_loader = DataLoader(train_ds, batch_size=64, shuffle=True) \n",
    "val_loader   = DataLoader(val_ds, batch_size=64, shuffle=False)\n",
    "test_loader  = DataLoader(test_ds, batch_size=64, shuffle=False)\n",
    "\n",
    "\n",
    "print(f\"Train/Val/Test sizes: {len(train_ds)}/{len(val_ds)}/{len(test_ds)}\")"
   ]
  },
  {
   "cell_type": "code",
   "execution_count": 227,
   "id": "7d669c97",
   "metadata": {},
   "outputs": [
    {
     "name": "stdout",
     "output_type": "stream",
     "text": [
      "Sample batch - Sequences shape: torch.Size([64, 38, 160])\n",
      "Sample batch - Attention Mask shape: torch.Size([64, 38])\n",
      "Sample batch - Targets shape: torch.Size([64, 1])\n"
     ]
    }
   ],
   "source": [
    "sample_seq, sample_mask, sample_target = next(iter(train_loader))\n",
    "print(f\"Sample batch - Sequences shape: {sample_seq.shape}\")      # (batch_size, gameweeks, num_features)\n",
    "print(f\"Sample batch - Attention Mask shape: {sample_mask.shape}\") # (batch_size, gameweeks)\n",
    "print(f\"Sample batch - Targets shape: {sample_target.shape}\")       # (batch_size, 1)         \n"
   ]
  },
  {
   "cell_type": "markdown",
   "id": "ca8dc41e",
   "metadata": {},
   "source": [
    "## Model Architectures Under Consideration\n",
    "\n",
    "We define three architectures:\n",
    "- **FNN**: flatten inputs  \n",
    "- **RNN**: LSTM-based sequence model  \n",
    "- **Transformer**: self-attention encoder  \n",
    "\n",
    "All share the same input dims.\n",
    "\n",
    "**Loss Function:** We aim to predict FPL points, a continuous numerical value, making this a regression task. Common loss functions include Mean Squared Error (`nn.MSELoss()`), which heavily penalizes large errors, or Mean Absolute Error (`nn.L1Loss()`), which is less sensitive to outliers. We will start with `nn.MSELoss()`."
   ]
  },
  {
   "cell_type": "markdown",
   "id": "bbdd73be",
   "metadata": {},
   "source": [
    "### FNN"
   ]
  },
  {
   "cell_type": "code",
   "execution_count": 228,
   "id": "f4176a0f",
   "metadata": {},
   "outputs": [],
   "source": [
    "# FNN\n",
    "class FNN(pl.LightningModule):\n",
    "    def __init__(self, seq_len, n_features, hidden_dim=256, dropout=0.5, lr=1e-3, weight_decay = 1e-5):\n",
    "        super().__init__()\n",
    "        self.save_hyperparameters()\n",
    "        self.model = nn.Sequential(\n",
    "            nn.Flatten(),\n",
    "            nn.Linear(seq_len * n_features, hidden_dim),\n",
    "            nn.ReLU(),\n",
    "            nn.Dropout(dropout),\n",
    "            nn.Linear(hidden_dim,hidden_dim),\n",
    "            nn.ReLU(),\n",
    "            nn.Dropout(dropout),\n",
    "            nn.Linear(hidden_dim, 1),\n",
    "        )\n",
    "        self.criterion = nn.MSELoss()\n",
    "\n",
    "        self.lr = lr\n",
    "        self.weight_decay = weight_decay\n",
    "\n",
    "    def forward(self, x, mask=None):\n",
    "        return self.model(x)\n",
    "\n",
    "    def training_step(self, batch, batch_idx):\n",
    "        x, mask, y = batch\n",
    "        preds = self(x, mask)\n",
    "\n",
    "        loss = self.criterion(preds, y)\n",
    "        self.log(\"train_loss\", loss, prog_bar=True)\n",
    "        return loss\n",
    "\n",
    "    def validation_step(self, batch, batch_idx):\n",
    "        x, mask, y = batch\n",
    "        preds = self(x, mask)          \n",
    "\n",
    "        loss = self.criterion(preds, y)\n",
    "        self.log(\"val_loss\", loss, on_step=False, on_epoch=True, prog_bar=True, logger=True)\n",
    "\n",
    "        return loss\n",
    "    \n",
    "    def test_step(self, batch, batch_idx):\n",
    "        x, mask, y = batch\n",
    "        preds = self(x, mask)\n",
    "\n",
    "        loss = self.criterion(preds, y)\n",
    "        self.log(\"test_loss\", loss, on_step=False, on_epoch=True, prog_bar=True, logger=True)\n",
    "    \n",
    "        \n",
    "        return loss\n",
    "\n",
    "\n",
    "    def configure_optimizers(self):\n",
    "        optimizer = optim.AdamW(self.parameters(), lr=self.lr, weight_decay=self.weight_decay)\n",
    "        return optimizer\n",
    "    \n",
    "        # Optional: Add a learning rate scheduler\n",
    "        # scheduler = torch.optim.lr_scheduler.ReduceLROnPlateau(optimizer, 'min', patience=3, factor=0.5)\n",
    "        # return {\"optimizer\": optimizer, \"lr_scheduler\": {\"scheduler\": scheduler, \"monitor\": \"val_loss\"}}\n"
   ]
  },
  {
   "cell_type": "markdown",
   "id": "a48b46dd",
   "metadata": {},
   "source": [
    "### RNN"
   ]
  },
  {
   "cell_type": "code",
   "execution_count": 229,
   "id": "a6967feb",
   "metadata": {},
   "outputs": [],
   "source": [
    "# RNN\n",
    "from torch.nn.utils.rnn import pack_padded_sequence, pad_packed_sequence\n",
    "\n",
    "class RNN(pl.LightningModule):\n",
    "    def __init__(self, n_features, hidden_dim=256, n_layers=2, dropout=0.2, lr=1e-3, weight_decay = 1e-5):\n",
    "        super().__init__()\n",
    "        self.save_hyperparameters()\n",
    "        self.lstm = nn.LSTM(\n",
    "            input_size=n_features,\n",
    "            hidden_size=hidden_dim,\n",
    "            num_layers=n_layers,\n",
    "            batch_first=True,\n",
    "            dropout=dropout,\n",
    "        )\n",
    "        self.fc = nn.Linear(hidden_dim, 1)\n",
    "\n",
    "        \n",
    "        self.criterion = nn.MSELoss()\n",
    "\n",
    "        self.lr = lr\n",
    "        self.weight_decay = weight_decay\n",
    "\n",
    "    def forward(self, x, mask):\n",
    "        out, _ = self.lstm(x)\n",
    "        lengths = mask.sum(dim=1)       \n",
    "        idx = lengths - 1                \n",
    "\n",
    "\n",
    "        if (lengths == 0).any():\n",
    "            # This is a problematic batch. How to handle?\n",
    "            # Option 1: Raise error (stops training, indicates data issue)\n",
    "            # raise ValueError(\"Encountered sequence with zero length in RNN forward pass.\")\n",
    "            # Option 2: Try to output zeros (might hide data issues but prevent crash)\n",
    "            print(\"WARNING: RNN forward encountered sequence(s) with zero length!\")\n",
    "            # Create a zero output of the expected shape. This is a HACK.\n",
    "            # It's better to fix the data so this doesn't happen.\n",
    "            return torch.zeros(x.size(0), 1, device=x.device, dtype=x.dtype)\n",
    "      \n",
    "        \n",
    "        last = out[torch.arange(out.size(0)), idx]\n",
    "        return self.fc(last)\n",
    "    \n",
    "\n",
    "    def training_step(self, batch, batch_idx):\n",
    "        x, mask, y = batch\n",
    "        preds = self(x, mask)\n",
    "\n",
    "        loss = self.criterion(preds, y)\n",
    "        self.log(\"train_loss\", loss, prog_bar=True)\n",
    "        return loss\n",
    "\n",
    "    def validation_step(self, batch, batch_idx):\n",
    "        x, mask, y = batch\n",
    "        preds = self(x, mask)\n",
    "\n",
    "        loss = self.criterion(preds, y)\n",
    "        self.log(\"val_loss\", loss, on_step=False, on_epoch=True, prog_bar=True, logger=True)\n",
    "\n",
    "        return loss\n",
    "\n",
    "    def test_step(self, batch, batch_idx):\n",
    "        x, mask, y = batch\n",
    "        preds = self(x, mask)\n",
    "\n",
    "        loss = self.criterion(preds, y)\n",
    "        self.log(\"test_loss\", loss, on_step=False, on_epoch=True, prog_bar=True, logger=True)\n",
    "        \n",
    "        return loss\n",
    "\n",
    "    def configure_optimizers(self):\n",
    "        optimizer = optim.AdamW(self.parameters(), lr=self.lr, weight_decay=self.weight_decay)\n",
    "        return optimizer\n",
    "    \n"
   ]
  },
  {
   "cell_type": "markdown",
   "id": "bbde615e",
   "metadata": {},
   "source": [
    "### Transformer\n",
    "\n",
    "As transformers can't understand the order of the sequences we add a positional encoding to teach the order of gameweeks"
   ]
  },
  {
   "cell_type": "code",
   "execution_count": 230,
   "id": "f6ee205c",
   "metadata": {},
   "outputs": [],
   "source": [
    "class PositionalEncoding(nn.Module):\n",
    "    def __init__(self, d_model, dropout = 0.1, sequence_length = 38): \n",
    "        super().__init__()\n",
    "        self.dropout = nn.Dropout(p=dropout)\n",
    "\n",
    "        position = torch.arange(sequence_length).unsqueeze(1)\n",
    "        div_term = torch.exp(torch.arange(0, d_model, 2) * (-math.log(10000.0) / d_model))\n",
    "        pe = torch.zeros(sequence_length, 1, d_model)\n",
    "        \n",
    "        \n",
    "        pe[:, 0, 0::2] = torch.sin(position * div_term)\n",
    "        pe[:, 0, 1::2] = torch.cos(position * div_term)\n",
    "        self.register_buffer(\"pe\", pe)\n",
    "\n",
    "    def forward(self, x):\n",
    "        x = x + self.pe.squeeze(1)\n",
    "        return self.dropout(x)"
   ]
  },
  {
   "cell_type": "markdown",
   "id": "f2e71294",
   "metadata": {},
   "source": [
    "Then we use encoder only transformer model with a linear classification head"
   ]
  },
  {
   "cell_type": "code",
   "execution_count": 231,
   "id": "737979f2",
   "metadata": {},
   "outputs": [],
   "source": [
    "class Transformer(pl.LightningModule):\n",
    "    def __init__(self,\n",
    "                 input_features_dim,\n",
    "                 d_model = 64,\n",
    "                 nhead = 4,\n",
    "                 num_encoder_layers = 1,\n",
    "                 dim_feedforward = 128,\n",
    "                 dropout = 0.2,\n",
    "                 sequence_length = 38,\n",
    "                 lr = 1e-3, #change\n",
    "                 weight_decay = 1e-5):\n",
    "        \n",
    "        super().__init__()\n",
    "        self.save_hyperparameters()\n",
    "\n",
    "\n",
    "        # input projection layer necessary for positional encoding \n",
    "        self.input_projection = nn.Linear(input_features_dim, d_model)\n",
    "        nn.init.xavier_uniform_(self.input_projection.weight, gain=0.1)\n",
    "        nn.init.zeros_(self.input_projection.bias)\n",
    "\n",
    "        self.input_norm = nn.LayerNorm(d_model) #this solved it\n",
    "\n",
    "        self.pos_encoder = PositionalEncoding(d_model, dropout, sequence_length=sequence_length)\n",
    "\n",
    "\n",
    "        # encoder layer\n",
    "        encoder_layer = nn.TransformerEncoderLayer(\n",
    "            d_model=d_model,\n",
    "            nhead=nhead,\n",
    "            dim_feedforward=dim_feedforward,\n",
    "            dropout=dropout,\n",
    "            batch_first=True \n",
    "        )\n",
    "        self.transformer_encoder = nn.TransformerEncoder(encoder_layer, num_layers=num_encoder_layers)\n",
    "\n",
    "\n",
    "        # prediction head that predicts a single value (total_points)\n",
    "        self.output_head = nn.Sequential(\n",
    "            nn.Linear(d_model, d_model // 2),\n",
    "            nn.ReLU(),\n",
    "            nn.Dropout(dropout),\n",
    "            nn.Linear(d_model // 2, 1) \n",
    "        )\n",
    "\n",
    "        self.criterion = nn.MSELoss() \n",
    "\n",
    "        self.lr = lr\n",
    "        self.weight_decay = weight_decay\n",
    "\n",
    "\n",
    "    def _check_tensor_for_nan_inf(self, tensor, name=\"tensor\"): #used for debugging\n",
    "        has_nan = torch.isnan(tensor).any()\n",
    "        has_inf = torch.isinf(tensor).any()\n",
    "        if has_nan or has_inf:\n",
    "            print(f\"INVALID VAL DETECTED in {name}: NaNs? {has_nan}, Infs? {has_inf}. Shape: {tensor.shape}\")\n",
    "            # print(f\"Sample values from {name}: {tensor.flatten()[:10]}\") # Be careful printing large tensors\n",
    "            return True\n",
    "        return False\n",
    "\n",
    "\n",
    "    def forward(self, x, mask):\n",
    "        x = self.input_projection(x) # [batch_size, seq_len, d_model] \n",
    "        x = self.input_norm(x)  \n",
    "        x = nn.ReLU()(x) # Apply activation\n",
    "\n",
    "        self._check_tensor_for_nan_inf(x, \"After input_projection\")\n",
    "\n",
    "        # Add positional encoding\n",
    "        x = self.pos_encoder(x)\n",
    "        \n",
    "\n",
    "        # Pass through Transformer Encoder\n",
    "        transformer_padding_mask = ~mask # Invert: True for padded, False for valid\n",
    "        encoded_sequence = self.transformer_encoder(x, src_key_padding_mask=transformer_padding_mask) \n",
    "\n",
    "                \n",
    "        # can't feed a 3d tensor into a linear so \n",
    "        batch_size = encoded_sequence.size(0)\n",
    "        sequence_lengths = mask.sum(dim=1) \n",
    "        idx = sequence_lengths-1 # index of last valid gameweek\n",
    "\n",
    "        # turn into 2D and use the final week that captures the context of previous weeks to decide the total points\n",
    "        final_representation = encoded_sequence[torch.arange(batch_size), idx, :] \n",
    "        \n",
    "        prediction = self.output_head(final_representation) # [batch_size, 1]\n",
    "        return prediction\n",
    "\n",
    "\n",
    "    def training_step(self, batch, batch_idx):\n",
    "        x, mask, y = batch\n",
    "        preds = self(x, mask)\n",
    "\n",
    "        loss = self.criterion(preds, y)\n",
    "        \n",
    "        self.log(\"train_loss\", loss, prog_bar=True)\n",
    "        return loss\n",
    "\n",
    "    def validation_step(self, batch, batch_idx):\n",
    "        x, mask, y = batch\n",
    "        preds = self(x, mask)\n",
    "\n",
    "        loss = self.criterion(preds, y)\n",
    "        self.log(\"val_loss\", loss, on_step=False, on_epoch=True, prog_bar=True, logger=True)\n",
    "    \n",
    "        return loss\n",
    "\n",
    "\n",
    "    def test_step(self, batch, batch_idx):\n",
    "        x, mask, y = batch\n",
    "        preds = self(x, mask)\n",
    "\n",
    "        loss = self.criterion(preds, y)\n",
    "        self.log(\"test_loss\", loss, on_step=False, on_epoch=True, prog_bar=True, logger=True)\n",
    "    \n",
    "        \n",
    "        return loss\n",
    "\n",
    "    def configure_optimizers(self):\n",
    "        optimizer = optim.AdamW(self.parameters(), lr=self.lr, weight_decay=self.weight_decay)\n",
    "        return optimizer\n",
    "    "
   ]
  },
  {
   "cell_type": "markdown",
   "id": "f9f0c104",
   "metadata": {},
   "source": [
    "## Training"
   ]
  },
  {
   "cell_type": "code",
   "execution_count": 235,
   "id": "55e40bb6",
   "metadata": {},
   "outputs": [],
   "source": [
    "# Number of features and sequence length\n",
    "n_feats = sequences.shape[-1]\n",
    "seq_len = 38\n",
    "\n",
    "# Instantiate each LightningModule\n",
    "models = {\n",
    "    \n",
    "    \"FNN\": FNN(\n",
    "        seq_len=seq_len,\n",
    "        n_features=n_feats,\n",
    "    ),\n",
    "    \"RNN\": RNN(\n",
    "        n_features=n_feats,\n",
    "\n",
    "    ),\n",
    "    \n",
    "    \"Transformer\": Transformer(\n",
    "        input_features_dim=n_feats,\n",
    "    ),\n",
    "}\n",
    "\n"
   ]
  },
  {
   "cell_type": "code",
   "execution_count": 236,
   "id": "13ead27f",
   "metadata": {},
   "outputs": [
    {
     "name": "stderr",
     "output_type": "stream",
     "text": [
      "Using default `ModelCheckpoint`. Consider installing `litmodels` package to enable `LitModelCheckpoint` for automatic upload to the Lightning model registry.\n",
      "GPU available: True (cuda), used: True\n",
      "TPU available: False, using: 0 TPU cores\n",
      "HPU available: False, using: 0 HPUs\n",
      "LOCAL_RANK: 0 - CUDA_VISIBLE_DEVICES: [0]\n",
      "\n",
      "  | Name      | Type       | Params | Mode \n",
      "-------------------------------------------------\n",
      "0 | model     | Sequential | 1.6 M  | train\n",
      "1 | criterion | MSELoss    | 0      | train\n",
      "-------------------------------------------------\n",
      "1.6 M     Trainable params\n",
      "0         Non-trainable params\n",
      "1.6 M     Total params\n",
      "6.491     Total estimated model params size (MB)\n",
      "10        Modules in train mode\n",
      "0         Modules in eval mode\n"
     ]
    },
    {
     "name": "stdout",
     "output_type": "stream",
     "text": [
      "▶ Training FNN\n",
      "                                                                            "
     ]
    },
    {
     "name": "stderr",
     "output_type": "stream",
     "text": [
      "c:\\Users\\asus\\miniconda3\\envs\\ai_project\\Lib\\site-packages\\pytorch_lightning\\trainer\\connectors\\data_connector.py:425: The 'val_dataloader' does not have many workers which may be a bottleneck. Consider increasing the value of the `num_workers` argument` to `num_workers=15` in the `DataLoader` to improve performance.\n",
      "c:\\Users\\asus\\miniconda3\\envs\\ai_project\\Lib\\site-packages\\pytorch_lightning\\trainer\\connectors\\data_connector.py:425: The 'train_dataloader' does not have many workers which may be a bottleneck. Consider increasing the value of the `num_workers` argument` to `num_workers=15` in the `DataLoader` to improve performance.\n"
     ]
    },
    {
     "name": "stdout",
     "output_type": "stream",
     "text": [
      "Epoch 9: 100%|██████████| 315/315 [00:03<00:00, 87.46it/s, v_num=10, train_loss=1.380, val_loss=5.630] "
     ]
    },
    {
     "name": "stderr",
     "output_type": "stream",
     "text": [
      "`Trainer.fit` stopped: `max_epochs=10` reached.\n"
     ]
    },
    {
     "name": "stdout",
     "output_type": "stream",
     "text": [
      "Epoch 9: 100%|██████████| 315/315 [00:03<00:00, 86.03it/s, v_num=10, train_loss=1.380, val_loss=5.630]"
     ]
    },
    {
     "name": "stderr",
     "output_type": "stream",
     "text": [
      "Using default `ModelCheckpoint`. Consider installing `litmodels` package to enable `LitModelCheckpoint` for automatic upload to the Lightning model registry.\n"
     ]
    },
    {
     "name": "stdout",
     "output_type": "stream",
     "text": [
      "\n",
      "Available metrics for model FNN: dict_keys(['train_loss', 'val_loss'])\n",
      "FNN final val_loss = 5.6251\n",
      "▶ Training RNN\n"
     ]
    },
    {
     "name": "stderr",
     "output_type": "stream",
     "text": [
      "GPU available: True (cuda), used: True\n",
      "TPU available: False, using: 0 TPU cores\n",
      "HPU available: False, using: 0 HPUs\n",
      "LOCAL_RANK: 0 - CUDA_VISIBLE_DEVICES: [0]\n",
      "\n",
      "  | Name      | Type    | Params | Mode \n",
      "----------------------------------------------\n",
      "0 | lstm      | LSTM    | 954 K  | train\n",
      "1 | fc        | Linear  | 257    | train\n",
      "2 | criterion | MSELoss | 0      | train\n",
      "----------------------------------------------\n",
      "954 K     Trainable params\n",
      "0         Non-trainable params\n",
      "954 K     Total params\n",
      "3.818     Total estimated model params size (MB)\n",
      "3         Modules in train mode\n",
      "0         Modules in eval mode\n"
     ]
    },
    {
     "name": "stdout",
     "output_type": "stream",
     "text": [
      "Epoch 9: 100%|██████████| 315/315 [00:07<00:00, 43.94it/s, v_num=11, train_loss=0.519, val_loss=1.900] "
     ]
    },
    {
     "name": "stderr",
     "output_type": "stream",
     "text": [
      "`Trainer.fit` stopped: `max_epochs=10` reached.\n"
     ]
    },
    {
     "name": "stdout",
     "output_type": "stream",
     "text": [
      "Epoch 9: 100%|██████████| 315/315 [00:07<00:00, 43.69it/s, v_num=11, train_loss=0.519, val_loss=1.900]"
     ]
    },
    {
     "name": "stderr",
     "output_type": "stream",
     "text": [
      "Using default `ModelCheckpoint`. Consider installing `litmodels` package to enable `LitModelCheckpoint` for automatic upload to the Lightning model registry.\n"
     ]
    },
    {
     "name": "stdout",
     "output_type": "stream",
     "text": [
      "\n",
      "Available metrics for model RNN: dict_keys(['train_loss', 'val_loss'])\n",
      "RNN final val_loss = 1.9049\n",
      "▶ Training Transformer\n"
     ]
    },
    {
     "name": "stderr",
     "output_type": "stream",
     "text": [
      "GPU available: True (cuda), used: True\n",
      "TPU available: False, using: 0 TPU cores\n",
      "HPU available: False, using: 0 HPUs\n",
      "LOCAL_RANK: 0 - CUDA_VISIBLE_DEVICES: [0]\n",
      "\n",
      "  | Name                | Type               | Params | Mode \n",
      "-------------------------------------------------------------------\n",
      "0 | input_projection    | Linear             | 10.3 K | train\n",
      "1 | input_norm          | LayerNorm          | 128    | train\n",
      "2 | pos_encoder         | PositionalEncoding | 0      | train\n",
      "3 | transformer_encoder | TransformerEncoder | 33.5 K | train\n",
      "4 | output_head         | Sequential         | 2.1 K  | train\n",
      "5 | criterion           | MSELoss            | 0      | train\n",
      "-------------------------------------------------------------------\n",
      "46.0 K    Trainable params\n",
      "0         Non-trainable params\n",
      "46.0 K    Total params\n",
      "0.184     Total estimated model params size (MB)\n",
      "22        Modules in train mode\n",
      "0         Modules in eval mode\n"
     ]
    },
    {
     "name": "stdout",
     "output_type": "stream",
     "text": [
      "Epoch 9: 100%|██████████| 315/315 [00:05<00:00, 59.64it/s, v_num=12, train_loss=0.0942, val_loss=0.705]"
     ]
    },
    {
     "name": "stderr",
     "output_type": "stream",
     "text": [
      "`Trainer.fit` stopped: `max_epochs=10` reached.\n"
     ]
    },
    {
     "name": "stdout",
     "output_type": "stream",
     "text": [
      "Epoch 9: 100%|██████████| 315/315 [00:05<00:00, 59.49it/s, v_num=12, train_loss=0.0942, val_loss=0.705]"
     ]
    },
    {
     "name": "stderr",
     "output_type": "stream",
     "text": [
      "LOCAL_RANK: 0 - CUDA_VISIBLE_DEVICES: [0]\n"
     ]
    },
    {
     "name": "stdout",
     "output_type": "stream",
     "text": [
      "\n",
      "Available metrics for model Transformer: dict_keys(['train_loss', 'val_loss'])\n",
      "Transformer final val_loss = 0.7049\n",
      "\n",
      "✅ Best model: Transformer (val_loss=0.7049)\n",
      "\n",
      "▶ Testing best model\n"
     ]
    },
    {
     "name": "stderr",
     "output_type": "stream",
     "text": [
      "c:\\Users\\asus\\miniconda3\\envs\\ai_project\\Lib\\site-packages\\pytorch_lightning\\trainer\\connectors\\data_connector.py:425: The 'test_dataloader' does not have many workers which may be a bottleneck. Consider increasing the value of the `num_workers` argument` to `num_workers=15` in the `DataLoader` to improve performance.\n"
     ]
    },
    {
     "name": "stdout",
     "output_type": "stream",
     "text": [
      "Testing DataLoader 0: 100%|██████████| 68/68 [00:00<00:00, 125.33it/s]\n"
     ]
    },
    {
     "data": {
      "text/html": [
       "<pre style=\"white-space:pre;overflow-x:auto;line-height:normal;font-family:Menlo,'DejaVu Sans Mono',consolas,'Courier New',monospace\">┏━━━━━━━━━━━━━━━━━━━━━━━━━━━┳━━━━━━━━━━━━━━━━━━━━━━━━━━━┓\n",
       "┃<span style=\"font-weight: bold\">        Test metric        </span>┃<span style=\"font-weight: bold\">       DataLoader 0        </span>┃\n",
       "┡━━━━━━━━━━━━━━━━━━━━━━━━━━━╇━━━━━━━━━━━━━━━━━━━━━━━━━━━┩\n",
       "│<span style=\"color: #008080; text-decoration-color: #008080\">         test_loss         </span>│<span style=\"color: #800080; text-decoration-color: #800080\">    0.39891061186790466    </span>│\n",
       "└───────────────────────────┴───────────────────────────┘\n",
       "</pre>\n"
      ],
      "text/plain": [
       "┏━━━━━━━━━━━━━━━━━━━━━━━━━━━┳━━━━━━━━━━━━━━━━━━━━━━━━━━━┓\n",
       "┃\u001b[1m \u001b[0m\u001b[1m       Test metric       \u001b[0m\u001b[1m \u001b[0m┃\u001b[1m \u001b[0m\u001b[1m      DataLoader 0       \u001b[0m\u001b[1m \u001b[0m┃\n",
       "┡━━━━━━━━━━━━━━━━━━━━━━━━━━━╇━━━━━━━━━━━━━━━━━━━━━━━━━━━┩\n",
       "│\u001b[36m \u001b[0m\u001b[36m        test_loss        \u001b[0m\u001b[36m \u001b[0m│\u001b[35m \u001b[0m\u001b[35m   0.39891061186790466   \u001b[0m\u001b[35m \u001b[0m│\n",
       "└───────────────────────────┴───────────────────────────┘\n"
      ]
     },
     "metadata": {},
     "output_type": "display_data"
    },
    {
     "name": "stdout",
     "output_type": "stream",
     "text": [
      "[{'test_loss': 0.39891061186790466}]\n"
     ]
    }
   ],
   "source": [
    "from pytorch_lightning import Trainer\n",
    "from pytorch_lightning.loggers import CSVLogger #use tensorboard here\n",
    "from pytorch_lightning.loggers import TensorBoardLogger\n",
    "\n",
    "\n",
    "\n",
    "logger = TensorBoardLogger(\"tb_logs\", name=\"fpl_experiment\") \n",
    "\n",
    "\n",
    "\n",
    "final_val_losses = {}\n",
    "csv_log_paths = {}\n",
    "\n",
    "\n",
    "\n",
    "# Fit each model\n",
    "for name, model in models.items():\n",
    "\n",
    "    logger = CSVLogger(\"csv_logs\", name=\"fpl_experiment\")\n",
    "\n",
    "    csv_log_paths[name] = logger.log_dir + \"/metrics.csv\"\n",
    "\n",
    "    print(f\"▶ Training {name}\")\n",
    "    trainer = Trainer(\n",
    "    max_epochs=10,\n",
    "    logger=logger,\n",
    "    gradient_clip_val= 1\n",
    "    )\n",
    "    \n",
    "    trainer.fit(\n",
    "        model=model,\n",
    "        train_dataloaders=train_loader,\n",
    "        val_dataloaders=val_loader,\n",
    "    )\n",
    "\n",
    "    print(f\"Available metrics for model {name}: {model.trainer.callback_metrics.keys()}\")\n",
    "\n",
    "    val_loss = float(model.trainer.callback_metrics[\"val_loss\"])\n",
    "    final_val_losses[name] = val_loss\n",
    "    print(f\"{name} final val_loss = {val_loss:.4f}\")\n",
    "\n",
    "\n",
    "# 3. Select best\n",
    "best_name = min(final_val_losses, key=final_val_losses.get)\n",
    "best_model = models[best_name]\n",
    "print(f\"\\n✅ Best model: {best_name} (val_loss={final_val_losses[best_name]:.4f})\")\n",
    "\n",
    "\n",
    "# Test\n",
    "print(\"\\n▶ Testing best model\")\n",
    "test_results = trainer.test(\n",
    "    model=best_model,\n",
    "    dataloaders=test_loader,\n",
    ")\n",
    "print(test_results)\n",
    "\n",
    "\n"
   ]
  },
  {
   "cell_type": "code",
   "execution_count": 237,
   "id": "91851756",
   "metadata": {},
   "outputs": [
    {
     "data": {
      "image/png": "[encoded data removed]",
      "text/plain": [
       "<Figure size 1200x800 with 1 Axes>"
      ]
     },
     "metadata": {},
     "output_type": "display_data"
    }
   ],
   "source": [
    "# Plotting after all models have trained\n",
    "import seaborn as sns\n",
    "\n",
    "plt.figure(figsize=(12, 8))\n",
    "sns.set_style(\"whitegrid\")\n",
    "\n",
    "for model_name, log_path in csv_log_paths.items():\n",
    "\n",
    "    try:\n",
    "        metrics_df = pd.read_csv(log_path)\n",
    "        \n",
    "        # Plot training loss (usually logged per step, then epoch average)\n",
    "        # We are interested in epoch-level losses for this plot.\n",
    "        # CSVLogger might save step-wise and epoch-wise. Look for 'epoch' column.\n",
    "        # If 'train_loss' is logged with on_epoch=True, it appears with an epoch number.\n",
    "        # If 'train_loss_step' and 'train_loss_epoch' exist, use 'train_loss_epoch'.\n",
    "        # For simplicity, let's assume 'epoch' column exists and 'train_loss' is the epoch avg.\n",
    "\n",
    "        if 'epoch' in metrics_df.columns:\n",
    "            epoch_metrics = metrics_df.dropna(subset=['epoch']) # Ensure epoch is not NaN\n",
    "            \n",
    "            if 'train_loss' in epoch_metrics.columns: # Check if epoch-level train_loss exists\n",
    "                # If train_loss is logged per step, there might be multiple entries per epoch.\n",
    "                # We need the epoch-level summary. If your `self.log` for train_loss has\n",
    "                # on_step=False, on_epoch=True, then 'train_loss' will be the epoch average.\n",
    "                # If it was on_step=True, on_epoch=True, you might have 'train_loss_step' and 'train_loss_epoch'.\n",
    "                # Let's assume 'train_loss' in the CSV is the one we want per epoch.\n",
    "                # We need to handle cases where 'train_loss' might be NaN for rows where only 'val_loss' is logged.\n",
    "                train_loss_data = epoch_metrics.dropna(subset=['train_loss'])\n",
    "                plt.plot(train_loss_data['epoch'], train_loss_data['train_loss'], \n",
    "                         label=f'{model_name} Train Loss', linestyle='--')\n",
    "\n",
    "            if 'val_loss' in epoch_metrics.columns:\n",
    "                val_loss_data = epoch_metrics.dropna(subset=['val_loss']) # val_loss is logged per epoch\n",
    "                plt.plot(val_loss_data['epoch'], val_loss_data['val_loss'], \n",
    "                         label=f'{model_name} Val Loss', linewidth=2)\n",
    "        else:\n",
    "            print(f\"Warning: 'epoch' column not found in {log_path} for {model_name}. Cannot plot epoch-wise.\")\n",
    "\n",
    "    except FileNotFoundError:\n",
    "        print(f\"Log file not found for {model_name} at {log_path}\")\n",
    "    except Exception as e:\n",
    "        print(f\"Error processing log for {model_name}: {e}\")\n",
    "\n",
    "plt.xlabel(\"Epoch\")\n",
    "plt.ylabel(\"Loss (MSE)\")\n",
    "plt.title(\"Training and Validation Loss Curves\")\n",
    "plt.legend()\n",
    "plt.show()"
   ]
  }
 ],
 "metadata": {
  "kernelspec": {
   "display_name": "ai_project",
   "language": "python",
   "name": "python3"
  },
  "language_info": {
   "codemirror_mode": {
    "name": "ipython",
    "version": 3
   },
   "file_extension": ".py",
   "mimetype": "text/x-python",
   "name": "python",
   "nbconvert_exporter": "python",
   "pygments_lexer": "ipython3",
   "version": "3.12.10"
  }
 },
 "nbformat": 4,
 "nbformat_minor": 5
}
